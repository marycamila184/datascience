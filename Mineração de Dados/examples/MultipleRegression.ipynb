{
  "nbformat": 4,
  "nbformat_minor": 0,
  "metadata": {
    "kernelspec": {
      "display_name": "R",
      "language": "R",
      "name": "ir"
    },
    "language_info": {
      "codemirror_mode": "r",
      "file_extension": ".r",
      "mimetype": "text/x-r-source",
      "name": "R",
      "pygments_lexer": "r",
      "version": "3.3.1"
    },
    "colab": {
      "name": "MultipleRegression.ipynb",
      "provenance": [],
      "collapsed_sections": []
    }
  },
  "cells": [
    {
      "cell_type": "markdown",
      "metadata": {
        "id": "U0_po2UCeprW",
        "colab_type": "text"
      },
      "source": [
        "**Regressao linear múltipla**"
      ]
    },
    {
      "cell_type": "code",
      "metadata": {
        "id": "i700h-Jh5b4N",
        "colab_type": "code",
        "outputId": "9f159902-4b14-4ea2-d8fe-b29c3295053c",
        "colab": {
          "base_uri": "https://localhost:8080/",
          "height": 125
        }
      },
      "source": [
        "install.packages(\"glmnet\")\n",
        "install.packages(\"caret\")"
      ],
      "execution_count": 0,
      "outputs": [
        {
          "output_type": "stream",
          "text": [
            "Installing package into ‘/usr/local/lib/R/site-library’\n",
            "(as ‘lib’ is unspecified)\n",
            "Installing package into ‘/usr/local/lib/R/site-library’\n",
            "(as ‘lib’ is unspecified)\n",
            "also installing the dependencies ‘numDeriv’, ‘SQUAREM’, ‘lava’, ‘prodlim’, ‘data.table’, ‘gower’, ‘ipred’, ‘timeDate’, ‘ModelMetrics’, ‘recipes’\n",
            "\n"
          ],
          "name": "stderr"
        }
      ]
    },
    {
      "cell_type": "code",
      "metadata": {
        "id": "oKp9ywEQ3Pei",
        "colab_type": "code",
        "colab": {}
      },
      "source": [
        "modelo <- lm(Sales~TV+Radio+Newspaper, data = advertisingData )\n",
        "summary(modelo)"
      ],
      "execution_count": 0,
      "outputs": []
    },
    {
      "cell_type": "code",
      "metadata": {
        "id": "zjdvqoVva8Y1",
        "colab_type": "code",
        "outputId": "049e459f-37f6-4706-d215-fbce32d2cec1",
        "colab": {
          "base_uri": "https://localhost:8080/",
          "height": 222
        }
      },
      "source": [
        "library(caret)\n",
        "library(glmnet)\n",
        "\n",
        "advertisingData <- read.csv(\"http://dainf.ct.utfpr.edu.br/~thiagohs/data/regression/Advertising.csv\", header = TRUE, sep=',')\n",
        "head(advertisingData)\n",
        "\n"
      ],
      "execution_count": 0,
      "outputs": [
        {
          "output_type": "stream",
          "text": [
            "Loading required package: lattice\n"
          ],
          "name": "stderr"
        },
        {
          "output_type": "display_data",
          "data": {
            "text/plain": [
              "  X TV    Radio Newspaper Sales\n",
              "1 1 230.1 37.8  69.2      22.1 \n",
              "2 2  44.5 39.3  45.1      10.4 \n",
              "3 3  17.2 45.9  69.3       9.3 \n",
              "4 4 151.5 41.3  58.5      18.5 \n",
              "5 5 180.8 10.8  58.4      12.9 \n",
              "6 6   8.7 48.9  75.0       7.2 "
            ],
            "text/latex": "A data.frame: 6 × 5\n\\begin{tabular}{r|lllll}\n X & TV & Radio & Newspaper & Sales\\\\\n <int> & <dbl> & <dbl> & <dbl> & <dbl>\\\\\n\\hline\n\t 1 & 230.1 & 37.8 & 69.2 & 22.1\\\\\n\t 2 &  44.5 & 39.3 & 45.1 & 10.4\\\\\n\t 3 &  17.2 & 45.9 & 69.3 &  9.3\\\\\n\t 4 & 151.5 & 41.3 & 58.5 & 18.5\\\\\n\t 5 & 180.8 & 10.8 & 58.4 & 12.9\\\\\n\t 6 &   8.7 & 48.9 & 75.0 &  7.2\\\\\n\\end{tabular}\n",
            "text/markdown": "\nA data.frame: 6 × 5\n\n| X &lt;int&gt; | TV &lt;dbl&gt; | Radio &lt;dbl&gt; | Newspaper &lt;dbl&gt; | Sales &lt;dbl&gt; |\n|---|---|---|---|---|\n| 1 | 230.1 | 37.8 | 69.2 | 22.1 |\n| 2 |  44.5 | 39.3 | 45.1 | 10.4 |\n| 3 |  17.2 | 45.9 | 69.3 |  9.3 |\n| 4 | 151.5 | 41.3 | 58.5 | 18.5 |\n| 5 | 180.8 | 10.8 | 58.4 | 12.9 |\n| 6 |   8.7 | 48.9 | 75.0 |  7.2 |\n\n",
            "text/html": [
              "<table>\n",
              "<caption>A data.frame: 6 × 5</caption>\n",
              "<thead>\n",
              "\t<tr><th scope=col>X</th><th scope=col>TV</th><th scope=col>Radio</th><th scope=col>Newspaper</th><th scope=col>Sales</th></tr>\n",
              "\t<tr><th scope=col>&lt;int&gt;</th><th scope=col>&lt;dbl&gt;</th><th scope=col>&lt;dbl&gt;</th><th scope=col>&lt;dbl&gt;</th><th scope=col>&lt;dbl&gt;</th></tr>\n",
              "</thead>\n",
              "<tbody>\n",
              "\t<tr><td>1</td><td>230.1</td><td>37.8</td><td>69.2</td><td>22.1</td></tr>\n",
              "\t<tr><td>2</td><td> 44.5</td><td>39.3</td><td>45.1</td><td>10.4</td></tr>\n",
              "\t<tr><td>3</td><td> 17.2</td><td>45.9</td><td>69.3</td><td> 9.3</td></tr>\n",
              "\t<tr><td>4</td><td>151.5</td><td>41.3</td><td>58.5</td><td>18.5</td></tr>\n",
              "\t<tr><td>5</td><td>180.8</td><td>10.8</td><td>58.4</td><td>12.9</td></tr>\n",
              "\t<tr><td>6</td><td>  8.7</td><td>48.9</td><td>75.0</td><td> 7.2</td></tr>\n",
              "</tbody>\n",
              "</table>\n"
            ]
          },
          "metadata": {
            "tags": []
          }
        }
      ]
    },
    {
      "cell_type": "markdown",
      "metadata": {
        "id": "f24uu1CM3QIH",
        "colab_type": "text"
      },
      "source": [
        ""
      ]
    },
    {
      "cell_type": "code",
      "metadata": {
        "id": "LS7hyB3bfTPg",
        "colab_type": "code",
        "outputId": "5dae0898-49fb-4d35-dee8-c095de0f3683",
        "colab": {
          "base_uri": "https://localhost:8080/",
          "height": 162
        }
      },
      "source": [
        "cor(advertisingData)"
      ],
      "execution_count": 0,
      "outputs": [
        {
          "output_type": "display_data",
          "data": {
            "text/plain": [
              "          X           TV         Radio       Newspaper   Sales      \n",
              "X          1.00000000 0.01771469 -0.11068044 -0.15494414 -0.05161625\n",
              "TV         0.01771469 1.00000000  0.05480866  0.05664787  0.78222442\n",
              "Radio     -0.11068044 0.05480866  1.00000000  0.35410375  0.57622257\n",
              "Newspaper -0.15494414 0.05664787  0.35410375  1.00000000  0.22829903\n",
              "Sales     -0.05161625 0.78222442  0.57622257  0.22829903  1.00000000"
            ],
            "text/latex": "A matrix: 5 × 5 of type dbl\n\\begin{tabular}{r|lllll}\n  & X & TV & Radio & Newspaper & Sales\\\\\n\\hline\n\tX &  1.00000000 & 0.01771469 & -0.11068044 & -0.15494414 & -0.05161625\\\\\n\tTV &  0.01771469 & 1.00000000 &  0.05480866 &  0.05664787 &  0.78222442\\\\\n\tRadio & -0.11068044 & 0.05480866 &  1.00000000 &  0.35410375 &  0.57622257\\\\\n\tNewspaper & -0.15494414 & 0.05664787 &  0.35410375 &  1.00000000 &  0.22829903\\\\\n\tSales & -0.05161625 & 0.78222442 &  0.57622257 &  0.22829903 &  1.00000000\\\\\n\\end{tabular}\n",
            "text/markdown": "\nA matrix: 5 × 5 of type dbl\n\n| <!--/--> | X | TV | Radio | Newspaper | Sales |\n|---|---|---|---|---|---|\n| X |  1.00000000 | 0.01771469 | -0.11068044 | -0.15494414 | -0.05161625 |\n| TV |  0.01771469 | 1.00000000 |  0.05480866 |  0.05664787 |  0.78222442 |\n| Radio | -0.11068044 | 0.05480866 |  1.00000000 |  0.35410375 |  0.57622257 |\n| Newspaper | -0.15494414 | 0.05664787 |  0.35410375 |  1.00000000 |  0.22829903 |\n| Sales | -0.05161625 | 0.78222442 |  0.57622257 |  0.22829903 |  1.00000000 |\n\n",
            "text/html": [
              "<table>\n",
              "<caption>A matrix: 5 × 5 of type dbl</caption>\n",
              "<thead>\n",
              "\t<tr><th></th><th scope=col>X</th><th scope=col>TV</th><th scope=col>Radio</th><th scope=col>Newspaper</th><th scope=col>Sales</th></tr>\n",
              "</thead>\n",
              "<tbody>\n",
              "\t<tr><th scope=row>X</th><td> 1.00000000</td><td>0.01771469</td><td>-0.11068044</td><td>-0.15494414</td><td>-0.05161625</td></tr>\n",
              "\t<tr><th scope=row>TV</th><td> 0.01771469</td><td>1.00000000</td><td> 0.05480866</td><td> 0.05664787</td><td> 0.78222442</td></tr>\n",
              "\t<tr><th scope=row>Radio</th><td>-0.11068044</td><td>0.05480866</td><td> 1.00000000</td><td> 0.35410375</td><td> 0.57622257</td></tr>\n",
              "\t<tr><th scope=row>Newspaper</th><td>-0.15494414</td><td>0.05664787</td><td> 0.35410375</td><td> 1.00000000</td><td> 0.22829903</td></tr>\n",
              "\t<tr><th scope=row>Sales</th><td>-0.05161625</td><td>0.78222442</td><td> 0.57622257</td><td> 0.22829903</td><td> 1.00000000</td></tr>\n",
              "</tbody>\n",
              "</table>\n"
            ]
          },
          "metadata": {
            "tags": []
          }
        }
      ]
    },
    {
      "cell_type": "markdown",
      "metadata": {
        "id": "kvPSVHFl6fO1",
        "colab_type": "text"
      },
      "source": [
        "**Regressão de ridge - exemplo**"
      ]
    },
    {
      "cell_type": "code",
      "metadata": {
        "id": "-QbhOeYa-1Gp",
        "colab_type": "code",
        "outputId": "5881268a-9d19-41f9-f400-f1403a3e7aad",
        "colab": {
          "base_uri": "https://localhost:8080/",
          "height": 34
        }
      },
      "source": [
        "rand <- sample(nrow(advertisingData),150)\n",
        "treino <- advertisingData[rand,]\n",
        "teste <- advertisingData[-rand,]\n",
        "\n",
        "nrow(teste)"
      ],
      "execution_count": 0,
      "outputs": [
        {
          "output_type": "display_data",
          "data": {
            "text/plain": [
              "[1] 50"
            ],
            "text/latex": "50",
            "text/markdown": "50",
            "text/html": [
              "50"
            ]
          },
          "metadata": {
            "tags": []
          }
        }
      ]
    },
    {
      "cell_type": "code",
      "metadata": {
        "id": "tml1xwpN6TM4",
        "colab_type": "code",
        "outputId": "5205b98b-09eb-4345-ea14-ce7325cdf8c3",
        "colab": {
          "base_uri": "https://localhost:8080/",
          "height": 125
        }
      },
      "source": [
        "set.seed(123) \n",
        "\n",
        "y <- treino$Sales\n",
        "x <- data.matrix(treino[, c(\"TV\", \"Radio\", \"Newspaper\")])  \n",
        "\n",
        "\n",
        "cv <- cv.glmnet(x, y, alpha = 0)\n",
        "modelRidge <- glmnet(x, y, alpha = 0, lambda = cv$lambda.min)\n",
        "\n",
        "coef(modelRidge)"
      ],
      "execution_count": 0,
      "outputs": [
        {
          "output_type": "display_data",
          "data": {
            "text/plain": [
              "4 x 1 sparse Matrix of class \"dgCMatrix\"\n",
              "                       s0\n",
              "(Intercept)  3.7770403898\n",
              "TV           0.0418288034\n",
              "Radio        0.1798385016\n",
              "Newspaper   -0.0006915791"
            ]
          },
          "metadata": {
            "tags": []
          }
        }
      ]
    }
  ]
}