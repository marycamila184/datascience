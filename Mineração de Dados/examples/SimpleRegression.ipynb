{
  "nbformat": 4,
  "nbformat_minor": 0,
  "metadata": {
    "kernelspec": {
      "display_name": "R",
      "language": "R",
      "name": "ir"
    },
    "language_info": {
      "codemirror_mode": "r",
      "file_extension": ".r",
      "mimetype": "text/x-r-source",
      "name": "R",
      "pygments_lexer": "r",
      "version": "3.3.1"
    },
    "colab": {
      "name": "SimpleRegression.ipynb",
      "provenance": []
    }
  },
  "cells": [
    {
      "cell_type": "markdown",
      "metadata": {
        "id": "U0_po2UCeprW",
        "colab_type": "text"
      },
      "source": [
        "**Exercicio 1 - Regressao linear simples**"
      ]
    },
    {
      "cell_type": "code",
      "metadata": {
        "id": "zjdvqoVva8Y1",
        "colab_type": "code",
        "outputId": "ea2fddcd-2837-4c03-e924-194f6b05c99c",
        "colab": {
          "base_uri": "https://localhost:8080/",
          "height": 51
        }
      },
      "source": [
        "dias <- c(1,2,4,8,16,25)\n",
        "tempo <- c(0.65,0.79,1.36,2.26,3.59,5.36)\n",
        "\n",
        "mediaDias <- mean(dias)\n",
        "mediaTempo <- mean(tempo)\n",
        "\n",
        "b1 <- sum((dias-mediaDias)*(tempo-mediaTempo))/sum((dias-mediaDias)^2)\n",
        "b0 <- mediaTempo - (b1)*(mediaDias)\n",
        "\n",
        "b0\n",
        "b1"
      ],
      "execution_count": 0,
      "outputs": [
        {
          "output_type": "display_data",
          "data": {
            "text/plain": [
              "[1] 0.5154211"
            ],
            "text/latex": "0.515421052631579",
            "text/markdown": "0.515421052631579",
            "text/html": [
              "0.515421052631579"
            ]
          },
          "metadata": {
            "tags": []
          }
        },
        {
          "output_type": "display_data",
          "data": {
            "text/plain": [
              "[1] 0.1949549"
            ],
            "text/latex": "0.194954887218045",
            "text/markdown": "0.194954887218045",
            "text/html": [
              "0.194954887218045"
            ]
          },
          "metadata": {
            "tags": []
          }
        }
      ]
    },
    {
      "cell_type": "code",
      "metadata": {
        "id": "36w_0ktAfMP7",
        "colab_type": "code",
        "outputId": "adf51345-8b11-4882-c7be-7d67b7064fec",
        "colab": {
          "base_uri": "https://localhost:8080/",
          "height": 34
        }
      },
      "source": [
        "tempoPrevisao <- b0+b1*dias\n",
        "\n",
        "SSE <- sum((tempo-tempoPrevisao)^2)\n",
        "TSS <-sum((tempo- mediaTempo)^2)\n",
        "R2 <- (TSS-SSE)/TSS\n",
        "\n",
        "#R2 eh equivalente ao coeficiente de correlacao (r) ao quadrado (r2)\n",
        "cor(dias,tempo)^2\n"
      ],
      "execution_count": 0,
      "outputs": [
        {
          "output_type": "display_data",
          "data": {
            "text/plain": [
              "[1] 0.9965579"
            ],
            "text/latex": "0.99655792634059",
            "text/markdown": "0.99655792634059",
            "text/html": [
              "0.99655792634059"
            ]
          },
          "metadata": {
            "tags": []
          }
        }
      ]
    },
    {
      "cell_type": "code",
      "metadata": {
        "id": "LS7hyB3bfTPg",
        "colab_type": "code",
        "outputId": "cf93ea7b-c08f-437b-9c7e-bd5cc7366ce3",
        "colab": {
          "base_uri": "https://localhost:8080/",
          "height": 1000
        }
      },
      "source": [
        "#---------Usando funcoes do R para fazer os mesmos calculos\n",
        "modelo <- lm(tempo~dias)\n",
        "summary(modelo)\n",
        "confint(modelo,level = 0.90)\n",
        "\n",
        "plot(dias,tempo)\n",
        "abline(modelo$coefficients)\n",
        "\n"
      ],
      "execution_count": 0,
      "outputs": [
        {
          "output_type": "display_data",
          "data": {
            "text/plain": [
              "\n",
              "Call:\n",
              "lm(formula = tempo ~ dias)\n",
              "\n",
              "Residuals:\n",
              "       1        2        3        4        5        6 \n",
              "-0.06038 -0.11533  0.06476  0.18494 -0.04470 -0.02929 \n",
              "\n",
              "Coefficients:\n",
              "            Estimate Std. Error t value Pr(>|t|)    \n",
              "(Intercept) 0.515421   0.072690   7.091  0.00209 ** \n",
              "dias        0.194955   0.005729  34.031 4.45e-06 ***\n",
              "---\n",
              "Signif. codes:  0 ‘***’ 0.001 ‘**’ 0.01 ‘*’ 0.05 ‘.’ 0.1 ‘ ’ 1\n",
              "\n",
              "Residual standard error: 0.1206 on 4 degrees of freedom\n",
              "Multiple R-squared:  0.9966,\tAdjusted R-squared:  0.9957 \n",
              "F-statistic:  1158 on 1 and 4 DF,  p-value: 4.448e-06\n"
            ]
          },
          "metadata": {
            "tags": []
          }
        },
        {
          "output_type": "display_data",
          "data": {
            "text/plain": [
              "            5 %       95 %     \n",
              "(Intercept) 0.3604567 0.6703854\n",
              "dias        0.1827420 0.2071678"
            ],
            "text/latex": "A matrix: 2 × 2 of type dbl\n\\begin{tabular}{r|ll}\n  & 5 \\% & 95 \\%\\\\\n\\hline\n\t(Intercept) & 0.3604567 & 0.6703854\\\\\n\tdias & 0.1827420 & 0.2071678\\\\\n\\end{tabular}\n",
            "text/markdown": "\nA matrix: 2 × 2 of type dbl\n\n| <!--/--> | 5 % | 95 % |\n|---|---|---|\n| (Intercept) | 0.3604567 | 0.6703854 |\n| dias | 0.1827420 | 0.2071678 |\n\n",
            "text/html": [
              "<table>\n",
              "<caption>A matrix: 2 × 2 of type dbl</caption>\n",
              "<thead>\n",
              "\t<tr><th></th><th scope=col>5 %</th><th scope=col>95 %</th></tr>\n",
              "</thead>\n",
              "<tbody>\n",
              "\t<tr><th scope=row>(Intercept)</th><td>0.3604567</td><td>0.6703854</td></tr>\n",
              "\t<tr><th scope=row>dias</th><td>0.1827420</td><td>0.2071678</td></tr>\n",
              "</tbody>\n",
              "</table>\n"
            ]
          },
          "metadata": {
            "tags": []
          }
        },
        {
          "output_type": "display_data",
          "data": {
            "image/png": "[encoded data removed]",
            "text/plain": [
              "plot without title"
            ]
          },
          "metadata": {
            "tags": []
          }
        }
      ]
    },
    {
      "cell_type": "markdown",
      "metadata": {
        "id": "_x0vW-IxewHM",
        "colab_type": "text"
      },
      "source": [
        ""
      ]
    }
  ]
}