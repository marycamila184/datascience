{
 "cells": [
  {
   "cell_type": "markdown",
   "metadata": {
    "colab_type": "text",
    "id": "XP3H2uV50WLC"
   },
   "source": [
    "# Entrada de Arquivos Externos"
   ]
  },
  {
   "cell_type": "markdown",
   "metadata": {
    "colab_type": "text",
    "id": "oc-vKxVP6OI9"
   },
   "source": [
    "Antes de carregar um arquivo, podemos querer definir o diretório de trabalho:"
   ]
  },
  {
   "cell_type": "code",
   "execution_count": null,
   "metadata": {
    "colab": {},
    "colab_type": "code",
    "id": "i_cQk2f66Wjy"
   },
   "outputs": [],
   "source": [
    "setwd('/home/leonardo/rdata')"
   ]
  },
  {
   "cell_type": "markdown",
   "metadata": {
    "colab_type": "text",
    "id": "EoZTrdpP180U"
   },
   "source": [
    "Para que o R reconheça um conjunto de dados de arquivo é necessário que as colunas sejam separadas. Um modo fácil de resolver este problema é salvar a planilha de dados com o formato (.csv) que utiliza virgula (,) ou mesmo ponto e vírgula (;) como elemento separador das colunas.\n",
    "\n",
    "Utilize o seguinte comando, especificando, como argumento, o diretório requerido:\n"
   ]
  },
  {
   "cell_type": "code",
   "execution_count": 1,
   "metadata": {
    "colab": {},
    "colab_type": "code",
    "id": "ATrDnzhC0WLF"
   },
   "outputs": [
    {
     "data": {
      "text/html": [
       "<table>\n",
       "<thead><tr><th scope=col>NOME_EMPRESARIAL</th><th scope=col>INICIO_ATIVIDADE</th><th scope=col>NUMERO_DO_ALVARA</th><th scope=col>NOME_DA_EMPRESA</th><th scope=col>DATA_EMISSAO</th><th scope=col>DATA_EXPIRACAO</th><th scope=col>ATIVIDADE_PRINCIPAL</th><th scope=col>ATIVIDADE_SECUNDARIA1</th><th scope=col>ATIVIDADE_SECUNDARIA2</th><th scope=col>ENDERECO</th><th scope=col>NUMERO</th><th scope=col>UNIDADE</th><th scope=col>ANDAR</th><th scope=col>COMPLEMENTO</th><th scope=col>BAIRRO</th><th scope=col>CEP</th></tr></thead>\n",
       "<tbody>\n",
       "\t<tr><td>(MPDS) MEIO AMBIENTE, PESSOAS E O DESENVOLVIMENTO </td><td>04/02/2014                                        </td><td>1169609                                           </td><td>(MPDS) MEIO AMBIENTE, PESSOAS E O DESENVOLVIMENTO </td><td>26/02/2014                                        </td><td>***                                               </td><td>ATIVIDADES DE ASSOCIAÇÕES DE DEFESA DE DIREITOS SO</td><td>***                                               </td><td>***                                               </td><td>R. JOSÉ WALDEMAR BARON                            </td><td>239                                               </td><td>***                                               </td><td>***                                               </td><td>***                                               </td><td>CACHOEIRA                                         </td><td>82710190                                          </td></tr>\n",
       "\t<tr><td>(RBDS) NO RASTRO DA BIODIVERSIDADE E DO DESENVOLVI</td><td>14/12/2012                                        </td><td>1119982                                           </td><td>(RBDS) NO RASTRO DA BIODIVERSIDADE E DO DESENVOLVI</td><td>18/02/2013                                        </td><td>***                                               </td><td>ATIVIDADES DE ASSOCIAÇÕES DE DEFESA DE DIREITOS SO</td><td>***                                               </td><td>***                                               </td><td>R. DIONIZIO MARKOVICZ                             </td><td>155                                               </td><td>***                                               </td><td>***                                               </td><td>***                                               </td><td>CIDADE INDUSTRIAL                                 </td><td>81240160                                          </td></tr>\n",
       "\t<tr><td>+55 ADMINISTRADORA DE BENS LTDA.                  </td><td>24/03/2016                                        </td><td>1351366                                           </td><td>+55 ADMINISTRADORA DE BENS LTDA.                  </td><td>20/12/2017                                        </td><td>***                                               </td><td>GESTÃO E ADMINISTRAÇÃO DA PROPRIEDADE IMOBILIÁRIA </td><td>LOTEAMENTO DE IMÓVEIS PRÓPRIOS                    </td><td>ALUGUEL DE IMÓVEIS PRÓPRIOS                       </td><td>R. EVALDO WENDLER                                 </td><td> 90                                               </td><td>CS68                                              </td><td>***                                               </td><td>***                                               </td><td>SÃO LOURENÇO                                      </td><td>82200180                                          </td></tr>\n",
       "\t<tr><td>-SUELI DE FATIMA OLIVEIRA-                        </td><td>19/08/2019                                        </td><td>1450204                                           </td><td>***                                               </td><td>19/08/2019                                        </td><td>***                                               </td><td>GARÇOM                                            </td><td>***                                               </td><td>***                                               </td><td>R. MARIA HOMAN WISNIEWSKI                         </td><td>850                                               </td><td>1                                                 </td><td>TR                                                </td><td>***                                               </td><td>CIDADE INDUSTRIAL                                 </td><td>81270100                                          </td></tr>\n",
       "\t<tr><td>0 STELLA SERVICOS E COMERCIO DE CARIMBOS          </td><td>24/04/2003                                        </td><td> 969243                                           </td><td>***                                               </td><td>01/12/2010                                        </td><td>***                                               </td><td>COMÉRCIO VAREJISTA DE ARTIGOS DE PAPELARIA        </td><td>SERVIÇOS DE ACABAMENTOS GRÁFICOS, EXCETO ENCADERNA</td><td>SERVIÇOS DE GRAVAÇÃO DE CARIMBOS, EXCETO CONFECÇÃO</td><td>R. MANOEL SILVÉRIO DOS SANTOS                     </td><td>609                                               </td><td>***                                               </td><td>***                                               </td><td>***                                               </td><td>BUTIATUVINHA                                      </td><td>82400200                                          </td></tr>\n",
       "\t<tr><td><span style=white-space:pre-wrap>0 SILVA &amp; ANTUNES LTDA                            </span></td><td>01/08/2001                                                                                    </td><td> 964466                                                                                       </td><td><span style=white-space:pre-wrap>0 SILVA &amp; ANTUNES LTDA                            </span></td><td>01/12/2010                                                                                    </td><td>***                                                                                           </td><td><span style=white-space:pre-wrap>ALUGUEL DE FITAS DE VÍDEO, DVDS E SIMILARES       </span>    </td><td>COMÉRCIO VAREJISTA DE PRODUTOS ALIMENTÍCIOS EM GER                                            </td><td>COMÉRCIO VAREJISTA DE DOCES, BALAS, BOMBONS E SEME                                            </td><td><span style=white-space:pre-wrap>R. HASSIB JEZZINI            </span>                         </td><td>440                                                                                           </td><td><span style=white-space:pre-wrap>1   </span>                                                  </td><td>***                                                                                           </td><td>TR                                                                                            </td><td><span style=white-space:pre-wrap>FANNY            </span>                                     </td><td>81030360                                                                                      </td></tr>\n",
       "</tbody>\n",
       "</table>\n"
      ],
      "text/latex": [
       "\\begin{tabular}{r|llllllllllllllll}\n",
       " NOME\\_EMPRESARIAL & INICIO\\_ATIVIDADE & NUMERO\\_DO\\_ALVARA & NOME\\_DA\\_EMPRESA & DATA\\_EMISSAO & DATA\\_EXPIRACAO & ATIVIDADE\\_PRINCIPAL & ATIVIDADE\\_SECUNDARIA1 & ATIVIDADE\\_SECUNDARIA2 & ENDERECO & NUMERO & UNIDADE & ANDAR & COMPLEMENTO & BAIRRO & CEP\\\\\n",
       "\\hline\n",
       "\t (MPDS) MEIO AMBIENTE, PESSOAS E O DESENVOLVIMENTO  & 04/02/2014                                         & 1169609                                            & (MPDS) MEIO AMBIENTE, PESSOAS E O DESENVOLVIMENTO  & 26/02/2014                                         & ***                                                & ATIVIDADES DE ASSOCIAÇÕES DE DEFESA DE DIREITOS SO & ***                                                & ***                                                & R. JOSÉ WALDEMAR BARON                             & 239                                                & ***                                                & ***                                                & ***                                                & CACHOEIRA                                          & 82710190                                          \\\\\n",
       "\t (RBDS) NO RASTRO DA BIODIVERSIDADE E DO DESENVOLVI & 14/12/2012                                         & 1119982                                            & (RBDS) NO RASTRO DA BIODIVERSIDADE E DO DESENVOLVI & 18/02/2013                                         & ***                                                & ATIVIDADES DE ASSOCIAÇÕES DE DEFESA DE DIREITOS SO & ***                                                & ***                                                & R. DIONIZIO MARKOVICZ                              & 155                                                & ***                                                & ***                                                & ***                                                & CIDADE INDUSTRIAL                                  & 81240160                                          \\\\\n",
       "\t +55 ADMINISTRADORA DE BENS LTDA.                   & 24/03/2016                                         & 1351366                                            & +55 ADMINISTRADORA DE BENS LTDA.                   & 20/12/2017                                         & ***                                                & GESTÃO E ADMINISTRAÇÃO DA PROPRIEDADE IMOBILIÁRIA  & LOTEAMENTO DE IMÓVEIS PRÓPRIOS                     & ALUGUEL DE IMÓVEIS PRÓPRIOS                        & R. EVALDO WENDLER                                  &  90                                                & CS68                                               & ***                                                & ***                                                & SÃO LOURENÇO                                       & 82200180                                          \\\\\n",
       "\t -SUELI DE FATIMA OLIVEIRA-                         & 19/08/2019                                         & 1450204                                            & ***                                                & 19/08/2019                                         & ***                                                & GARÇOM                                             & ***                                                & ***                                                & R. MARIA HOMAN WISNIEWSKI                          & 850                                                & 1                                                  & TR                                                 & ***                                                & CIDADE INDUSTRIAL                                  & 81270100                                          \\\\\n",
       "\t 0 STELLA SERVICOS E COMERCIO DE CARIMBOS           & 24/04/2003                                         &  969243                                            & ***                                                & 01/12/2010                                         & ***                                                & COMÉRCIO VAREJISTA DE ARTIGOS DE PAPELARIA         & SERVIÇOS DE ACABAMENTOS GRÁFICOS, EXCETO ENCADERNA & SERVIÇOS DE GRAVAÇÃO DE CARIMBOS, EXCETO CONFECÇÃO & R. MANOEL SILVÉRIO DOS SANTOS                      & 609                                                & ***                                                & ***                                                & ***                                                & BUTIATUVINHA                                       & 82400200                                          \\\\\n",
       "\t 0 SILVA \\& ANTUNES LTDA                             & 01/08/2001                                           &  964466                                              & 0 SILVA \\& ANTUNES LTDA                             & 01/12/2010                                           & ***                                                  & ALUGUEL DE FITAS DE VÍDEO, DVDS E SIMILARES          & COMÉRCIO VAREJISTA DE PRODUTOS ALIMENTÍCIOS EM GER   & COMÉRCIO VAREJISTA DE DOCES, BALAS, BOMBONS E SEME   & R. HASSIB JEZZINI                                    & 440                                                  & 1                                                    & ***                                                  & TR                                                   & FANNY                                                & 81030360                                            \\\\\n",
       "\\end{tabular}\n"
      ],
      "text/markdown": [
       "\n",
       "| NOME_EMPRESARIAL | INICIO_ATIVIDADE | NUMERO_DO_ALVARA | NOME_DA_EMPRESA | DATA_EMISSAO | DATA_EXPIRACAO | ATIVIDADE_PRINCIPAL | ATIVIDADE_SECUNDARIA1 | ATIVIDADE_SECUNDARIA2 | ENDERECO | NUMERO | UNIDADE | ANDAR | COMPLEMENTO | BAIRRO | CEP |\n",
       "|---|---|---|---|---|---|---|---|---|---|---|---|---|---|---|---|\n",
       "| (MPDS) MEIO AMBIENTE, PESSOAS E O DESENVOLVIMENTO  | 04/02/2014                                         | 1169609                                            | (MPDS) MEIO AMBIENTE, PESSOAS E O DESENVOLVIMENTO  | 26/02/2014                                         | ***                                                | ATIVIDADES DE ASSOCIAÇÕES DE DEFESA DE DIREITOS SO | ***                                                | ***                                                | R. JOSÉ WALDEMAR BARON                             | 239                                                | ***                                                | ***                                                | ***                                                | CACHOEIRA                                          | 82710190                                           |\n",
       "| (RBDS) NO RASTRO DA BIODIVERSIDADE E DO DESENVOLVI | 14/12/2012                                         | 1119982                                            | (RBDS) NO RASTRO DA BIODIVERSIDADE E DO DESENVOLVI | 18/02/2013                                         | ***                                                | ATIVIDADES DE ASSOCIAÇÕES DE DEFESA DE DIREITOS SO | ***                                                | ***                                                | R. DIONIZIO MARKOVICZ                              | 155                                                | ***                                                | ***                                                | ***                                                | CIDADE INDUSTRIAL                                  | 81240160                                           |\n",
       "| +55 ADMINISTRADORA DE BENS LTDA.                   | 24/03/2016                                         | 1351366                                            | +55 ADMINISTRADORA DE BENS LTDA.                   | 20/12/2017                                         | ***                                                | GESTÃO E ADMINISTRAÇÃO DA PROPRIEDADE IMOBILIÁRIA  | LOTEAMENTO DE IMÓVEIS PRÓPRIOS                     | ALUGUEL DE IMÓVEIS PRÓPRIOS                        | R. EVALDO WENDLER                                  |  90                                                | CS68                                               | ***                                                | ***                                                | SÃO LOURENÇO                                       | 82200180                                           |\n",
       "| -SUELI DE FATIMA OLIVEIRA-                         | 19/08/2019                                         | 1450204                                            | ***                                                | 19/08/2019                                         | ***                                                | GARÇOM                                             | ***                                                | ***                                                | R. MARIA HOMAN WISNIEWSKI                          | 850                                                | 1                                                  | TR                                                 | ***                                                | CIDADE INDUSTRIAL                                  | 81270100                                           |\n",
       "| 0 STELLA SERVICOS E COMERCIO DE CARIMBOS           | 24/04/2003                                         |  969243                                            | ***                                                | 01/12/2010                                         | ***                                                | COMÉRCIO VAREJISTA DE ARTIGOS DE PAPELARIA         | SERVIÇOS DE ACABAMENTOS GRÁFICOS, EXCETO ENCADERNA | SERVIÇOS DE GRAVAÇÃO DE CARIMBOS, EXCETO CONFECÇÃO | R. MANOEL SILVÉRIO DOS SANTOS                      | 609                                                | ***                                                | ***                                                | ***                                                | BUTIATUVINHA                                       | 82400200                                           |\n",
       "| 0 SILVA & ANTUNES LTDA                             | 01/08/2001                                         |  964466                                            | 0 SILVA & ANTUNES LTDA                             | 01/12/2010                                         | ***                                                | ALUGUEL DE FITAS DE VÍDEO, DVDS E SIMILARES        | COMÉRCIO VAREJISTA DE PRODUTOS ALIMENTÍCIOS EM GER | COMÉRCIO VAREJISTA DE DOCES, BALAS, BOMBONS E SEME | R. HASSIB JEZZINI                                  | 440                                                | 1                                                  | ***                                                | TR                                                 | FANNY                                              | 81030360                                           |\n",
       "\n"
      ],
      "text/plain": [
       "  NOME_EMPRESARIAL                                   INICIO_ATIVIDADE\n",
       "1 (MPDS) MEIO AMBIENTE, PESSOAS E O DESENVOLVIMENTO  04/02/2014      \n",
       "2 (RBDS) NO RASTRO DA BIODIVERSIDADE E DO DESENVOLVI 14/12/2012      \n",
       "3 +55 ADMINISTRADORA DE BENS LTDA.                   24/03/2016      \n",
       "4 -SUELI DE FATIMA OLIVEIRA-                         19/08/2019      \n",
       "5 0 STELLA SERVICOS E COMERCIO DE CARIMBOS           24/04/2003      \n",
       "6 0 SILVA & ANTUNES LTDA                             01/08/2001      \n",
       "  NUMERO_DO_ALVARA NOME_DA_EMPRESA                                   \n",
       "1 1169609          (MPDS) MEIO AMBIENTE, PESSOAS E O DESENVOLVIMENTO \n",
       "2 1119982          (RBDS) NO RASTRO DA BIODIVERSIDADE E DO DESENVOLVI\n",
       "3 1351366          +55 ADMINISTRADORA DE BENS LTDA.                  \n",
       "4 1450204          ***                                               \n",
       "5  969243          ***                                               \n",
       "6  964466          0 SILVA & ANTUNES LTDA                            \n",
       "  DATA_EMISSAO DATA_EXPIRACAO\n",
       "1 26/02/2014   ***           \n",
       "2 18/02/2013   ***           \n",
       "3 20/12/2017   ***           \n",
       "4 19/08/2019   ***           \n",
       "5 01/12/2010   ***           \n",
       "6 01/12/2010   ***           \n",
       "  ATIVIDADE_PRINCIPAL                               \n",
       "1 ATIVIDADES DE ASSOCIAÇÕES DE DEFESA DE DIREITOS SO\n",
       "2 ATIVIDADES DE ASSOCIAÇÕES DE DEFESA DE DIREITOS SO\n",
       "3 GESTÃO E ADMINISTRAÇÃO DA PROPRIEDADE IMOBILIÁRIA \n",
       "4 GARÇOM                                            \n",
       "5 COMÉRCIO VAREJISTA DE ARTIGOS DE PAPELARIA        \n",
       "6 ALUGUEL DE FITAS DE VÍDEO, DVDS E SIMILARES       \n",
       "  ATIVIDADE_SECUNDARIA1                             \n",
       "1 ***                                               \n",
       "2 ***                                               \n",
       "3 LOTEAMENTO DE IMÓVEIS PRÓPRIOS                    \n",
       "4 ***                                               \n",
       "5 SERVIÇOS DE ACABAMENTOS GRÁFICOS, EXCETO ENCADERNA\n",
       "6 COMÉRCIO VAREJISTA DE PRODUTOS ALIMENTÍCIOS EM GER\n",
       "  ATIVIDADE_SECUNDARIA2                             \n",
       "1 ***                                               \n",
       "2 ***                                               \n",
       "3 ALUGUEL DE IMÓVEIS PRÓPRIOS                       \n",
       "4 ***                                               \n",
       "5 SERVIÇOS DE GRAVAÇÃO DE CARIMBOS, EXCETO CONFECÇÃO\n",
       "6 COMÉRCIO VAREJISTA DE DOCES, BALAS, BOMBONS E SEME\n",
       "  ENDERECO                      NUMERO UNIDADE ANDAR COMPLEMENTO\n",
       "1 R. JOSÉ WALDEMAR BARON        239    ***     ***   ***        \n",
       "2 R. DIONIZIO MARKOVICZ         155    ***     ***   ***        \n",
       "3 R. EVALDO WENDLER              90    CS68    ***   ***        \n",
       "4 R. MARIA HOMAN WISNIEWSKI     850    1       TR    ***        \n",
       "5 R. MANOEL SILVÉRIO DOS SANTOS 609    ***     ***   ***        \n",
       "6 R. HASSIB JEZZINI             440    1       ***   TR         \n",
       "  BAIRRO            CEP     \n",
       "1 CACHOEIRA         82710190\n",
       "2 CIDADE INDUSTRIAL 81240160\n",
       "3 SÃO LOURENÇO      82200180\n",
       "4 CIDADE INDUSTRIAL 81270100\n",
       "5 BUTIATUVINHA      82400200\n",
       "6 FANNY             81030360"
      ]
     },
     "metadata": {},
     "output_type": "display_data"
    }
   ],
   "source": [
    "dtf <- read.table(\"../data/base_inicial.csv\",header=T,sep=\";\",dec=\".\")\n",
    "head(dtf)"
   ]
  },
  {
   "cell_type": "markdown",
   "metadata": {
    "colab_type": "text",
    "id": "_jsckyvN2ga3"
   },
   "source": [
    "Onde:\n",
    "* **carregar**: é o objeto no qual os dados lidos serão reconhecidos pelo R;\n",
    "* < −: sinal que atribui os dados lidos ao objeto carregar;\n",
    "* **read.table**: função que lê o arquivo do tipo .csv.\n",
    "\n",
    "O parâmetro “header” nos permite indicar se o arquivo de dados (data.frame) tem ou\n",
    "não o nome nas colunas (título) na primeira linha de dados. O parâmetro “sep” permite indicar o tipo de separador dos dados presentes no arquivo. Finalmente o parâmetro “dec” permite indicar o caractere usado como separador de casas decimais dos números reais.\n",
    "\n",
    "Obs: para mais informações, verifique utilizando o comando “help(read.table)”\n",
    "\n",
    "O R considera o arquivo carregado como uma matriz. Desta forma, podemos localizar linhas, colunas e elementos desta matriz. Para isso, utilize os comandos abaixo:"
   ]
  },
  {
   "cell_type": "code",
   "execution_count": 3,
   "metadata": {
    "colab": {},
    "colab_type": "code",
    "id": "JhXa9QCk0WLJ"
   },
   "outputs": [
    {
     "data": {
      "text/html": [
       "(MPDS) MEIO AMBIENTE, PESSOAS E O DESENVOLVIMENTO \n",
       "<details>\n",
       "\t<summary style=display:list-item;cursor:pointer>\n",
       "\t\t<strong>Levels</strong>:\n",
       "\t</summary>\n",
       "\t<ol class=list-inline>\n",
       "\t\t<li>'-SUELI DE FATIMA OLIVEIRA-'</li>\n",
       "\t\t<li>'(MPDS) MEIO AMBIENTE, PESSOAS E O DESENVOLVIMENTO '</li>\n",
       "\t\t<li>'(RBDS) NO RASTRO DA BIODIVERSIDADE E DO DESENVOLVI'</li>\n",
       "\t\t<li>'+55 ADMINISTRADORA DE BENS LTDA.'</li>\n",
       "\t\t<li>'0 SILVA &amp; ANTUNES LTDA'</li>\n",
       "\t\t<li>'0 STELLA SERVICOS E COMERCIO DE CARIMBOS'</li>\n",
       "\t\t<li>'001 PERFUMES E INFORMATICA LTDA'</li>\n",
       "\t\t<li>'001SHOP DESENVOLVIMENTO DE LOJAS VIRTUAIS LTDA EPP'</li>\n",
       "\t\t<li>'007 INFORMATICA LTDA ME'</li>\n",
       "\t\t<li>'007 TRANSPORTE RODOVIARIO LTDA'</li>\n",
       "\t\t<li>'01 TECNOLOGIA DA INFORMACAO LTDA. ME'</li>\n",
       "\t\t<li>'041 CAFE BAR E RESTAURANTE LTDA'</li>\n",
       "\t\t<li>'041 CINE/VIDEO LTDA'</li>\n",
       "\t\t<li>'041 CONTABILIDADE LTDA'</li>\n",
       "\t\t<li>'0K DESENVOLVIMENTO DE SOFTWARE LTDA'</li>\n",
       "\t\t<li>'0SCAR ANTONIO GALVAN'</li>\n",
       "\t\t<li>'1 A CLASSE-AGENCIA DE VIAGEM E TURISMO LTDA'</li>\n",
       "\t\t<li>'1 CAMARA DE ARBITRAGEM, MEDIACAO E CONCILIACAO SOC'</li>\n",
       "\t\t<li>'1 M COMERCIO DE ROUPAS E ARTIGOS DE COURO LTDA'</li>\n",
       "\t\t<li>'1 OFICIO DE DISTRIBUIDOR DO FORO CENTRAL DA COMARC'</li>\n",
       "\t\t<li>'1 OPCAO CALCADOS E SEMI JOIAS LTDA - ME'</li>\n",
       "\t\t<li>'1 SERVICO DE REGISTRO DE IMOVEIS DO FORO CENTRAL D'</li>\n",
       "\t\t<li>'1.000 ADMINISTRADORA DE NEGOCIOS - EIRELI'</li>\n",
       "\t\t<li>'1.7 REPRESENTACOES COMERCIAIS LTDA. - ME'</li>\n",
       "\t\t<li>'1/4 DE ANJO DECORACOES E ARTIGOS INFANTIS LTDA'</li>\n",
       "\t\t<li>'10 ADMINISTRADORA DE BENS LTDA'</li>\n",
       "\t\t<li>'10 DOCES BOMBONIERE LTDA - ME'</li>\n",
       "\t\t<li>'10+ SOLUCOES EMPRESARIAIS EIRELI'</li>\n",
       "\t\t<li>'100 BEER COMERCIO DE ALIMENTOS E BEBIDAS EIRELI'</li>\n",
       "\t\t<li>'100 FREIOS-SERV COM FREIOS LTDA'</li>\n",
       "\t\t<li>'100 NOCAO FUT 7'</li>\n",
       "\t\t<li>'100 POR CENTO CARNES E CHURRASCO LTDA'</li>\n",
       "\t\t<li>'100 RUIDO TRATAMENTO ACUSTICO AUTOMOTIVO LTDA -ME'</li>\n",
       "\t\t<li>'100% AREA DE LAZER COMERCIO DE MATERIAIS ESPORTIVO'</li>\n",
       "\t\t<li>'100% FRUTA COMERCIO DE SORVETES - EIRELI - ME'</li>\n",
       "\t\t<li>'100% FRUTA COMERCIO DE SORVETES LTDA - ME'</li>\n",
       "\t\t<li>'1000 CAR COMERCIO DE VEICULOS LTDA'</li>\n",
       "\t\t<li>'1000 MARCAS SUL EQUIPAMENTOS DE SEGURANCA LTDA - M'</li>\n",
       "\t\t<li>'1000 PROJETOS - GESTAO EMPRESARIAL EIRELI'</li>\n",
       "\t\t<li>'1000SEGUROS CORRETORA DE SEGUROS LTDA - ME'</li>\n",
       "\t\t<li>'1001 EVENTOS E TURISMO LTDA'</li>\n",
       "\t\t<li>'1001 LOJAS - EIRELI - ME'</li>\n",
       "\t\t<li>'1001 MATERIAIS DE CONSTRUCAO LTDA-EPP'</li>\n",
       "\t\t<li>'1001 SERVICOS DE INSTALACOES ELETRICAS E DE TELEFO'</li>\n",
       "\t\t<li>'1003 - EXPORTADORA E IMPORTADORA DE PRODUTOS MANUF'</li>\n",
       "\t\t<li>'1005-COMERCIO DE CONFECCOES LTDA'</li>\n",
       "\t\t<li>'100PRE PRODUCAO DE VIDEOS LTDA'</li>\n",
       "\t\t<li>'100TEMPO ENTREGAS RAPIDAS LTDA'</li>\n",
       "\t\t<li>'100TRAL SERVICOS DE INTERMEDIACOES DE CONSORCIOS E'</li>\n",
       "\t\t<li>'100TRAN CENTRO DE FORMACAO DE CONDUTORES EIRELI -'</li>\n",
       "\t\t<li>'103 ENGENHARIA E CONSULTORIA S/C LTDA'</li>\n",
       "\t\t<li>'105 ODONTOLOGIA LTDA - ME'</li>\n",
       "\t\t<li>'10K STORE COMERCIO DE ELETROELETRONICOS - EIRELI'</li>\n",
       "\t\t<li>'10P FRANQUIA LTDA. EPP.'</li>\n",
       "\t\t<li>'10P LANCHES N&amp;F LTDA. - ME'</li>\n",
       "\t\t<li>'10P PRESTADORA DE SERVICOS LTDA. EPP.'</li>\n",
       "\t\t<li>'10RT - PARTICIPACOES LTDA - ME'</li>\n",
       "\t\t<li>'11 COMUNICACAO INTEGRADA E ADMINISTRADORA DE CARTO'</li>\n",
       "\t\t<li>'11 DE JULHO PARTICIPACOES LTDA'</li>\n",
       "\t\t<li>'11 PROMO PUBLICIDADE E PROPAGANDA LTDA - ME'</li>\n",
       "\t\t<li>'11 TABEL IGNES MARIA P CAETANO'</li>\n",
       "\t\t<li>'11 TUR TRANSPORTE E TURISMO LTDA'</li>\n",
       "\t\t<li>'1188 CONSULTING GROUP CONSULTORIA ESTRATEGICA E MA'</li>\n",
       "\t\t<li>'1220 PARTICIPACOES E INVESTIMENTOS SOCIETARIOS EIR'</li>\n",
       "\t\t<li>'123 E JA EVENTOS ESPECIAIS LTDA - ME'</li>\n",
       "\t\t<li>'12A COMERCIO E LOCACOES DE FERRAMENTAS LTDA'</li>\n",
       "\t\t<li>'13 M EDITORA LTDA'</li>\n",
       "\t\t<li>'135 GRAUS INCORPORACAO E EMPREENDIMENTOS IMOBILIAR'</li>\n",
       "\t\t<li>'14 BIS BAR E PETISCARIA LTDA'</li>\n",
       "\t\t<li>'14 NOVE REBOQUES E GUINCHOS LTDA'</li>\n",
       "\t\t<li>'14 ZERO 9 MARKETING E COMUNICACAO LTDA'</li>\n",
       "\t\t<li>'144 COMUNICACAO LTDA - ME'</li>\n",
       "\t\t<li>'147 CAR PARK ESTACIONAMENTO LTDA - ME'</li>\n",
       "\t\t<li>'14Z LOCADORA DE VEICULOS LTDA.'</li>\n",
       "\t\t<li>'150ML REPRESENTAÇÕES COMERCIAIS LTDA.'</li>\n",
       "\t\t<li>'153BBA PUBLICIDADE PROPAGANDA E MARKETING LTDA - M'</li>\n",
       "\t\t<li>'156 DIGITAL LTDA - ME'</li>\n",
       "\t\t<li>'16 CANAIS PRODUCOES CULTURAIS LTDA'</li>\n",
       "\t\t<li>'16 GRAUS COMERCIO E MANUTENCAO DE AR CONDICIONADO '</li>\n",
       "\t\t<li>'16 IGREJA BATISTA EM CURITIBA'</li>\n",
       "\t\t<li>'16 POR 9 PRODUTORA DE VIDEO LTDA'</li>\n",
       "\t\t<li>'17TH LYS DILIGITIS CONSULTORIA DE IMAGEM E ESTILO '</li>\n",
       "\t\t<li>'18 DE MAIO TRANSPORTES LTDA - ME'</li>\n",
       "\t\t<li>'18 GIGAS COMERCIO DE EQUIPAMENTOS EIRELI - ME'</li>\n",
       "\t\t<li>'1859 SERVICOS FINANCEIROS LTDA'</li>\n",
       "\t\t<li>'18KARAT JOIAS LTDA - EPP'</li>\n",
       "\t\t<li>'1927 POS - PRODUCAO DE AUDIO LTDA - ME'</li>\n",
       "\t\t<li>'195 PASTELARIA E LANCHONETE LTDA'</li>\n",
       "\t\t<li>'1ª IGREJA BATISTA RENOVADA - MINISTERIO MISSAO DE '</li>\n",
       "\t\t<li>'1A1 CRIPTO INTERMEDIACAO E CONSULTORIA DE CRIPTOMO'</li>\n",
       "\t\t<li>'1NEX DESENVOLVIMENTO DE SOFTWARES LTDA'</li>\n",
       "\t\t<li>'1ONE CONSULTORIA E PARTICIPACOES SOCIETARIAS EIREL'</li>\n",
       "\t\t<li>'1SOBRE2 DESIGN LTDA - ME'</li>\n",
       "\t\t<li>'1T2F3R PARTICIPACOES SOCIETARIAS S/A'</li>\n",
       "\t\t<li>'2 A P CONSULTORIA EM RECURSOS HUMANOS E QUALIDADE '</li>\n",
       "\t\t<li>'2 A REPRESENTAÇÕES COMERCIAIS LTDA'</li>\n",
       "\t\t<li>'2 D DIGITAL MANUTENCAO DE EQUIPAMENTOS DE INFORMAT'</li>\n",
       "\t\t<li>'2 E SOLUCOES LTDA ME'</li>\n",
       "\t\t<li>'2 FAST PROPAGANDA E MARKETING LTDA'</li>\n",
       "\t</ol>\n",
       "</details>"
      ],
      "text/latex": [
       "(MPDS) MEIO AMBIENTE, PESSOAS E O DESENVOLVIMENTO \n",
       "\\emph{Levels}: \\begin{enumerate*}\n",
       "\\item '-SUELI DE FATIMA OLIVEIRA-'\n",
       "\\item '(MPDS) MEIO AMBIENTE, PESSOAS E O DESENVOLVIMENTO '\n",
       "\\item '(RBDS) NO RASTRO DA BIODIVERSIDADE E DO DESENVOLVI'\n",
       "\\item '+55 ADMINISTRADORA DE BENS LTDA.'\n",
       "\\item '0 SILVA \\& ANTUNES LTDA'\n",
       "\\item '0 STELLA SERVICOS E COMERCIO DE CARIMBOS'\n",
       "\\item '001 PERFUMES E INFORMATICA LTDA'\n",
       "\\item '001SHOP DESENVOLVIMENTO DE LOJAS VIRTUAIS LTDA EPP'\n",
       "\\item '007 INFORMATICA LTDA ME'\n",
       "\\item '007 TRANSPORTE RODOVIARIO LTDA'\n",
       "\\item '01 TECNOLOGIA DA INFORMACAO LTDA. ME'\n",
       "\\item '041 CAFE BAR E RESTAURANTE LTDA'\n",
       "\\item '041 CINE/VIDEO LTDA'\n",
       "\\item '041 CONTABILIDADE LTDA'\n",
       "\\item '0K DESENVOLVIMENTO DE SOFTWARE LTDA'\n",
       "\\item '0SCAR ANTONIO GALVAN'\n",
       "\\item '1 A CLASSE-AGENCIA DE VIAGEM E TURISMO LTDA'\n",
       "\\item '1 CAMARA DE ARBITRAGEM, MEDIACAO E CONCILIACAO SOC'\n",
       "\\item '1 M COMERCIO DE ROUPAS E ARTIGOS DE COURO LTDA'\n",
       "\\item '1 OFICIO DE DISTRIBUIDOR DO FORO CENTRAL DA COMARC'\n",
       "\\item '1 OPCAO CALCADOS E SEMI JOIAS LTDA - ME'\n",
       "\\item '1 SERVICO DE REGISTRO DE IMOVEIS DO FORO CENTRAL D'\n",
       "\\item '1.000 ADMINISTRADORA DE NEGOCIOS - EIRELI'\n",
       "\\item '1.7 REPRESENTACOES COMERCIAIS LTDA. - ME'\n",
       "\\item '1/4 DE ANJO DECORACOES E ARTIGOS INFANTIS LTDA'\n",
       "\\item '10 ADMINISTRADORA DE BENS LTDA'\n",
       "\\item '10 DOCES BOMBONIERE LTDA - ME'\n",
       "\\item '10+ SOLUCOES EMPRESARIAIS EIRELI'\n",
       "\\item '100 BEER COMERCIO DE ALIMENTOS E BEBIDAS EIRELI'\n",
       "\\item '100 FREIOS-SERV COM FREIOS LTDA'\n",
       "\\item '100 NOCAO FUT 7'\n",
       "\\item '100 POR CENTO CARNES E CHURRASCO LTDA'\n",
       "\\item '100 RUIDO TRATAMENTO ACUSTICO AUTOMOTIVO LTDA -ME'\n",
       "\\item '100\\% AREA DE LAZER COMERCIO DE MATERIAIS ESPORTIVO'\n",
       "\\item '100\\% FRUTA COMERCIO DE SORVETES - EIRELI - ME'\n",
       "\\item '100\\% FRUTA COMERCIO DE SORVETES LTDA - ME'\n",
       "\\item '1000 CAR COMERCIO DE VEICULOS LTDA'\n",
       "\\item '1000 MARCAS SUL EQUIPAMENTOS DE SEGURANCA LTDA - M'\n",
       "\\item '1000 PROJETOS - GESTAO EMPRESARIAL EIRELI'\n",
       "\\item '1000SEGUROS CORRETORA DE SEGUROS LTDA - ME'\n",
       "\\item '1001 EVENTOS E TURISMO LTDA'\n",
       "\\item '1001 LOJAS - EIRELI - ME'\n",
       "\\item '1001 MATERIAIS DE CONSTRUCAO LTDA-EPP'\n",
       "\\item '1001 SERVICOS DE INSTALACOES ELETRICAS E DE TELEFO'\n",
       "\\item '1003 - EXPORTADORA E IMPORTADORA DE PRODUTOS MANUF'\n",
       "\\item '1005-COMERCIO DE CONFECCOES LTDA'\n",
       "\\item '100PRE PRODUCAO DE VIDEOS LTDA'\n",
       "\\item '100TEMPO ENTREGAS RAPIDAS LTDA'\n",
       "\\item '100TRAL SERVICOS DE INTERMEDIACOES DE CONSORCIOS E'\n",
       "\\item '100TRAN CENTRO DE FORMACAO DE CONDUTORES EIRELI -'\n",
       "\\item '103 ENGENHARIA E CONSULTORIA S/C LTDA'\n",
       "\\item '105 ODONTOLOGIA LTDA - ME'\n",
       "\\item '10K STORE COMERCIO DE ELETROELETRONICOS - EIRELI'\n",
       "\\item '10P FRANQUIA LTDA. EPP.'\n",
       "\\item '10P LANCHES N\\&F LTDA. - ME'\n",
       "\\item '10P PRESTADORA DE SERVICOS LTDA. EPP.'\n",
       "\\item '10RT - PARTICIPACOES LTDA - ME'\n",
       "\\item '11 COMUNICACAO INTEGRADA E ADMINISTRADORA DE CARTO'\n",
       "\\item '11 DE JULHO PARTICIPACOES LTDA'\n",
       "\\item '11 PROMO PUBLICIDADE E PROPAGANDA LTDA - ME'\n",
       "\\item '11 TABEL IGNES MARIA P CAETANO'\n",
       "\\item '11 TUR TRANSPORTE E TURISMO LTDA'\n",
       "\\item '1188 CONSULTING GROUP CONSULTORIA ESTRATEGICA E MA'\n",
       "\\item '1220 PARTICIPACOES E INVESTIMENTOS SOCIETARIOS EIR'\n",
       "\\item '123 E JA EVENTOS ESPECIAIS LTDA - ME'\n",
       "\\item '12A COMERCIO E LOCACOES DE FERRAMENTAS LTDA'\n",
       "\\item '13 M EDITORA LTDA'\n",
       "\\item '135 GRAUS INCORPORACAO E EMPREENDIMENTOS IMOBILIAR'\n",
       "\\item '14 BIS BAR E PETISCARIA LTDA'\n",
       "\\item '14 NOVE REBOQUES E GUINCHOS LTDA'\n",
       "\\item '14 ZERO 9 MARKETING E COMUNICACAO LTDA'\n",
       "\\item '144 COMUNICACAO LTDA - ME'\n",
       "\\item '147 CAR PARK ESTACIONAMENTO LTDA - ME'\n",
       "\\item '14Z LOCADORA DE VEICULOS LTDA.'\n",
       "\\item '150ML REPRESENTAÇÕES COMERCIAIS LTDA.'\n",
       "\\item '153BBA PUBLICIDADE PROPAGANDA E MARKETING LTDA - M'\n",
       "\\item '156 DIGITAL LTDA - ME'\n",
       "\\item '16 CANAIS PRODUCOES CULTURAIS LTDA'\n",
       "\\item '16 GRAUS COMERCIO E MANUTENCAO DE AR CONDICIONADO '\n",
       "\\item '16 IGREJA BATISTA EM CURITIBA'\n",
       "\\item '16 POR 9 PRODUTORA DE VIDEO LTDA'\n",
       "\\item '17TH LYS DILIGITIS CONSULTORIA DE IMAGEM E ESTILO '\n",
       "\\item '18 DE MAIO TRANSPORTES LTDA - ME'\n",
       "\\item '18 GIGAS COMERCIO DE EQUIPAMENTOS EIRELI - ME'\n",
       "\\item '1859 SERVICOS FINANCEIROS LTDA'\n",
       "\\item '18KARAT JOIAS LTDA - EPP'\n",
       "\\item '1927 POS - PRODUCAO DE AUDIO LTDA - ME'\n",
       "\\item '195 PASTELARIA E LANCHONETE LTDA'\n",
       "\\item '1ª IGREJA BATISTA RENOVADA - MINISTERIO MISSAO DE '\n",
       "\\item '1A1 CRIPTO INTERMEDIACAO E CONSULTORIA DE CRIPTOMO'\n",
       "\\item '1NEX DESENVOLVIMENTO DE SOFTWARES LTDA'\n",
       "\\item '1ONE CONSULTORIA E PARTICIPACOES SOCIETARIAS EIREL'\n",
       "\\item '1SOBRE2 DESIGN LTDA - ME'\n",
       "\\item '1T2F3R PARTICIPACOES SOCIETARIAS S/A'\n",
       "\\item '2 A P CONSULTORIA EM RECURSOS HUMANOS E QUALIDADE '\n",
       "\\item '2 A REPRESENTAÇÕES COMERCIAIS LTDA'\n",
       "\\item '2 D DIGITAL MANUTENCAO DE EQUIPAMENTOS DE INFORMAT'\n",
       "\\item '2 E SOLUCOES LTDA ME'\n",
       "\\item '2 FAST PROPAGANDA E MARKETING LTDA'\n",
       "\\end{enumerate*}\n"
      ],
      "text/markdown": [
       "(MPDS) MEIO AMBIENTE, PESSOAS E O DESENVOLVIMENTO \n",
       "**Levels**: 1. '-SUELI DE FATIMA OLIVEIRA-'\n",
       "2. '(MPDS) MEIO AMBIENTE, PESSOAS E O DESENVOLVIMENTO '\n",
       "3. '(RBDS) NO RASTRO DA BIODIVERSIDADE E DO DESENVOLVI'\n",
       "4. '+55 ADMINISTRADORA DE BENS LTDA.'\n",
       "5. '0 SILVA &amp; ANTUNES LTDA'\n",
       "6. '0 STELLA SERVICOS E COMERCIO DE CARIMBOS'\n",
       "7. '001 PERFUMES E INFORMATICA LTDA'\n",
       "8. '001SHOP DESENVOLVIMENTO DE LOJAS VIRTUAIS LTDA EPP'\n",
       "9. '007 INFORMATICA LTDA ME'\n",
       "10. '007 TRANSPORTE RODOVIARIO LTDA'\n",
       "11. '01 TECNOLOGIA DA INFORMACAO LTDA. ME'\n",
       "12. '041 CAFE BAR E RESTAURANTE LTDA'\n",
       "13. '041 CINE/VIDEO LTDA'\n",
       "14. '041 CONTABILIDADE LTDA'\n",
       "15. '0K DESENVOLVIMENTO DE SOFTWARE LTDA'\n",
       "16. '0SCAR ANTONIO GALVAN'\n",
       "17. '1 A CLASSE-AGENCIA DE VIAGEM E TURISMO LTDA'\n",
       "18. '1 CAMARA DE ARBITRAGEM, MEDIACAO E CONCILIACAO SOC'\n",
       "19. '1 M COMERCIO DE ROUPAS E ARTIGOS DE COURO LTDA'\n",
       "20. '1 OFICIO DE DISTRIBUIDOR DO FORO CENTRAL DA COMARC'\n",
       "21. '1 OPCAO CALCADOS E SEMI JOIAS LTDA - ME'\n",
       "22. '1 SERVICO DE REGISTRO DE IMOVEIS DO FORO CENTRAL D'\n",
       "23. '1.000 ADMINISTRADORA DE NEGOCIOS - EIRELI'\n",
       "24. '1.7 REPRESENTACOES COMERCIAIS LTDA. - ME'\n",
       "25. '1/4 DE ANJO DECORACOES E ARTIGOS INFANTIS LTDA'\n",
       "26. '10 ADMINISTRADORA DE BENS LTDA'\n",
       "27. '10 DOCES BOMBONIERE LTDA - ME'\n",
       "28. '10+ SOLUCOES EMPRESARIAIS EIRELI'\n",
       "29. '100 BEER COMERCIO DE ALIMENTOS E BEBIDAS EIRELI'\n",
       "30. '100 FREIOS-SERV COM FREIOS LTDA'\n",
       "31. '100 NOCAO FUT 7'\n",
       "32. '100 POR CENTO CARNES E CHURRASCO LTDA'\n",
       "33. '100 RUIDO TRATAMENTO ACUSTICO AUTOMOTIVO LTDA -ME'\n",
       "34. '100% AREA DE LAZER COMERCIO DE MATERIAIS ESPORTIVO'\n",
       "35. '100% FRUTA COMERCIO DE SORVETES - EIRELI - ME'\n",
       "36. '100% FRUTA COMERCIO DE SORVETES LTDA - ME'\n",
       "37. '1000 CAR COMERCIO DE VEICULOS LTDA'\n",
       "38. '1000 MARCAS SUL EQUIPAMENTOS DE SEGURANCA LTDA - M'\n",
       "39. '1000 PROJETOS - GESTAO EMPRESARIAL EIRELI'\n",
       "40. '1000SEGUROS CORRETORA DE SEGUROS LTDA - ME'\n",
       "41. '1001 EVENTOS E TURISMO LTDA'\n",
       "42. '1001 LOJAS - EIRELI - ME'\n",
       "43. '1001 MATERIAIS DE CONSTRUCAO LTDA-EPP'\n",
       "44. '1001 SERVICOS DE INSTALACOES ELETRICAS E DE TELEFO'\n",
       "45. '1003 - EXPORTADORA E IMPORTADORA DE PRODUTOS MANUF'\n",
       "46. '1005-COMERCIO DE CONFECCOES LTDA'\n",
       "47. '100PRE PRODUCAO DE VIDEOS LTDA'\n",
       "48. '100TEMPO ENTREGAS RAPIDAS LTDA'\n",
       "49. '100TRAL SERVICOS DE INTERMEDIACOES DE CONSORCIOS E'\n",
       "50. '100TRAN CENTRO DE FORMACAO DE CONDUTORES EIRELI -'\n",
       "51. '103 ENGENHARIA E CONSULTORIA S/C LTDA'\n",
       "52. '105 ODONTOLOGIA LTDA - ME'\n",
       "53. '10K STORE COMERCIO DE ELETROELETRONICOS - EIRELI'\n",
       "54. '10P FRANQUIA LTDA. EPP.'\n",
       "55. '10P LANCHES N&amp;F LTDA. - ME'\n",
       "56. '10P PRESTADORA DE SERVICOS LTDA. EPP.'\n",
       "57. '10RT - PARTICIPACOES LTDA - ME'\n",
       "58. '11 COMUNICACAO INTEGRADA E ADMINISTRADORA DE CARTO'\n",
       "59. '11 DE JULHO PARTICIPACOES LTDA'\n",
       "60. '11 PROMO PUBLICIDADE E PROPAGANDA LTDA - ME'\n",
       "61. '11 TABEL IGNES MARIA P CAETANO'\n",
       "62. '11 TUR TRANSPORTE E TURISMO LTDA'\n",
       "63. '1188 CONSULTING GROUP CONSULTORIA ESTRATEGICA E MA'\n",
       "64. '1220 PARTICIPACOES E INVESTIMENTOS SOCIETARIOS EIR'\n",
       "65. '123 E JA EVENTOS ESPECIAIS LTDA - ME'\n",
       "66. '12A COMERCIO E LOCACOES DE FERRAMENTAS LTDA'\n",
       "67. '13 M EDITORA LTDA'\n",
       "68. '135 GRAUS INCORPORACAO E EMPREENDIMENTOS IMOBILIAR'\n",
       "69. '14 BIS BAR E PETISCARIA LTDA'\n",
       "70. '14 NOVE REBOQUES E GUINCHOS LTDA'\n",
       "71. '14 ZERO 9 MARKETING E COMUNICACAO LTDA'\n",
       "72. '144 COMUNICACAO LTDA - ME'\n",
       "73. '147 CAR PARK ESTACIONAMENTO LTDA - ME'\n",
       "74. '14Z LOCADORA DE VEICULOS LTDA.'\n",
       "75. '150ML REPRESENTAÇÕES COMERCIAIS LTDA.'\n",
       "76. '153BBA PUBLICIDADE PROPAGANDA E MARKETING LTDA - M'\n",
       "77. '156 DIGITAL LTDA - ME'\n",
       "78. '16 CANAIS PRODUCOES CULTURAIS LTDA'\n",
       "79. '16 GRAUS COMERCIO E MANUTENCAO DE AR CONDICIONADO '\n",
       "80. '16 IGREJA BATISTA EM CURITIBA'\n",
       "81. '16 POR 9 PRODUTORA DE VIDEO LTDA'\n",
       "82. '17TH LYS DILIGITIS CONSULTORIA DE IMAGEM E ESTILO '\n",
       "83. '18 DE MAIO TRANSPORTES LTDA - ME'\n",
       "84. '18 GIGAS COMERCIO DE EQUIPAMENTOS EIRELI - ME'\n",
       "85. '1859 SERVICOS FINANCEIROS LTDA'\n",
       "86. '18KARAT JOIAS LTDA - EPP'\n",
       "87. '1927 POS - PRODUCAO DE AUDIO LTDA - ME'\n",
       "88. '195 PASTELARIA E LANCHONETE LTDA'\n",
       "89. '1ª IGREJA BATISTA RENOVADA - MINISTERIO MISSAO DE '\n",
       "90. '1A1 CRIPTO INTERMEDIACAO E CONSULTORIA DE CRIPTOMO'\n",
       "91. '1NEX DESENVOLVIMENTO DE SOFTWARES LTDA'\n",
       "92. '1ONE CONSULTORIA E PARTICIPACOES SOCIETARIAS EIREL'\n",
       "93. '1SOBRE2 DESIGN LTDA - ME'\n",
       "94. '1T2F3R PARTICIPACOES SOCIETARIAS S/A'\n",
       "95. '2 A P CONSULTORIA EM RECURSOS HUMANOS E QUALIDADE '\n",
       "96. '2 A REPRESENTAÇÕES COMERCIAIS LTDA'\n",
       "97. '2 D DIGITAL MANUTENCAO DE EQUIPAMENTOS DE INFORMAT'\n",
       "98. '2 E SOLUCOES LTDA ME'\n",
       "99. '2 FAST PROPAGANDA E MARKETING LTDA'\n",
       "\n",
       "\n"
      ],
      "text/plain": [
       "[1] (MPDS) MEIO AMBIENTE, PESSOAS E O DESENVOLVIMENTO \n",
       "99 Levels: -SUELI DE FATIMA OLIVEIRA- ..."
      ]
     },
     "metadata": {},
     "output_type": "display_data"
    },
    {
     "data": {
      "text/html": [
       "<table>\n",
       "<thead><tr><th scope=col>NOME_EMPRESARIAL</th><th scope=col>INICIO_ATIVIDADE</th><th scope=col>NUMERO_DO_ALVARA</th><th scope=col>NOME_DA_EMPRESA</th><th scope=col>DATA_EMISSAO</th><th scope=col>DATA_EXPIRACAO</th><th scope=col>ATIVIDADE_PRINCIPAL</th><th scope=col>ATIVIDADE_SECUNDARIA1</th><th scope=col>ATIVIDADE_SECUNDARIA2</th><th scope=col>ENDERECO</th><th scope=col>NUMERO</th><th scope=col>UNIDADE</th><th scope=col>ANDAR</th><th scope=col>COMPLEMENTO</th><th scope=col>BAIRRO</th><th scope=col>CEP</th></tr></thead>\n",
       "<tbody>\n",
       "\t<tr><td>(MPDS) MEIO AMBIENTE, PESSOAS E O DESENVOLVIMENTO </td><td>04/02/2014                                        </td><td>1169609                                           </td><td>(MPDS) MEIO AMBIENTE, PESSOAS E O DESENVOLVIMENTO </td><td>26/02/2014                                        </td><td>***                                               </td><td>ATIVIDADES DE ASSOCIAÇÕES DE DEFESA DE DIREITOS SO</td><td>***                                               </td><td>***                                               </td><td>R. JOSÉ WALDEMAR BARON                            </td><td> 239                                              </td><td>***                                               </td><td>***                                               </td><td>***                                               </td><td>CACHOEIRA                                         </td><td>82710190                                          </td></tr>\n",
       "\t<tr><td>(RBDS) NO RASTRO DA BIODIVERSIDADE E DO DESENVOLVI</td><td>14/12/2012                                        </td><td>1119982                                           </td><td>(RBDS) NO RASTRO DA BIODIVERSIDADE E DO DESENVOLVI</td><td>18/02/2013                                        </td><td>***                                               </td><td>ATIVIDADES DE ASSOCIAÇÕES DE DEFESA DE DIREITOS SO</td><td>***                                               </td><td>***                                               </td><td>R. DIONIZIO MARKOVICZ                             </td><td> 155                                              </td><td>***                                               </td><td>***                                               </td><td>***                                               </td><td>CIDADE INDUSTRIAL                                 </td><td>81240160                                          </td></tr>\n",
       "\t<tr><td>+55 ADMINISTRADORA DE BENS LTDA.                  </td><td>24/03/2016                                        </td><td>1351366                                           </td><td>+55 ADMINISTRADORA DE BENS LTDA.                  </td><td>20/12/2017                                        </td><td>***                                               </td><td>GESTÃO E ADMINISTRAÇÃO DA PROPRIEDADE IMOBILIÁRIA </td><td>LOTEAMENTO DE IMÓVEIS PRÓPRIOS                    </td><td>ALUGUEL DE IMÓVEIS PRÓPRIOS                       </td><td>R. EVALDO WENDLER                                 </td><td>  90                                              </td><td>CS68                                              </td><td>***                                               </td><td>***                                               </td><td>SÃO LOURENÇO                                      </td><td>82200180                                          </td></tr>\n",
       "\t<tr><td>-SUELI DE FATIMA OLIVEIRA-                        </td><td>19/08/2019                                        </td><td>1450204                                           </td><td>***                                               </td><td>19/08/2019                                        </td><td>***                                               </td><td>GARÇOM                                            </td><td>***                                               </td><td>***                                               </td><td>R. MARIA HOMAN WISNIEWSKI                         </td><td> 850                                              </td><td>1                                                 </td><td>TR                                                </td><td>***                                               </td><td>CIDADE INDUSTRIAL                                 </td><td>81270100                                          </td></tr>\n",
       "\t<tr><td>0 STELLA SERVICOS E COMERCIO DE CARIMBOS          </td><td>24/04/2003                                        </td><td> 969243                                           </td><td>***                                               </td><td>01/12/2010                                        </td><td>***                                               </td><td>COMÉRCIO VAREJISTA DE ARTIGOS DE PAPELARIA        </td><td>SERVIÇOS DE ACABAMENTOS GRÁFICOS, EXCETO ENCADERNA</td><td>SERVIÇOS DE GRAVAÇÃO DE CARIMBOS, EXCETO CONFECÇÃO</td><td>R. MANOEL SILVÉRIO DOS SANTOS                     </td><td> 609                                              </td><td>***                                               </td><td>***                                               </td><td>***                                               </td><td>BUTIATUVINHA                                      </td><td>82400200                                          </td></tr>\n",
       "\t<tr><td><span style=white-space:pre-wrap>0 SILVA &amp; ANTUNES LTDA                            </span></td><td>01/08/2001                                                                                    </td><td> 964466                                                                                       </td><td><span style=white-space:pre-wrap>0 SILVA &amp; ANTUNES LTDA                            </span></td><td>01/12/2010                                                                                    </td><td>***                                                                                           </td><td><span style=white-space:pre-wrap>ALUGUEL DE FITAS DE VÍDEO, DVDS E SIMILARES       </span>    </td><td>COMÉRCIO VAREJISTA DE PRODUTOS ALIMENTÍCIOS EM GER                                            </td><td>COMÉRCIO VAREJISTA DE DOCES, BALAS, BOMBONS E SEME                                            </td><td><span style=white-space:pre-wrap>R. HASSIB JEZZINI            </span>                         </td><td> 440                                                                                          </td><td><span style=white-space:pre-wrap>1   </span>                                                  </td><td>***                                                                                           </td><td><span style=white-space:pre-wrap>TR     </span>                                               </td><td><span style=white-space:pre-wrap>FANNY            </span>                                     </td><td>81030360                                                                                      </td></tr>\n",
       "\t<tr><td>001 PERFUMES E INFORMATICA LTDA                   </td><td>03/12/2010                                        </td><td>1066409                                           </td><td>001 PERFUMES E INFORMATICA LTDA                   </td><td>11/05/2012                                        </td><td>***                                               </td><td>COMÉRCIO VAREJISTA ESPECIALIZADO DE EQUIPAMENTOS D</td><td>COMÉRCIO VAREJISTA ESPECIALIZADO DE EQUIPAMENTOS E</td><td>ALUGUEL DE OUTROS OBJETOS PESSOAIS E DOMÉSTICOS NÃ</td><td>R. PADRE ANCHIETA                                 </td><td>1995                                              </td><td>1801                                              </td><td>18                                                </td><td>***                                               </td><td>BIGORRILHO                                        </td><td>80730000                                          </td></tr>\n",
       "\t<tr><td>001SHOP DESENVOLVIMENTO DE LOJAS VIRTUAIS LTDA EPP</td><td>03/04/2012                                        </td><td>1267511                                           </td><td>001SHOP LTDA                                      </td><td>03/05/2016                                        </td><td>***                                               </td><td>TRATAMENTO DE DADOS, PROVEDORES DE SERVIÇOS DE APL</td><td>PREPARAÇÃO DE DOCUMENTOS E SERVIÇOS ESPECIALIZADOS</td><td>***                                               </td><td>R. JOSÉ ALEXANDRINO                               </td><td>  30                                              </td><td>***                                               </td><td>***                                               </td><td>CASA 04                                           </td><td>MOSSUNGUÊ                                         </td><td>81210050                                          </td></tr>\n",
       "</tbody>\n",
       "</table>\n"
      ],
      "text/latex": [
       "\\begin{tabular}{r|llllllllllllllll}\n",
       " NOME\\_EMPRESARIAL & INICIO\\_ATIVIDADE & NUMERO\\_DO\\_ALVARA & NOME\\_DA\\_EMPRESA & DATA\\_EMISSAO & DATA\\_EXPIRACAO & ATIVIDADE\\_PRINCIPAL & ATIVIDADE\\_SECUNDARIA1 & ATIVIDADE\\_SECUNDARIA2 & ENDERECO & NUMERO & UNIDADE & ANDAR & COMPLEMENTO & BAIRRO & CEP\\\\\n",
       "\\hline\n",
       "\t (MPDS) MEIO AMBIENTE, PESSOAS E O DESENVOLVIMENTO  & 04/02/2014                                         & 1169609                                            & (MPDS) MEIO AMBIENTE, PESSOAS E O DESENVOLVIMENTO  & 26/02/2014                                         & ***                                                & ATIVIDADES DE ASSOCIAÇÕES DE DEFESA DE DIREITOS SO & ***                                                & ***                                                & R. JOSÉ WALDEMAR BARON                             &  239                                               & ***                                                & ***                                                & ***                                                & CACHOEIRA                                          & 82710190                                          \\\\\n",
       "\t (RBDS) NO RASTRO DA BIODIVERSIDADE E DO DESENVOLVI & 14/12/2012                                         & 1119982                                            & (RBDS) NO RASTRO DA BIODIVERSIDADE E DO DESENVOLVI & 18/02/2013                                         & ***                                                & ATIVIDADES DE ASSOCIAÇÕES DE DEFESA DE DIREITOS SO & ***                                                & ***                                                & R. DIONIZIO MARKOVICZ                              &  155                                               & ***                                                & ***                                                & ***                                                & CIDADE INDUSTRIAL                                  & 81240160                                          \\\\\n",
       "\t +55 ADMINISTRADORA DE BENS LTDA.                   & 24/03/2016                                         & 1351366                                            & +55 ADMINISTRADORA DE BENS LTDA.                   & 20/12/2017                                         & ***                                                & GESTÃO E ADMINISTRAÇÃO DA PROPRIEDADE IMOBILIÁRIA  & LOTEAMENTO DE IMÓVEIS PRÓPRIOS                     & ALUGUEL DE IMÓVEIS PRÓPRIOS                        & R. EVALDO WENDLER                                  &   90                                               & CS68                                               & ***                                                & ***                                                & SÃO LOURENÇO                                       & 82200180                                          \\\\\n",
       "\t -SUELI DE FATIMA OLIVEIRA-                         & 19/08/2019                                         & 1450204                                            & ***                                                & 19/08/2019                                         & ***                                                & GARÇOM                                             & ***                                                & ***                                                & R. MARIA HOMAN WISNIEWSKI                          &  850                                               & 1                                                  & TR                                                 & ***                                                & CIDADE INDUSTRIAL                                  & 81270100                                          \\\\\n",
       "\t 0 STELLA SERVICOS E COMERCIO DE CARIMBOS           & 24/04/2003                                         &  969243                                            & ***                                                & 01/12/2010                                         & ***                                                & COMÉRCIO VAREJISTA DE ARTIGOS DE PAPELARIA         & SERVIÇOS DE ACABAMENTOS GRÁFICOS, EXCETO ENCADERNA & SERVIÇOS DE GRAVAÇÃO DE CARIMBOS, EXCETO CONFECÇÃO & R. MANOEL SILVÉRIO DOS SANTOS                      &  609                                               & ***                                                & ***                                                & ***                                                & BUTIATUVINHA                                       & 82400200                                          \\\\\n",
       "\t 0 SILVA \\& ANTUNES LTDA                             & 01/08/2001                                           &  964466                                              & 0 SILVA \\& ANTUNES LTDA                             & 01/12/2010                                           & ***                                                  & ALUGUEL DE FITAS DE VÍDEO, DVDS E SIMILARES          & COMÉRCIO VAREJISTA DE PRODUTOS ALIMENTÍCIOS EM GER   & COMÉRCIO VAREJISTA DE DOCES, BALAS, BOMBONS E SEME   & R. HASSIB JEZZINI                                    &  440                                                 & 1                                                    & ***                                                  & TR                                                   & FANNY                                                & 81030360                                            \\\\\n",
       "\t 001 PERFUMES E INFORMATICA LTDA                    & 03/12/2010                                         & 1066409                                            & 001 PERFUMES E INFORMATICA LTDA                    & 11/05/2012                                         & ***                                                & COMÉRCIO VAREJISTA ESPECIALIZADO DE EQUIPAMENTOS D & COMÉRCIO VAREJISTA ESPECIALIZADO DE EQUIPAMENTOS E & ALUGUEL DE OUTROS OBJETOS PESSOAIS E DOMÉSTICOS NÃ & R. PADRE ANCHIETA                                  & 1995                                               & 1801                                               & 18                                                 & ***                                                & BIGORRILHO                                         & 80730000                                          \\\\\n",
       "\t 001SHOP DESENVOLVIMENTO DE LOJAS VIRTUAIS LTDA EPP & 03/04/2012                                         & 1267511                                            & 001SHOP LTDA                                       & 03/05/2016                                         & ***                                                & TRATAMENTO DE DADOS, PROVEDORES DE SERVIÇOS DE APL & PREPARAÇÃO DE DOCUMENTOS E SERVIÇOS ESPECIALIZADOS & ***                                                & R. JOSÉ ALEXANDRINO                                &   30                                               & ***                                                & ***                                                & CASA 04                                            & MOSSUNGUÊ                                          & 81210050                                          \\\\\n",
       "\\end{tabular}\n"
      ],
      "text/markdown": [
       "\n",
       "| NOME_EMPRESARIAL | INICIO_ATIVIDADE | NUMERO_DO_ALVARA | NOME_DA_EMPRESA | DATA_EMISSAO | DATA_EXPIRACAO | ATIVIDADE_PRINCIPAL | ATIVIDADE_SECUNDARIA1 | ATIVIDADE_SECUNDARIA2 | ENDERECO | NUMERO | UNIDADE | ANDAR | COMPLEMENTO | BAIRRO | CEP |\n",
       "|---|---|---|---|---|---|---|---|---|---|---|---|---|---|---|---|\n",
       "| (MPDS) MEIO AMBIENTE, PESSOAS E O DESENVOLVIMENTO  | 04/02/2014                                         | 1169609                                            | (MPDS) MEIO AMBIENTE, PESSOAS E O DESENVOLVIMENTO  | 26/02/2014                                         | ***                                                | ATIVIDADES DE ASSOCIAÇÕES DE DEFESA DE DIREITOS SO | ***                                                | ***                                                | R. JOSÉ WALDEMAR BARON                             |  239                                               | ***                                                | ***                                                | ***                                                | CACHOEIRA                                          | 82710190                                           |\n",
       "| (RBDS) NO RASTRO DA BIODIVERSIDADE E DO DESENVOLVI | 14/12/2012                                         | 1119982                                            | (RBDS) NO RASTRO DA BIODIVERSIDADE E DO DESENVOLVI | 18/02/2013                                         | ***                                                | ATIVIDADES DE ASSOCIAÇÕES DE DEFESA DE DIREITOS SO | ***                                                | ***                                                | R. DIONIZIO MARKOVICZ                              |  155                                               | ***                                                | ***                                                | ***                                                | CIDADE INDUSTRIAL                                  | 81240160                                           |\n",
       "| +55 ADMINISTRADORA DE BENS LTDA.                   | 24/03/2016                                         | 1351366                                            | +55 ADMINISTRADORA DE BENS LTDA.                   | 20/12/2017                                         | ***                                                | GESTÃO E ADMINISTRAÇÃO DA PROPRIEDADE IMOBILIÁRIA  | LOTEAMENTO DE IMÓVEIS PRÓPRIOS                     | ALUGUEL DE IMÓVEIS PRÓPRIOS                        | R. EVALDO WENDLER                                  |   90                                               | CS68                                               | ***                                                | ***                                                | SÃO LOURENÇO                                       | 82200180                                           |\n",
       "| -SUELI DE FATIMA OLIVEIRA-                         | 19/08/2019                                         | 1450204                                            | ***                                                | 19/08/2019                                         | ***                                                | GARÇOM                                             | ***                                                | ***                                                | R. MARIA HOMAN WISNIEWSKI                          |  850                                               | 1                                                  | TR                                                 | ***                                                | CIDADE INDUSTRIAL                                  | 81270100                                           |\n",
       "| 0 STELLA SERVICOS E COMERCIO DE CARIMBOS           | 24/04/2003                                         |  969243                                            | ***                                                | 01/12/2010                                         | ***                                                | COMÉRCIO VAREJISTA DE ARTIGOS DE PAPELARIA         | SERVIÇOS DE ACABAMENTOS GRÁFICOS, EXCETO ENCADERNA | SERVIÇOS DE GRAVAÇÃO DE CARIMBOS, EXCETO CONFECÇÃO | R. MANOEL SILVÉRIO DOS SANTOS                      |  609                                               | ***                                                | ***                                                | ***                                                | BUTIATUVINHA                                       | 82400200                                           |\n",
       "| 0 SILVA & ANTUNES LTDA                             | 01/08/2001                                         |  964466                                            | 0 SILVA & ANTUNES LTDA                             | 01/12/2010                                         | ***                                                | ALUGUEL DE FITAS DE VÍDEO, DVDS E SIMILARES        | COMÉRCIO VAREJISTA DE PRODUTOS ALIMENTÍCIOS EM GER | COMÉRCIO VAREJISTA DE DOCES, BALAS, BOMBONS E SEME | R. HASSIB JEZZINI                                  |  440                                               | 1                                                  | ***                                                | TR                                                 | FANNY                                              | 81030360                                           |\n",
       "| 001 PERFUMES E INFORMATICA LTDA                    | 03/12/2010                                         | 1066409                                            | 001 PERFUMES E INFORMATICA LTDA                    | 11/05/2012                                         | ***                                                | COMÉRCIO VAREJISTA ESPECIALIZADO DE EQUIPAMENTOS D | COMÉRCIO VAREJISTA ESPECIALIZADO DE EQUIPAMENTOS E | ALUGUEL DE OUTROS OBJETOS PESSOAIS E DOMÉSTICOS NÃ | R. PADRE ANCHIETA                                  | 1995                                               | 1801                                               | 18                                                 | ***                                                | BIGORRILHO                                         | 80730000                                           |\n",
       "| 001SHOP DESENVOLVIMENTO DE LOJAS VIRTUAIS LTDA EPP | 03/04/2012                                         | 1267511                                            | 001SHOP LTDA                                       | 03/05/2016                                         | ***                                                | TRATAMENTO DE DADOS, PROVEDORES DE SERVIÇOS DE APL | PREPARAÇÃO DE DOCUMENTOS E SERVIÇOS ESPECIALIZADOS | ***                                                | R. JOSÉ ALEXANDRINO                                |   30                                               | ***                                                | ***                                                | CASA 04                                            | MOSSUNGUÊ                                          | 81210050                                           |\n",
       "\n"
      ],
      "text/plain": [
       "  NOME_EMPRESARIAL                                   INICIO_ATIVIDADE\n",
       "1 (MPDS) MEIO AMBIENTE, PESSOAS E O DESENVOLVIMENTO  04/02/2014      \n",
       "2 (RBDS) NO RASTRO DA BIODIVERSIDADE E DO DESENVOLVI 14/12/2012      \n",
       "3 +55 ADMINISTRADORA DE BENS LTDA.                   24/03/2016      \n",
       "4 -SUELI DE FATIMA OLIVEIRA-                         19/08/2019      \n",
       "5 0 STELLA SERVICOS E COMERCIO DE CARIMBOS           24/04/2003      \n",
       "6 0 SILVA & ANTUNES LTDA                             01/08/2001      \n",
       "7 001 PERFUMES E INFORMATICA LTDA                    03/12/2010      \n",
       "8 001SHOP DESENVOLVIMENTO DE LOJAS VIRTUAIS LTDA EPP 03/04/2012      \n",
       "  NUMERO_DO_ALVARA NOME_DA_EMPRESA                                   \n",
       "1 1169609          (MPDS) MEIO AMBIENTE, PESSOAS E O DESENVOLVIMENTO \n",
       "2 1119982          (RBDS) NO RASTRO DA BIODIVERSIDADE E DO DESENVOLVI\n",
       "3 1351366          +55 ADMINISTRADORA DE BENS LTDA.                  \n",
       "4 1450204          ***                                               \n",
       "5  969243          ***                                               \n",
       "6  964466          0 SILVA & ANTUNES LTDA                            \n",
       "7 1066409          001 PERFUMES E INFORMATICA LTDA                   \n",
       "8 1267511          001SHOP LTDA                                      \n",
       "  DATA_EMISSAO DATA_EXPIRACAO\n",
       "1 26/02/2014   ***           \n",
       "2 18/02/2013   ***           \n",
       "3 20/12/2017   ***           \n",
       "4 19/08/2019   ***           \n",
       "5 01/12/2010   ***           \n",
       "6 01/12/2010   ***           \n",
       "7 11/05/2012   ***           \n",
       "8 03/05/2016   ***           \n",
       "  ATIVIDADE_PRINCIPAL                               \n",
       "1 ATIVIDADES DE ASSOCIAÇÕES DE DEFESA DE DIREITOS SO\n",
       "2 ATIVIDADES DE ASSOCIAÇÕES DE DEFESA DE DIREITOS SO\n",
       "3 GESTÃO E ADMINISTRAÇÃO DA PROPRIEDADE IMOBILIÁRIA \n",
       "4 GARÇOM                                            \n",
       "5 COMÉRCIO VAREJISTA DE ARTIGOS DE PAPELARIA        \n",
       "6 ALUGUEL DE FITAS DE VÍDEO, DVDS E SIMILARES       \n",
       "7 COMÉRCIO VAREJISTA ESPECIALIZADO DE EQUIPAMENTOS D\n",
       "8 TRATAMENTO DE DADOS, PROVEDORES DE SERVIÇOS DE APL\n",
       "  ATIVIDADE_SECUNDARIA1                             \n",
       "1 ***                                               \n",
       "2 ***                                               \n",
       "3 LOTEAMENTO DE IMÓVEIS PRÓPRIOS                    \n",
       "4 ***                                               \n",
       "5 SERVIÇOS DE ACABAMENTOS GRÁFICOS, EXCETO ENCADERNA\n",
       "6 COMÉRCIO VAREJISTA DE PRODUTOS ALIMENTÍCIOS EM GER\n",
       "7 COMÉRCIO VAREJISTA ESPECIALIZADO DE EQUIPAMENTOS E\n",
       "8 PREPARAÇÃO DE DOCUMENTOS E SERVIÇOS ESPECIALIZADOS\n",
       "  ATIVIDADE_SECUNDARIA2                             \n",
       "1 ***                                               \n",
       "2 ***                                               \n",
       "3 ALUGUEL DE IMÓVEIS PRÓPRIOS                       \n",
       "4 ***                                               \n",
       "5 SERVIÇOS DE GRAVAÇÃO DE CARIMBOS, EXCETO CONFECÇÃO\n",
       "6 COMÉRCIO VAREJISTA DE DOCES, BALAS, BOMBONS E SEME\n",
       "7 ALUGUEL DE OUTROS OBJETOS PESSOAIS E DOMÉSTICOS NÃ\n",
       "8 ***                                               \n",
       "  ENDERECO                      NUMERO UNIDADE ANDAR COMPLEMENTO\n",
       "1 R. JOSÉ WALDEMAR BARON         239   ***     ***   ***        \n",
       "2 R. DIONIZIO MARKOVICZ          155   ***     ***   ***        \n",
       "3 R. EVALDO WENDLER               90   CS68    ***   ***        \n",
       "4 R. MARIA HOMAN WISNIEWSKI      850   1       TR    ***        \n",
       "5 R. MANOEL SILVÉRIO DOS SANTOS  609   ***     ***   ***        \n",
       "6 R. HASSIB JEZZINI              440   1       ***   TR         \n",
       "7 R. PADRE ANCHIETA             1995   1801    18    ***        \n",
       "8 R. JOSÉ ALEXANDRINO             30   ***     ***   CASA 04    \n",
       "  BAIRRO            CEP     \n",
       "1 CACHOEIRA         82710190\n",
       "2 CIDADE INDUSTRIAL 81240160\n",
       "3 SÃO LOURENÇO      82200180\n",
       "4 CIDADE INDUSTRIAL 81270100\n",
       "5 BUTIATUVINHA      82400200\n",
       "6 FANNY             81030360\n",
       "7 BIGORRILHO        80730000\n",
       "8 MOSSUNGUÊ         81210050"
      ]
     },
     "metadata": {},
     "output_type": "display_data"
    }
   ],
   "source": [
    "dtf[1,1] #localiza o elemento a(1,1) da matriz\n",
    "dtf[1:8,] #localiza as primeiras oito linhas da matriz"
   ]
  },
  {
   "cell_type": "markdown",
   "metadata": {
    "colab_type": "text",
    "id": "h5dqpoa-0WLM"
   },
   "source": [
    "**Entrada de Arquivos Externos**\n",
    "\n",
    "O R permite acessar um banco de dados disponível na web."
   ]
  },
  {
   "cell_type": "code",
   "execution_count": 6,
   "metadata": {
    "colab": {},
    "colab_type": "code",
    "id": "-RV_8nWu6oCW"
   },
   "outputs": [
    {
     "data": {
      "text/html": [
       "<table>\n",
       "<thead><tr><th scope=col>codigo</th><th scope=col>endereco</th><th scope=col>quartos</th><th scope=col>suite</th><th scope=col>area</th><th scope=col>vaga</th><th scope=col>aluguel</th><th scope=col>condominio</th><th scope=col>data</th></tr></thead>\n",
       "<tbody>\n",
       "\t<tr><td>    34                        </td><td>Rua Desembargador Westphalen  </td><td>2                             </td><td>0                             </td><td> 90                           </td><td>0                             </td><td> 900                          </td><td>371                           </td><td>11/10/17                      </td></tr>\n",
       "\t<tr><td>   167                        </td><td>Rua Jose Loureiro             </td><td>2                             </td><td>0                             </td><td> 64                           </td><td>0                             </td><td> 650                          </td><td>428                           </td><td>15/07/17                      </td></tr>\n",
       "\t<tr><td>  6784                        </td><td>Rua Jose Loureiro             </td><td>2                             </td><td>0                             </td><td> 81                           </td><td>0                             </td><td>1100                          </td><td>400                           </td><td>23/08/17                      </td></tr>\n",
       "\t<tr><td>    82                        </td><td>Rua Lourenço Pinto            </td><td>2                             </td><td>0                             </td><td> 50                           </td><td>0                             </td><td>1350                          </td><td>300                           </td><td>19/09/17                      </td></tr>\n",
       "\t<tr><td>  2970                        </td><td>Rua Lourenço Pinto            </td><td>2                             </td><td>0                             </td><td> 63                           </td><td>0                             </td><td>1300                          </td><td>300                           </td><td>05/08/17                      </td></tr>\n",
       "\t<tr><td> 34197                        </td><td>Alameda Doutor Muricy         </td><td>2                             </td><td>0                             </td><td> 80                           </td><td>1                             </td><td> 900                          </td><td>410                           </td><td>23/10/17                      </td></tr>\n",
       "\t<tr><td>  5072                        </td><td>Alameda Doutor Muricy         </td><td>2                             </td><td>0                             </td><td> 84                           </td><td>0                             </td><td>1100                          </td><td>382                           </td><td>02/09/17                      </td></tr>\n",
       "\t<tr><td>   469                        </td><td>Rua Desembargador Westphalen  </td><td>1                             </td><td>0                             </td><td> 30                           </td><td>0                             </td><td> 550                          </td><td>210                           </td><td>03/07/17                      </td></tr>\n",
       "\t<tr><td>    24                        </td><td>Rua Desembargador Westphalen  </td><td>1                             </td><td>0                             </td><td> 60                           </td><td>1                             </td><td> 800                          </td><td>120                           </td><td>30/09/17                      </td></tr>\n",
       "\t<tr><td>    74                        </td><td>Avenida Visconde de Guarapuava</td><td>2                             </td><td>1                             </td><td>132                           </td><td>1                             </td><td>1800                          </td><td>520                           </td><td>12/10/17                      </td></tr>\n",
       "\t<tr><td>  9850                        </td><td>Avenida Visconde de Guarapuava</td><td>1                             </td><td>0                             </td><td> 64                           </td><td>1                             </td><td> 600                          </td><td>326                           </td><td>15/07/17                      </td></tr>\n",
       "\t<tr><td> 82343                        </td><td>Avenida Sete de Setembro      </td><td>1                             </td><td>0                             </td><td> 45                           </td><td>0                             </td><td> 750                          </td><td>420                           </td><td>11/10/17                      </td></tr>\n",
       "\t<tr><td> 20802                        </td><td>Avenida Sete de Setembro      </td><td>1                             </td><td>0                             </td><td> 47                           </td><td>0                             </td><td> 600                          </td><td>405                           </td><td>27/07/17                      </td></tr>\n",
       "\t<tr><td>   568                        </td><td>Rua Alferes Poli              </td><td>1                             </td><td>0                             </td><td> 43                           </td><td>0                             </td><td> 600                          </td><td>330                           </td><td>12/08/17                      </td></tr>\n",
       "\t<tr><td>294579                        </td><td>Avenida Silva Jardim          </td><td>1                             </td><td>0                             </td><td> 36                           </td><td>0                             </td><td> 550                          </td><td>350                           </td><td>01/10/17                      </td></tr>\n",
       "\t<tr><td> 59375                        </td><td>Avenida Silva Jardim          </td><td>1                             </td><td>0                             </td><td> 33                           </td><td>0                             </td><td> 560                          </td><td>305                           </td><td>11/09/17                      </td></tr>\n",
       "\t<tr><td>    80                        </td><td>Rua Desembargador Westphalen  </td><td>1                             </td><td>0                             </td><td> 80                           </td><td>1                             </td><td> 900                          </td><td>350                           </td><td>12/08/17                      </td></tr>\n",
       "\t<tr><td> 66490                        </td><td>Rua Desembargador Westphalen  </td><td>1                             </td><td>0                             </td><td> 80                           </td><td>1                             </td><td>1100                          </td><td>350                           </td><td>29/08/17                      </td></tr>\n",
       "\t<tr><td>  2381                        </td><td>Rua Rockefeller               </td><td>2                             </td><td>0                             </td><td> 54                           </td><td>0                             </td><td> 900                          </td><td>240                           </td><td>19/09/17                      </td></tr>\n",
       "\t<tr><td> 44803                        </td><td>Rua Rockefeller               </td><td>2                             </td><td>0                             </td><td> 77                           </td><td>1                             </td><td> 950                          </td><td>200                           </td><td>19/07/17                      </td></tr>\n",
       "</tbody>\n",
       "</table>\n"
      ],
      "text/latex": [
       "\\begin{tabular}{r|lllllllll}\n",
       " codigo & endereco & quartos & suite & area & vaga & aluguel & condominio & data\\\\\n",
       "\\hline\n",
       "\t     34                         & Rua Desembargador Westphalen   & 2                              & 0                              &  90                            & 0                              &  900                           & 371                            & 11/10/17                      \\\\\n",
       "\t    167                         & Rua Jose Loureiro              & 2                              & 0                              &  64                            & 0                              &  650                           & 428                            & 15/07/17                      \\\\\n",
       "\t   6784                         & Rua Jose Loureiro              & 2                              & 0                              &  81                            & 0                              & 1100                           & 400                            & 23/08/17                      \\\\\n",
       "\t     82                         & Rua Lourenço Pinto             & 2                              & 0                              &  50                            & 0                              & 1350                           & 300                            & 19/09/17                      \\\\\n",
       "\t   2970                         & Rua Lourenço Pinto             & 2                              & 0                              &  63                            & 0                              & 1300                           & 300                            & 05/08/17                      \\\\\n",
       "\t  34197                         & Alameda Doutor Muricy          & 2                              & 0                              &  80                            & 1                              &  900                           & 410                            & 23/10/17                      \\\\\n",
       "\t   5072                         & Alameda Doutor Muricy          & 2                              & 0                              &  84                            & 0                              & 1100                           & 382                            & 02/09/17                      \\\\\n",
       "\t    469                         & Rua Desembargador Westphalen   & 1                              & 0                              &  30                            & 0                              &  550                           & 210                            & 03/07/17                      \\\\\n",
       "\t     24                         & Rua Desembargador Westphalen   & 1                              & 0                              &  60                            & 1                              &  800                           & 120                            & 30/09/17                      \\\\\n",
       "\t     74                         & Avenida Visconde de Guarapuava & 2                              & 1                              & 132                            & 1                              & 1800                           & 520                            & 12/10/17                      \\\\\n",
       "\t   9850                         & Avenida Visconde de Guarapuava & 1                              & 0                              &  64                            & 1                              &  600                           & 326                            & 15/07/17                      \\\\\n",
       "\t  82343                         & Avenida Sete de Setembro       & 1                              & 0                              &  45                            & 0                              &  750                           & 420                            & 11/10/17                      \\\\\n",
       "\t  20802                         & Avenida Sete de Setembro       & 1                              & 0                              &  47                            & 0                              &  600                           & 405                            & 27/07/17                      \\\\\n",
       "\t    568                         & Rua Alferes Poli               & 1                              & 0                              &  43                            & 0                              &  600                           & 330                            & 12/08/17                      \\\\\n",
       "\t 294579                         & Avenida Silva Jardim           & 1                              & 0                              &  36                            & 0                              &  550                           & 350                            & 01/10/17                      \\\\\n",
       "\t  59375                         & Avenida Silva Jardim           & 1                              & 0                              &  33                            & 0                              &  560                           & 305                            & 11/09/17                      \\\\\n",
       "\t     80                         & Rua Desembargador Westphalen   & 1                              & 0                              &  80                            & 1                              &  900                           & 350                            & 12/08/17                      \\\\\n",
       "\t  66490                         & Rua Desembargador Westphalen   & 1                              & 0                              &  80                            & 1                              & 1100                           & 350                            & 29/08/17                      \\\\\n",
       "\t   2381                         & Rua Rockefeller                & 2                              & 0                              &  54                            & 0                              &  900                           & 240                            & 19/09/17                      \\\\\n",
       "\t  44803                         & Rua Rockefeller                & 2                              & 0                              &  77                            & 1                              &  950                           & 200                            & 19/07/17                      \\\\\n",
       "\\end{tabular}\n"
      ],
      "text/markdown": [
       "\n",
       "| codigo | endereco | quartos | suite | area | vaga | aluguel | condominio | data |\n",
       "|---|---|---|---|---|---|---|---|---|\n",
       "|     34                         | Rua Desembargador Westphalen   | 2                              | 0                              |  90                            | 0                              |  900                           | 371                            | 11/10/17                       |\n",
       "|    167                         | Rua Jose Loureiro              | 2                              | 0                              |  64                            | 0                              |  650                           | 428                            | 15/07/17                       |\n",
       "|   6784                         | Rua Jose Loureiro              | 2                              | 0                              |  81                            | 0                              | 1100                           | 400                            | 23/08/17                       |\n",
       "|     82                         | Rua Lourenço Pinto             | 2                              | 0                              |  50                            | 0                              | 1350                           | 300                            | 19/09/17                       |\n",
       "|   2970                         | Rua Lourenço Pinto             | 2                              | 0                              |  63                            | 0                              | 1300                           | 300                            | 05/08/17                       |\n",
       "|  34197                         | Alameda Doutor Muricy          | 2                              | 0                              |  80                            | 1                              |  900                           | 410                            | 23/10/17                       |\n",
       "|   5072                         | Alameda Doutor Muricy          | 2                              | 0                              |  84                            | 0                              | 1100                           | 382                            | 02/09/17                       |\n",
       "|    469                         | Rua Desembargador Westphalen   | 1                              | 0                              |  30                            | 0                              |  550                           | 210                            | 03/07/17                       |\n",
       "|     24                         | Rua Desembargador Westphalen   | 1                              | 0                              |  60                            | 1                              |  800                           | 120                            | 30/09/17                       |\n",
       "|     74                         | Avenida Visconde de Guarapuava | 2                              | 1                              | 132                            | 1                              | 1800                           | 520                            | 12/10/17                       |\n",
       "|   9850                         | Avenida Visconde de Guarapuava | 1                              | 0                              |  64                            | 1                              |  600                           | 326                            | 15/07/17                       |\n",
       "|  82343                         | Avenida Sete de Setembro       | 1                              | 0                              |  45                            | 0                              |  750                           | 420                            | 11/10/17                       |\n",
       "|  20802                         | Avenida Sete de Setembro       | 1                              | 0                              |  47                            | 0                              |  600                           | 405                            | 27/07/17                       |\n",
       "|    568                         | Rua Alferes Poli               | 1                              | 0                              |  43                            | 0                              |  600                           | 330                            | 12/08/17                       |\n",
       "| 294579                         | Avenida Silva Jardim           | 1                              | 0                              |  36                            | 0                              |  550                           | 350                            | 01/10/17                       |\n",
       "|  59375                         | Avenida Silva Jardim           | 1                              | 0                              |  33                            | 0                              |  560                           | 305                            | 11/09/17                       |\n",
       "|     80                         | Rua Desembargador Westphalen   | 1                              | 0                              |  80                            | 1                              |  900                           | 350                            | 12/08/17                       |\n",
       "|  66490                         | Rua Desembargador Westphalen   | 1                              | 0                              |  80                            | 1                              | 1100                           | 350                            | 29/08/17                       |\n",
       "|   2381                         | Rua Rockefeller                | 2                              | 0                              |  54                            | 0                              |  900                           | 240                            | 19/09/17                       |\n",
       "|  44803                         | Rua Rockefeller                | 2                              | 0                              |  77                            | 1                              |  950                           | 200                            | 19/07/17                       |\n",
       "\n"
      ],
      "text/plain": [
       "   codigo endereco                       quartos suite area vaga aluguel\n",
       "1      34 Rua Desembargador Westphalen   2       0      90  0     900   \n",
       "2     167 Rua Jose Loureiro              2       0      64  0     650   \n",
       "3    6784 Rua Jose Loureiro              2       0      81  0    1100   \n",
       "4      82 Rua Lourenço Pinto             2       0      50  0    1350   \n",
       "5    2970 Rua Lourenço Pinto             2       0      63  0    1300   \n",
       "6   34197 Alameda Doutor Muricy          2       0      80  1     900   \n",
       "7    5072 Alameda Doutor Muricy          2       0      84  0    1100   \n",
       "8     469 Rua Desembargador Westphalen   1       0      30  0     550   \n",
       "9      24 Rua Desembargador Westphalen   1       0      60  1     800   \n",
       "10     74 Avenida Visconde de Guarapuava 2       1     132  1    1800   \n",
       "11   9850 Avenida Visconde de Guarapuava 1       0      64  1     600   \n",
       "12  82343 Avenida Sete de Setembro       1       0      45  0     750   \n",
       "13  20802 Avenida Sete de Setembro       1       0      47  0     600   \n",
       "14    568 Rua Alferes Poli               1       0      43  0     600   \n",
       "15 294579 Avenida Silva Jardim           1       0      36  0     550   \n",
       "16  59375 Avenida Silva Jardim           1       0      33  0     560   \n",
       "17     80 Rua Desembargador Westphalen   1       0      80  1     900   \n",
       "18  66490 Rua Desembargador Westphalen   1       0      80  1    1100   \n",
       "19   2381 Rua Rockefeller                2       0      54  0     900   \n",
       "20  44803 Rua Rockefeller                2       0      77  1     950   \n",
       "   condominio data    \n",
       "1  371        11/10/17\n",
       "2  428        15/07/17\n",
       "3  400        23/08/17\n",
       "4  300        19/09/17\n",
       "5  300        05/08/17\n",
       "6  410        23/10/17\n",
       "7  382        02/09/17\n",
       "8  210        03/07/17\n",
       "9  120        30/09/17\n",
       "10 520        12/10/17\n",
       "11 326        15/07/17\n",
       "12 420        11/10/17\n",
       "13 405        27/07/17\n",
       "14 330        12/08/17\n",
       "15 350        01/10/17\n",
       "16 305        11/09/17\n",
       "17 350        12/08/17\n",
       "18 350        29/08/17\n",
       "19 240        19/09/17\n",
       "20 200        19/07/17"
      ]
     },
     "metadata": {},
     "output_type": "display_data"
    }
   ],
   "source": [
    "#read.table(\"endereço\") #Sintaxe\n",
    "#Exemplo:\n",
    "read.table(\"https://raw.githubusercontent.com/leonardodecuritiba/rdatascience/master/data/data_aluguel.csv\",header=T,sep=\",\")"
   ]
  },
  {
   "cell_type": "markdown",
   "metadata": {
    "colab_type": "text",
    "id": "xEDgGSA77ibM"
   },
   "source": [
    "# Medidas centrais e dispersão\n",
    "\n",
    "Vamos criar um vetor com pesos dos alunos:"
   ]
  },
  {
   "cell_type": "code",
   "execution_count": 7,
   "metadata": {
    "colab": {},
    "colab_type": "code",
    "id": "O4mF4AUf7q2d"
   },
   "outputs": [],
   "source": [
    "pa <- c(61,52,49,32,56,100,60,32,65,70,120)"
   ]
  },
  {
   "cell_type": "markdown",
   "metadata": {
    "colab_type": "text",
    "id": "_4xoiVP37vKJ"
   },
   "source": [
    "Exibindo o vetor inteiro (todas as posições):"
   ]
  },
  {
   "cell_type": "code",
   "execution_count": 8,
   "metadata": {
    "colab": {},
    "colab_type": "code",
    "id": "730vYPvW7xYC"
   },
   "outputs": [
    {
     "name": "stdout",
     "output_type": "stream",
     "text": [
      " [1]  61  52  49  32  56 100  60  32  65  70 120\n"
     ]
    }
   ],
   "source": [
    "print(pa)"
   ]
  },
  {
   "cell_type": "markdown",
   "metadata": {
    "colab_type": "text",
    "id": "Zx2_Ak4f78fb"
   },
   "source": [
    "Exibindo apenas a primeira posição:"
   ]
  },
  {
   "cell_type": "code",
   "execution_count": 9,
   "metadata": {
    "colab": {},
    "colab_type": "code",
    "id": "XBYugNf17-U9"
   },
   "outputs": [
    {
     "name": "stdout",
     "output_type": "stream",
     "text": [
      "[1] 61\n"
     ]
    }
   ],
   "source": [
    "print(pa[1])"
   ]
  },
  {
   "cell_type": "markdown",
   "metadata": {
    "colab_type": "text",
    "id": "lkWaxski8BcP"
   },
   "source": [
    "Exibindo apenas a décima posição:"
   ]
  },
  {
   "cell_type": "code",
   "execution_count": 10,
   "metadata": {
    "colab": {},
    "colab_type": "code",
    "id": "gD7wDUpI8CMv"
   },
   "outputs": [
    {
     "name": "stdout",
     "output_type": "stream",
     "text": [
      "[1] 70\n"
     ]
    }
   ],
   "source": [
    "print(pa[10])"
   ]
  },
  {
   "cell_type": "markdown",
   "metadata": {
    "colab_type": "text",
    "id": "kP_B7sjH8DpE"
   },
   "source": [
    "Exibindo a quantidade de posições do vetor:"
   ]
  },
  {
   "cell_type": "code",
   "execution_count": 11,
   "metadata": {
    "colab": {},
    "colab_type": "code",
    "id": "3CEMdL7y8Hka"
   },
   "outputs": [
    {
     "name": "stdout",
     "output_type": "stream",
     "text": [
      "[1] 11\n"
     ]
    }
   ],
   "source": [
    "print(length(pa))"
   ]
  },
  {
   "cell_type": "markdown",
   "metadata": {
    "colab_type": "text",
    "id": "hV2GkdsU9KPJ"
   },
   "source": [
    "Ordenando o vetor. A função *order* faz uma permutação que rearranja os valores em ordem crescente ou decrescente.\n",
    "\n",
    "Na verdade ela retorna as posições dos elementos ordenados.\n"
   ]
  },
  {
   "cell_type": "code",
   "execution_count": 12,
   "metadata": {
    "colab": {},
    "colab_type": "code",
    "id": "fd50n5li9MPP"
   },
   "outputs": [],
   "source": [
    "ni <- order(pa)"
   ]
  },
  {
   "cell_type": "markdown",
   "metadata": {
    "colab_type": "text",
    "id": "UeNhUryE9ZP8"
   },
   "source": [
    "Exibindo as posições do vetor ordenado:"
   ]
  },
  {
   "cell_type": "code",
   "execution_count": 13,
   "metadata": {
    "colab": {},
    "colab_type": "code",
    "id": "LArtn_PA9eVw"
   },
   "outputs": [
    {
     "name": "stdout",
     "output_type": "stream",
     "text": [
      " [1]  4  8  3  2  5  7  1  9 10  6 11\n"
     ]
    }
   ],
   "source": [
    "print(ni)"
   ]
  },
  {
   "cell_type": "markdown",
   "metadata": {
    "colab_type": "text",
    "id": "YuELmlpD-lor"
   },
   "source": [
    "Para obter um novo vetor com os elementos ordenados. Podemos fazer da seguinte forma:"
   ]
  },
  {
   "cell_type": "code",
   "execution_count": 14,
   "metadata": {
    "colab": {
     "base_uri": "https://localhost:8080/",
     "height": 34
    },
    "colab_type": "code",
    "executionInfo": {
     "elapsed": 665,
     "status": "ok",
     "timestamp": 1570129529970,
     "user": {
      "displayName": "Leonardo Zanin",
      "photoUrl": "https://lh3.googleusercontent.com/a-/AAuE7mBxtYq-qE3lFRkh0J8HQ-NJwRntY2o1Q-s34duhPhA=s64",
      "userId": "07901550678336566471"
     },
     "user_tz": 180
    },
    "id": "Sl3cynS3-HKD",
    "outputId": "cc2fe600-2612-4c4c-8020-2c82c1ac2760"
   },
   "outputs": [
    {
     "name": "stdout",
     "output_type": "stream",
     "text": [
      " [1]  32  32  49  52  56  60  61  65  70 100 120\n"
     ]
    }
   ],
   "source": [
    "a <- pa[ni]\n",
    "print(a)"
   ]
  },
  {
   "cell_type": "markdown",
   "metadata": {
    "colab_type": "text",
    "id": "psJWgeRe8JNF"
   },
   "source": [
    "# Medidas de tendência central"
   ]
  },
  {
   "cell_type": "markdown",
   "metadata": {
    "colab_type": "text",
    "id": "wxZ0ZVsb8MDk"
   },
   "source": [
    "Calculando a Média manualmente (soma dos pesos / quantidade de pessoas):"
   ]
  },
  {
   "cell_type": "code",
   "execution_count": 15,
   "metadata": {
    "colab": {},
    "colab_type": "code",
    "id": "MZKRneic8PDq"
   },
   "outputs": [
    {
     "name": "stdout",
     "output_type": "stream",
     "text": [
      "[1] 63.36364\n",
      "[1] 63.36364\n"
     ]
    }
   ],
   "source": [
    "media <- sum(a) / length(a)\n",
    "print(media)\n",
    "#também podemos utilizar a função \"mean()\"\n",
    "print(mean(a))"
   ]
  },
  {
   "cell_type": "markdown",
   "metadata": {
    "colab_type": "text",
    "id": "AEsUYrJM8QTO"
   },
   "source": [
    "Calculando a mediana dos pesos:"
   ]
  },
  {
   "cell_type": "code",
   "execution_count": 16,
   "metadata": {
    "colab": {},
    "colab_type": "code",
    "id": "kX3nZz0a8jXd"
   },
   "outputs": [
    {
     "name": "stdout",
     "output_type": "stream",
     "text": [
      "[1] 60\n"
     ]
    }
   ],
   "source": [
    "mediana <- median(a)\n",
    "print(mediana)"
   ]
  },
  {
   "cell_type": "markdown",
   "metadata": {
    "colab_type": "text",
    "id": "ukQQWpp48ljK"
   },
   "source": [
    "O R não possui uma função para calcular a Moda nos pacotes padrões.\n",
    "\n",
    "Existem duas formas que podemos utilizar para encontrarmos a moda de uma série\n",
    "de dados. São elas:\n",
    "\n",
    "*   **table()**: este comando ordena em ordem crescente os dados e indica o número de vezes em que o elemento se repete na série de dados apresentada. É utilizado\n",
    "para encontrar a moda em pequenas amostras.\n",
    "*   **subset()**: em oposição ao item anterior esta função é utilizada quando o tamanho da amostra é grande\n",
    "\n",
    "Este comando retorna a moda bem como o número de ocorrências do elemento em\n",
    "questão:\n",
    "\n",
    "\n",
    "```\n",
    "subset(table(), table() == max(table()))\n",
    "```\n",
    "\n"
   ]
  },
  {
   "cell_type": "code",
   "execution_count": 17,
   "metadata": {
    "colab": {
     "base_uri": "https://localhost:8080/",
     "height": 68
    },
    "colab_type": "code",
    "executionInfo": {
     "elapsed": 627,
     "status": "ok",
     "timestamp": 1570129568734,
     "user": {
      "displayName": "Leonardo Zanin",
      "photoUrl": "https://lh3.googleusercontent.com/a-/AAuE7mBxtYq-qE3lFRkh0J8HQ-NJwRntY2o1Q-s34duhPhA=s64",
      "userId": "07901550678336566471"
     },
     "user_tz": 180
    },
    "id": "_mvrLYxMAhFX",
    "outputId": "e95ef3b2-de3a-47a4-eb1c-e9e6bf067a95"
   },
   "outputs": [
    {
     "data": {
      "text/plain": [
       "a\n",
       " 32  49  52  56  60  61  65  70 100 120 \n",
       "  2   1   1   1   1   1   1   1   1   1 "
      ]
     },
     "metadata": {},
     "output_type": "display_data"
    }
   ],
   "source": [
    "#Exemplo:\n",
    "table(a)"
   ]
  },
  {
   "cell_type": "code",
   "execution_count": 18,
   "metadata": {
    "colab": {
     "base_uri": "https://localhost:8080/",
     "height": 34
    },
    "colab_type": "code",
    "executionInfo": {
     "elapsed": 755,
     "status": "ok",
     "timestamp": 1570129576930,
     "user": {
      "displayName": "Leonardo Zanin",
      "photoUrl": "https://lh3.googleusercontent.com/a-/AAuE7mBxtYq-qE3lFRkh0J8HQ-NJwRntY2o1Q-s34duhPhA=s64",
      "userId": "07901550678336566471"
     },
     "user_tz": 180
    },
    "id": "KuefM7lrA5Yo",
    "outputId": "4ea54b19-55d9-4a7e-8986-8b159f1dab26"
   },
   "outputs": [
    {
     "data": {
      "text/html": [
       "<strong>32:</strong> 2"
      ],
      "text/latex": [
       "\\textbf{32:} 2"
      ],
      "text/markdown": [
       "**32:** 2"
      ],
      "text/plain": [
       "32 \n",
       " 2 "
      ]
     },
     "metadata": {},
     "output_type": "display_data"
    }
   ],
   "source": [
    "subset(table(a),table(a)==max(table(a)))"
   ]
  },
  {
   "cell_type": "markdown",
   "metadata": {
    "colab_type": "text",
    "id": "3odLzlZMAKYK"
   },
   "source": [
    "Outra maneira de calcular a **Moda**, é através da criação de uma função:"
   ]
  },
  {
   "cell_type": "code",
   "execution_count": 19,
   "metadata": {
    "colab": {},
    "colab_type": "code",
    "id": "ZxGa59oq8z1z"
   },
   "outputs": [],
   "source": [
    "calcMode <- function(v) {\n",
    "  uniqv <- unique(v)\n",
    "  uniqv[which.max(tabulate(match(v, uniqv)))]\n",
    "}"
   ]
  },
  {
   "cell_type": "markdown",
   "metadata": {
    "colab_type": "text",
    "id": "hz3-uHoZ85t3"
   },
   "source": [
    "Invocando a função e calculando a moda do vetor:"
   ]
  },
  {
   "cell_type": "code",
   "execution_count": 20,
   "metadata": {
    "colab": {
     "base_uri": "https://localhost:8080/",
     "height": 34
    },
    "colab_type": "code",
    "executionInfo": {
     "elapsed": 647,
     "status": "ok",
     "timestamp": 1570129536825,
     "user": {
      "displayName": "Leonardo Zanin",
      "photoUrl": "https://lh3.googleusercontent.com/a-/AAuE7mBxtYq-qE3lFRkh0J8HQ-NJwRntY2o1Q-s34duhPhA=s64",
      "userId": "07901550678336566471"
     },
     "user_tz": 180
    },
    "id": "1YXdoqiy84Hn",
    "outputId": "8de5a4b4-3068-457d-8bb0-e361ba0c924f"
   },
   "outputs": [
    {
     "name": "stdout",
     "output_type": "stream",
     "text": [
      "[1] 32\n"
     ]
    }
   ],
   "source": [
    "moda <- calcMode(a)\n",
    "print(moda)"
   ]
  },
  {
   "cell_type": "markdown",
   "metadata": {
    "colab_type": "text",
    "id": "x4gtil3A80jT"
   },
   "source": [
    "Mostrando um histograma com a distribuição dos pesos (veremos mais sobre gráficos):"
   ]
  },
  {
   "cell_type": "code",
   "execution_count": 21,
   "metadata": {
    "colab": {},
    "colab_type": "code",
    "id": "EjCohEiw94jF"
   },
   "outputs": [
    {
     "data": {
      "image/png": "[encoded data removed]",
      "text/plain": [
       "Plot with title “Histogram of a”"
      ]
     },
     "metadata": {},
     "output_type": "display_data"
    }
   ],
   "source": [
    "hist(a)"
   ]
  },
  {
   "cell_type": "markdown",
   "metadata": {
    "colab_type": "text",
    "id": "foaEPnBUBPKS"
   },
   "source": [
    "**Quartis**: Podemos encontrar os quartis através do comando:\n",
    "\n",
    "\n",
    "```\n",
    "summary(dados)\n",
    "```\n",
    "\n",
    "A função summary é capaz de resumir vários tipos de objetos em uma única função.\n",
    "Dentre esses objetos encontram-se o primeiro e o terceiro quartil, sendo que o segundo\n",
    "quartil é dado indiretamente através da mediana:\n"
   ]
  },
  {
   "cell_type": "code",
   "execution_count": 22,
   "metadata": {
    "colab": {
     "base_uri": "https://localhost:8080/",
     "height": 51
    },
    "colab_type": "code",
    "executionInfo": {
     "elapsed": 751,
     "status": "ok",
     "timestamp": 1570129892493,
     "user": {
      "displayName": "Leonardo Zanin",
      "photoUrl": "https://lh3.googleusercontent.com/a-/AAuE7mBxtYq-qE3lFRkh0J8HQ-NJwRntY2o1Q-s34duhPhA=s64",
      "userId": "07901550678336566471"
     },
     "user_tz": 180
    },
    "id": "f3tbESskCK5m",
    "outputId": "fdace419-ed14-4c60-a6b6-1bf12d0f6106"
   },
   "outputs": [
    {
     "data": {
      "text/plain": [
       "   Min. 1st Qu.  Median    Mean 3rd Qu.    Max. \n",
       "  32,00   50,50   60,00   63,36   67,50  120,00 "
      ]
     },
     "metadata": {},
     "output_type": "display_data"
    }
   ],
   "source": [
    "summary(a)"
   ]
  },
  {
   "cell_type": "markdown",
   "metadata": {
    "colab_type": "text",
    "id": "wkZaNkgFCUv-"
   },
   "source": [
    "**Percentis**: Por padrão o R calcula os quantis (partes em que a série de dados é dividida) q0,\n",
    "q25, q50, q75, q100, os quais são obtidos através do comando:"
   ]
  },
  {
   "cell_type": "code",
   "execution_count": 23,
   "metadata": {
    "colab": {},
    "colab_type": "code",
    "id": "HeI3FtBaChMB"
   },
   "outputs": [
    {
     "data": {
      "text/html": [
       "<dl class=dl-horizontal>\n",
       "\t<dt>0%</dt>\n",
       "\t\t<dd>32</dd>\n",
       "\t<dt>25%</dt>\n",
       "\t\t<dd>50,5</dd>\n",
       "\t<dt>50%</dt>\n",
       "\t\t<dd>60</dd>\n",
       "\t<dt>75%</dt>\n",
       "\t\t<dd>67,5</dd>\n",
       "\t<dt>100%</dt>\n",
       "\t\t<dd>120</dd>\n",
       "</dl>\n"
      ],
      "text/latex": [
       "\\begin{description*}\n",
       "\\item[0\\textbackslash{}\\%] 32\n",
       "\\item[25\\textbackslash{}\\%] 50,5\n",
       "\\item[50\\textbackslash{}\\%] 60\n",
       "\\item[75\\textbackslash{}\\%] 67,5\n",
       "\\item[100\\textbackslash{}\\%] 120\n",
       "\\end{description*}\n"
      ],
      "text/markdown": [
       "0%\n",
       ":   3225%\n",
       ":   50,550%\n",
       ":   6075%\n",
       ":   67,5100%\n",
       ":   120\n",
       "\n"
      ],
      "text/plain": [
       "   0%   25%   50%   75%  100% \n",
       " 32,0  50,5  60,0  67,5 120,0 "
      ]
     },
     "metadata": {},
     "output_type": "display_data"
    }
   ],
   "source": [
    "quantile(a)"
   ]
  },
  {
   "cell_type": "markdown",
   "metadata": {
    "colab_type": "text",
    "id": "ElUL1zeyC4OD"
   },
   "source": [
    "Para obtermos os percentis, podemos utilizar o seguinte comando:\n",
    "\n",
    "```\n",
    "quantile(dados, c(valores dos percentis))\n",
    "```\n",
    "\n",
    "No exemplo abaixo calcularemos os percentis de 0.01 até 0.99 ao passo de 0.01 (lembre-se da aula anterior):"
   ]
  },
  {
   "cell_type": "code",
   "execution_count": 24,
   "metadata": {
    "colab": {},
    "colab_type": "code",
    "id": "gri__HiSDE34"
   },
   "outputs": [
    {
     "name": "stdout",
     "output_type": "stream",
     "text": [
      " [1] 0,01 0,02 0,03 0,04 0,05 0,06 0,07 0,08 0,09 0,10 0,11 0,12 0,13 0,14 0,15\n",
      "[16] 0,16 0,17 0,18 0,19 0,20 0,21 0,22 0,23 0,24 0,25 0,26 0,27 0,28 0,29 0,30\n",
      "[31] 0,31 0,32 0,33 0,34 0,35 0,36 0,37 0,38 0,39 0,40 0,41 0,42 0,43 0,44 0,45\n",
      "[46] 0,46 0,47 0,48 0,49 0,50 0,51 0,52 0,53 0,54 0,55 0,56 0,57 0,58 0,59 0,60\n",
      "[61] 0,61 0,62 0,63 0,64 0,65 0,66 0,67 0,68 0,69 0,70 0,71 0,72 0,73 0,74 0,75\n",
      "[76] 0,76 0,77 0,78 0,79 0,80 0,81 0,82 0,83 0,84 0,85 0,86 0,87 0,88 0,89 0,90\n",
      "[91] 0,91 0,92 0,93 0,94 0,95 0,96 0,97 0,98 0,99\n"
     ]
    }
   ],
   "source": [
    "percentis = seq(.01,.99,.01)\n",
    "print(percentis)"
   ]
  },
  {
   "cell_type": "code",
   "execution_count": 25,
   "metadata": {
    "colab": {},
    "colab_type": "code",
    "id": "oRPqGkNiDyw-"
   },
   "outputs": [
    {
     "data": {
      "text/html": [
       "<dl class=dl-horizontal>\n",
       "\t<dt>1%</dt>\n",
       "\t\t<dd>32</dd>\n",
       "\t<dt>2%</dt>\n",
       "\t\t<dd>32</dd>\n",
       "\t<dt>3%</dt>\n",
       "\t\t<dd>32</dd>\n",
       "\t<dt>4%</dt>\n",
       "\t\t<dd>32</dd>\n",
       "\t<dt>5%</dt>\n",
       "\t\t<dd>32</dd>\n",
       "\t<dt>6%</dt>\n",
       "\t\t<dd>32</dd>\n",
       "\t<dt>7%</dt>\n",
       "\t\t<dd>32</dd>\n",
       "\t<dt>8%</dt>\n",
       "\t\t<dd>32</dd>\n",
       "\t<dt>9%</dt>\n",
       "\t\t<dd>32</dd>\n",
       "\t<dt>10%</dt>\n",
       "\t\t<dd>32</dd>\n",
       "\t<dt>11%</dt>\n",
       "\t\t<dd>33,7</dd>\n",
       "\t<dt>12%</dt>\n",
       "\t\t<dd>35,4</dd>\n",
       "\t<dt>13%</dt>\n",
       "\t\t<dd>37,1</dd>\n",
       "\t<dt>14%</dt>\n",
       "\t\t<dd>38,8</dd>\n",
       "\t<dt>15%</dt>\n",
       "\t\t<dd>40,5</dd>\n",
       "\t<dt>16%</dt>\n",
       "\t\t<dd>42,2</dd>\n",
       "\t<dt>17%</dt>\n",
       "\t\t<dd>43,9</dd>\n",
       "\t<dt>18%</dt>\n",
       "\t\t<dd>45,6</dd>\n",
       "\t<dt>19%</dt>\n",
       "\t\t<dd>47,3</dd>\n",
       "\t<dt>20%</dt>\n",
       "\t\t<dd>49</dd>\n",
       "\t<dt>21%</dt>\n",
       "\t\t<dd>49,3</dd>\n",
       "\t<dt>22%</dt>\n",
       "\t\t<dd>49,6</dd>\n",
       "\t<dt>23%</dt>\n",
       "\t\t<dd>49,9</dd>\n",
       "\t<dt>24%</dt>\n",
       "\t\t<dd>50,2</dd>\n",
       "\t<dt>25%</dt>\n",
       "\t\t<dd>50,5</dd>\n",
       "\t<dt>26%</dt>\n",
       "\t\t<dd>50,8</dd>\n",
       "\t<dt>27%</dt>\n",
       "\t\t<dd>51,1</dd>\n",
       "\t<dt>28%</dt>\n",
       "\t\t<dd>51,4</dd>\n",
       "\t<dt>29%</dt>\n",
       "\t\t<dd>51,7</dd>\n",
       "\t<dt>30%</dt>\n",
       "\t\t<dd>52</dd>\n",
       "\t<dt>31%</dt>\n",
       "\t\t<dd>52,4</dd>\n",
       "\t<dt>32%</dt>\n",
       "\t\t<dd>52,8</dd>\n",
       "\t<dt>33%</dt>\n",
       "\t\t<dd>53,2</dd>\n",
       "\t<dt>34%</dt>\n",
       "\t\t<dd>53,6</dd>\n",
       "\t<dt>35%</dt>\n",
       "\t\t<dd>54</dd>\n",
       "\t<dt>36%</dt>\n",
       "\t\t<dd>54,4</dd>\n",
       "\t<dt>37%</dt>\n",
       "\t\t<dd>54,8</dd>\n",
       "\t<dt>38%</dt>\n",
       "\t\t<dd>55,2</dd>\n",
       "\t<dt>39%</dt>\n",
       "\t\t<dd>55,6</dd>\n",
       "\t<dt>40%</dt>\n",
       "\t\t<dd>56</dd>\n",
       "\t<dt>41%</dt>\n",
       "\t\t<dd>56,4</dd>\n",
       "\t<dt>42%</dt>\n",
       "\t\t<dd>56,8</dd>\n",
       "\t<dt>43%</dt>\n",
       "\t\t<dd>57,2</dd>\n",
       "\t<dt>44%</dt>\n",
       "\t\t<dd>57,6</dd>\n",
       "\t<dt>45%</dt>\n",
       "\t\t<dd>58</dd>\n",
       "\t<dt>46%</dt>\n",
       "\t\t<dd>58,4</dd>\n",
       "\t<dt>47%</dt>\n",
       "\t\t<dd>58,8</dd>\n",
       "\t<dt>48%</dt>\n",
       "\t\t<dd>59,2</dd>\n",
       "\t<dt>49%</dt>\n",
       "\t\t<dd>59,6</dd>\n",
       "\t<dt>50%</dt>\n",
       "\t\t<dd>60</dd>\n",
       "\t<dt>51%</dt>\n",
       "\t\t<dd>60,1</dd>\n",
       "\t<dt>52%</dt>\n",
       "\t\t<dd>60,2</dd>\n",
       "\t<dt>53%</dt>\n",
       "\t\t<dd>60,3</dd>\n",
       "\t<dt>54%</dt>\n",
       "\t\t<dd>60,4</dd>\n",
       "\t<dt>55%</dt>\n",
       "\t\t<dd>60,5</dd>\n",
       "\t<dt>56%</dt>\n",
       "\t\t<dd>60,6</dd>\n",
       "\t<dt>57%</dt>\n",
       "\t\t<dd>60,7</dd>\n",
       "\t<dt>58%</dt>\n",
       "\t\t<dd>60,8</dd>\n",
       "\t<dt>59%</dt>\n",
       "\t\t<dd>60,9</dd>\n",
       "\t<dt>60%</dt>\n",
       "\t\t<dd>61</dd>\n",
       "\t<dt>61%</dt>\n",
       "\t\t<dd>61,4</dd>\n",
       "\t<dt>62%</dt>\n",
       "\t\t<dd>61,8</dd>\n",
       "\t<dt>63%</dt>\n",
       "\t\t<dd>62,2</dd>\n",
       "\t<dt>64%</dt>\n",
       "\t\t<dd>62,6</dd>\n",
       "\t<dt>65%</dt>\n",
       "\t\t<dd>63</dd>\n",
       "\t<dt>66%</dt>\n",
       "\t\t<dd>63,4</dd>\n",
       "\t<dt>67%</dt>\n",
       "\t\t<dd>63,8</dd>\n",
       "\t<dt>68%</dt>\n",
       "\t\t<dd>64,2</dd>\n",
       "\t<dt>69%</dt>\n",
       "\t\t<dd>64,6</dd>\n",
       "\t<dt>70%</dt>\n",
       "\t\t<dd>65</dd>\n",
       "\t<dt>71%</dt>\n",
       "\t\t<dd>65,5</dd>\n",
       "\t<dt>72%</dt>\n",
       "\t\t<dd>66</dd>\n",
       "\t<dt>73%</dt>\n",
       "\t\t<dd>66,5</dd>\n",
       "\t<dt>74%</dt>\n",
       "\t\t<dd>67</dd>\n",
       "\t<dt>75%</dt>\n",
       "\t\t<dd>67,5</dd>\n",
       "\t<dt>76%</dt>\n",
       "\t\t<dd>68</dd>\n",
       "\t<dt>77%</dt>\n",
       "\t\t<dd>68,5</dd>\n",
       "\t<dt>78%</dt>\n",
       "\t\t<dd>69</dd>\n",
       "\t<dt>79%</dt>\n",
       "\t\t<dd>69,5</dd>\n",
       "\t<dt>80%</dt>\n",
       "\t\t<dd>70</dd>\n",
       "\t<dt>81%</dt>\n",
       "\t\t<dd>73</dd>\n",
       "\t<dt>82%</dt>\n",
       "\t\t<dd>76</dd>\n",
       "\t<dt>83%</dt>\n",
       "\t\t<dd>79</dd>\n",
       "\t<dt>84%</dt>\n",
       "\t\t<dd>82</dd>\n",
       "\t<dt>85%</dt>\n",
       "\t\t<dd>85</dd>\n",
       "\t<dt>86%</dt>\n",
       "\t\t<dd>88</dd>\n",
       "\t<dt>87%</dt>\n",
       "\t\t<dd>91</dd>\n",
       "\t<dt>88%</dt>\n",
       "\t\t<dd>94</dd>\n",
       "\t<dt>89%</dt>\n",
       "\t\t<dd>97</dd>\n",
       "\t<dt>90%</dt>\n",
       "\t\t<dd>100</dd>\n",
       "\t<dt>91%</dt>\n",
       "\t\t<dd>102</dd>\n",
       "\t<dt>92%</dt>\n",
       "\t\t<dd>104</dd>\n",
       "\t<dt>93%</dt>\n",
       "\t\t<dd>106</dd>\n",
       "\t<dt>94%</dt>\n",
       "\t\t<dd>108</dd>\n",
       "\t<dt>95%</dt>\n",
       "\t\t<dd>110</dd>\n",
       "\t<dt>96%</dt>\n",
       "\t\t<dd>112</dd>\n",
       "\t<dt>97%</dt>\n",
       "\t\t<dd>114</dd>\n",
       "\t<dt>98%</dt>\n",
       "\t\t<dd>116</dd>\n",
       "\t<dt>99%</dt>\n",
       "\t\t<dd>118</dd>\n",
       "</dl>\n"
      ],
      "text/latex": [
       "\\begin{description*}\n",
       "\\item[1\\textbackslash{}\\%] 32\n",
       "\\item[2\\textbackslash{}\\%] 32\n",
       "\\item[3\\textbackslash{}\\%] 32\n",
       "\\item[4\\textbackslash{}\\%] 32\n",
       "\\item[5\\textbackslash{}\\%] 32\n",
       "\\item[6\\textbackslash{}\\%] 32\n",
       "\\item[7\\textbackslash{}\\%] 32\n",
       "\\item[8\\textbackslash{}\\%] 32\n",
       "\\item[9\\textbackslash{}\\%] 32\n",
       "\\item[10\\textbackslash{}\\%] 32\n",
       "\\item[11\\textbackslash{}\\%] 33,7\n",
       "\\item[12\\textbackslash{}\\%] 35,4\n",
       "\\item[13\\textbackslash{}\\%] 37,1\n",
       "\\item[14\\textbackslash{}\\%] 38,8\n",
       "\\item[15\\textbackslash{}\\%] 40,5\n",
       "\\item[16\\textbackslash{}\\%] 42,2\n",
       "\\item[17\\textbackslash{}\\%] 43,9\n",
       "\\item[18\\textbackslash{}\\%] 45,6\n",
       "\\item[19\\textbackslash{}\\%] 47,3\n",
       "\\item[20\\textbackslash{}\\%] 49\n",
       "\\item[21\\textbackslash{}\\%] 49,3\n",
       "\\item[22\\textbackslash{}\\%] 49,6\n",
       "\\item[23\\textbackslash{}\\%] 49,9\n",
       "\\item[24\\textbackslash{}\\%] 50,2\n",
       "\\item[25\\textbackslash{}\\%] 50,5\n",
       "\\item[26\\textbackslash{}\\%] 50,8\n",
       "\\item[27\\textbackslash{}\\%] 51,1\n",
       "\\item[28\\textbackslash{}\\%] 51,4\n",
       "\\item[29\\textbackslash{}\\%] 51,7\n",
       "\\item[30\\textbackslash{}\\%] 52\n",
       "\\item[31\\textbackslash{}\\%] 52,4\n",
       "\\item[32\\textbackslash{}\\%] 52,8\n",
       "\\item[33\\textbackslash{}\\%] 53,2\n",
       "\\item[34\\textbackslash{}\\%] 53,6\n",
       "\\item[35\\textbackslash{}\\%] 54\n",
       "\\item[36\\textbackslash{}\\%] 54,4\n",
       "\\item[37\\textbackslash{}\\%] 54,8\n",
       "\\item[38\\textbackslash{}\\%] 55,2\n",
       "\\item[39\\textbackslash{}\\%] 55,6\n",
       "\\item[40\\textbackslash{}\\%] 56\n",
       "\\item[41\\textbackslash{}\\%] 56,4\n",
       "\\item[42\\textbackslash{}\\%] 56,8\n",
       "\\item[43\\textbackslash{}\\%] 57,2\n",
       "\\item[44\\textbackslash{}\\%] 57,6\n",
       "\\item[45\\textbackslash{}\\%] 58\n",
       "\\item[46\\textbackslash{}\\%] 58,4\n",
       "\\item[47\\textbackslash{}\\%] 58,8\n",
       "\\item[48\\textbackslash{}\\%] 59,2\n",
       "\\item[49\\textbackslash{}\\%] 59,6\n",
       "\\item[50\\textbackslash{}\\%] 60\n",
       "\\item[51\\textbackslash{}\\%] 60,1\n",
       "\\item[52\\textbackslash{}\\%] 60,2\n",
       "\\item[53\\textbackslash{}\\%] 60,3\n",
       "\\item[54\\textbackslash{}\\%] 60,4\n",
       "\\item[55\\textbackslash{}\\%] 60,5\n",
       "\\item[56\\textbackslash{}\\%] 60,6\n",
       "\\item[57\\textbackslash{}\\%] 60,7\n",
       "\\item[58\\textbackslash{}\\%] 60,8\n",
       "\\item[59\\textbackslash{}\\%] 60,9\n",
       "\\item[60\\textbackslash{}\\%] 61\n",
       "\\item[61\\textbackslash{}\\%] 61,4\n",
       "\\item[62\\textbackslash{}\\%] 61,8\n",
       "\\item[63\\textbackslash{}\\%] 62,2\n",
       "\\item[64\\textbackslash{}\\%] 62,6\n",
       "\\item[65\\textbackslash{}\\%] 63\n",
       "\\item[66\\textbackslash{}\\%] 63,4\n",
       "\\item[67\\textbackslash{}\\%] 63,8\n",
       "\\item[68\\textbackslash{}\\%] 64,2\n",
       "\\item[69\\textbackslash{}\\%] 64,6\n",
       "\\item[70\\textbackslash{}\\%] 65\n",
       "\\item[71\\textbackslash{}\\%] 65,5\n",
       "\\item[72\\textbackslash{}\\%] 66\n",
       "\\item[73\\textbackslash{}\\%] 66,5\n",
       "\\item[74\\textbackslash{}\\%] 67\n",
       "\\item[75\\textbackslash{}\\%] 67,5\n",
       "\\item[76\\textbackslash{}\\%] 68\n",
       "\\item[77\\textbackslash{}\\%] 68,5\n",
       "\\item[78\\textbackslash{}\\%] 69\n",
       "\\item[79\\textbackslash{}\\%] 69,5\n",
       "\\item[80\\textbackslash{}\\%] 70\n",
       "\\item[81\\textbackslash{}\\%] 73\n",
       "\\item[82\\textbackslash{}\\%] 76\n",
       "\\item[83\\textbackslash{}\\%] 79\n",
       "\\item[84\\textbackslash{}\\%] 82\n",
       "\\item[85\\textbackslash{}\\%] 85\n",
       "\\item[86\\textbackslash{}\\%] 88\n",
       "\\item[87\\textbackslash{}\\%] 91\n",
       "\\item[88\\textbackslash{}\\%] 94\n",
       "\\item[89\\textbackslash{}\\%] 97\n",
       "\\item[90\\textbackslash{}\\%] 100\n",
       "\\item[91\\textbackslash{}\\%] 102\n",
       "\\item[92\\textbackslash{}\\%] 104\n",
       "\\item[93\\textbackslash{}\\%] 106\n",
       "\\item[94\\textbackslash{}\\%] 108\n",
       "\\item[95\\textbackslash{}\\%] 110\n",
       "\\item[96\\textbackslash{}\\%] 112\n",
       "\\item[97\\textbackslash{}\\%] 114\n",
       "\\item[98\\textbackslash{}\\%] 116\n",
       "\\item[99\\textbackslash{}\\%] 118\n",
       "\\end{description*}\n"
      ],
      "text/markdown": [
       "1%\n",
       ":   322%\n",
       ":   323%\n",
       ":   324%\n",
       ":   325%\n",
       ":   326%\n",
       ":   327%\n",
       ":   328%\n",
       ":   329%\n",
       ":   3210%\n",
       ":   3211%\n",
       ":   33,712%\n",
       ":   35,413%\n",
       ":   37,114%\n",
       ":   38,815%\n",
       ":   40,516%\n",
       ":   42,217%\n",
       ":   43,918%\n",
       ":   45,619%\n",
       ":   47,320%\n",
       ":   4921%\n",
       ":   49,322%\n",
       ":   49,623%\n",
       ":   49,924%\n",
       ":   50,225%\n",
       ":   50,526%\n",
       ":   50,827%\n",
       ":   51,128%\n",
       ":   51,429%\n",
       ":   51,730%\n",
       ":   5231%\n",
       ":   52,432%\n",
       ":   52,833%\n",
       ":   53,234%\n",
       ":   53,635%\n",
       ":   5436%\n",
       ":   54,437%\n",
       ":   54,838%\n",
       ":   55,239%\n",
       ":   55,640%\n",
       ":   5641%\n",
       ":   56,442%\n",
       ":   56,843%\n",
       ":   57,244%\n",
       ":   57,645%\n",
       ":   5846%\n",
       ":   58,447%\n",
       ":   58,848%\n",
       ":   59,249%\n",
       ":   59,650%\n",
       ":   6051%\n",
       ":   60,152%\n",
       ":   60,253%\n",
       ":   60,354%\n",
       ":   60,455%\n",
       ":   60,556%\n",
       ":   60,657%\n",
       ":   60,758%\n",
       ":   60,859%\n",
       ":   60,960%\n",
       ":   6161%\n",
       ":   61,462%\n",
       ":   61,863%\n",
       ":   62,264%\n",
       ":   62,665%\n",
       ":   6366%\n",
       ":   63,467%\n",
       ":   63,868%\n",
       ":   64,269%\n",
       ":   64,670%\n",
       ":   6571%\n",
       ":   65,572%\n",
       ":   6673%\n",
       ":   66,574%\n",
       ":   6775%\n",
       ":   67,576%\n",
       ":   6877%\n",
       ":   68,578%\n",
       ":   6979%\n",
       ":   69,580%\n",
       ":   7081%\n",
       ":   7382%\n",
       ":   7683%\n",
       ":   7984%\n",
       ":   8285%\n",
       ":   8586%\n",
       ":   8887%\n",
       ":   9188%\n",
       ":   9489%\n",
       ":   9790%\n",
       ":   10091%\n",
       ":   10292%\n",
       ":   10493%\n",
       ":   10694%\n",
       ":   10895%\n",
       ":   11096%\n",
       ":   11297%\n",
       ":   11498%\n",
       ":   11699%\n",
       ":   118\n",
       "\n"
      ],
      "text/plain": [
       "   1%    2%    3%    4%    5%    6%    7%    8%    9%   10%   11%   12%   13% \n",
       " 32,0  32,0  32,0  32,0  32,0  32,0  32,0  32,0  32,0  32,0  33,7  35,4  37,1 \n",
       "  14%   15%   16%   17%   18%   19%   20%   21%   22%   23%   24%   25%   26% \n",
       " 38,8  40,5  42,2  43,9  45,6  47,3  49,0  49,3  49,6  49,9  50,2  50,5  50,8 \n",
       "  27%   28%   29%   30%   31%   32%   33%   34%   35%   36%   37%   38%   39% \n",
       " 51,1  51,4  51,7  52,0  52,4  52,8  53,2  53,6  54,0  54,4  54,8  55,2  55,6 \n",
       "  40%   41%   42%   43%   44%   45%   46%   47%   48%   49%   50%   51%   52% \n",
       " 56,0  56,4  56,8  57,2  57,6  58,0  58,4  58,8  59,2  59,6  60,0  60,1  60,2 \n",
       "  53%   54%   55%   56%   57%   58%   59%   60%   61%   62%   63%   64%   65% \n",
       " 60,3  60,4  60,5  60,6  60,7  60,8  60,9  61,0  61,4  61,8  62,2  62,6  63,0 \n",
       "  66%   67%   68%   69%   70%   71%   72%   73%   74%   75%   76%   77%   78% \n",
       " 63,4  63,8  64,2  64,6  65,0  65,5  66,0  66,5  67,0  67,5  68,0  68,5  69,0 \n",
       "  79%   80%   81%   82%   83%   84%   85%   86%   87%   88%   89%   90%   91% \n",
       " 69,5  70,0  73,0  76,0  79,0  82,0  85,0  88,0  91,0  94,0  97,0 100,0 102,0 \n",
       "  92%   93%   94%   95%   96%   97%   98%   99% \n",
       "104,0 106,0 108,0 110,0 112,0 114,0 116,0 118,0 "
      ]
     },
     "metadata": {},
     "output_type": "display_data"
    }
   ],
   "source": [
    "quantile(a, percentis)"
   ]
  },
  {
   "cell_type": "markdown",
   "metadata": {
    "colab_type": "text",
    "id": "u316XbJzD38D"
   },
   "source": [
    "**Decis**: Também usamos o comando quantile() para calcular o decis:\n",
    "\n",
    "\n",
    "```\n",
    "quantile(dados, seq(0.10, 0.9, 0.1))\n",
    "```\n",
    "\n"
   ]
  },
  {
   "cell_type": "code",
   "execution_count": 26,
   "metadata": {
    "colab": {
     "base_uri": "https://localhost:8080/",
     "height": 34
    },
    "colab_type": "code",
    "executionInfo": {
     "elapsed": 649,
     "status": "ok",
     "timestamp": 1570130457528,
     "user": {
      "displayName": "Leonardo Zanin",
      "photoUrl": "https://lh3.googleusercontent.com/a-/AAuE7mBxtYq-qE3lFRkh0J8HQ-NJwRntY2o1Q-s34duhPhA=s64",
      "userId": "07901550678336566471"
     },
     "user_tz": 180
    },
    "id": "bXX8zj3CEJSv",
    "outputId": "2d344143-da47-49af-b8a3-de8d219101ff"
   },
   "outputs": [
    {
     "name": "stdout",
     "output_type": "stream",
     "text": [
      "[1] 0,1 0,2 0,3 0,4 0,5 0,6 0,7 0,8 0,9\n"
     ]
    }
   ],
   "source": [
    "decis = seq(0.1, 0.9, 0.1)\n",
    "print(decis)"
   ]
  },
  {
   "cell_type": "code",
   "execution_count": 27,
   "metadata": {
    "colab": {
     "base_uri": "https://localhost:8080/",
     "height": 351
    },
    "colab_type": "code",
    "executionInfo": {
     "elapsed": 639,
     "status": "ok",
     "timestamp": 1570130459531,
     "user": {
      "displayName": "Leonardo Zanin",
      "photoUrl": "https://lh3.googleusercontent.com/a-/AAuE7mBxtYq-qE3lFRkh0J8HQ-NJwRntY2o1Q-s34duhPhA=s64",
      "userId": "07901550678336566471"
     },
     "user_tz": 180
    },
    "id": "eSDG-5RbEOk6",
    "outputId": "47fb1b15-0b54-4df4-d314-e172082c38f0"
   },
   "outputs": [
    {
     "data": {
      "text/html": [
       "<dl class=dl-horizontal>\n",
       "\t<dt>10%</dt>\n",
       "\t\t<dd>32</dd>\n",
       "\t<dt>20%</dt>\n",
       "\t\t<dd>49</dd>\n",
       "\t<dt>30%</dt>\n",
       "\t\t<dd>52</dd>\n",
       "\t<dt>40%</dt>\n",
       "\t\t<dd>56</dd>\n",
       "\t<dt>50%</dt>\n",
       "\t\t<dd>60</dd>\n",
       "\t<dt>60%</dt>\n",
       "\t\t<dd>61</dd>\n",
       "\t<dt>70%</dt>\n",
       "\t\t<dd>65</dd>\n",
       "\t<dt>80%</dt>\n",
       "\t\t<dd>70</dd>\n",
       "\t<dt>90%</dt>\n",
       "\t\t<dd>100</dd>\n",
       "</dl>\n"
      ],
      "text/latex": [
       "\\begin{description*}\n",
       "\\item[10\\textbackslash{}\\%] 32\n",
       "\\item[20\\textbackslash{}\\%] 49\n",
       "\\item[30\\textbackslash{}\\%] 52\n",
       "\\item[40\\textbackslash{}\\%] 56\n",
       "\\item[50\\textbackslash{}\\%] 60\n",
       "\\item[60\\textbackslash{}\\%] 61\n",
       "\\item[70\\textbackslash{}\\%] 65\n",
       "\\item[80\\textbackslash{}\\%] 70\n",
       "\\item[90\\textbackslash{}\\%] 100\n",
       "\\end{description*}\n"
      ],
      "text/markdown": [
       "10%\n",
       ":   3220%\n",
       ":   4930%\n",
       ":   5240%\n",
       ":   5650%\n",
       ":   6060%\n",
       ":   6170%\n",
       ":   6580%\n",
       ":   7090%\n",
       ":   100\n",
       "\n"
      ],
      "text/plain": [
       "10% 20% 30% 40% 50% 60% 70% 80% 90% \n",
       " 32  49  52  56  60  61  65  70 100 "
      ]
     },
     "metadata": {},
     "output_type": "display_data"
    }
   ],
   "source": [
    "quantile(a, decis)"
   ]
  },
  {
   "cell_type": "markdown",
   "metadata": {
    "colab_type": "text",
    "id": "yiJZw8Y0_Rn7"
   },
   "source": [
    "# Medidas de dispersão"
   ]
  },
  {
   "cell_type": "markdown",
   "metadata": {
    "colab_type": "text",
    "id": "6SMNYHOq_YvR"
   },
   "source": [
    "Para calcularmos a **amplitude** de um conjunto, basta calcularmos diferença entre o maior e menor dos valores da série.\n",
    "Em uma série de dados podemos encontrar os valores máximos e mínimos através\n",
    "dos seguintes comandos:\n",
    "\n",
    "\n",
    "```\n",
    "max(dados)\n",
    "min(dados)\n",
    "```\n",
    "\n",
    "Outra forma de obter o maior e menor valor da série de dados é utilizar o comando:\n",
    "\n",
    "\n",
    "```\n",
    "range(dados)\n",
    "```"
   ]
  },
  {
   "cell_type": "code",
   "execution_count": 28,
   "metadata": {
    "colab": {
     "base_uri": "https://localhost:8080/",
     "height": 79
    },
    "colab_type": "code",
    "executionInfo": {
     "elapsed": 628,
     "status": "ok",
     "timestamp": 1570130622596,
     "user": {
      "displayName": "Leonardo Zanin",
      "photoUrl": "https://lh3.googleusercontent.com/a-/AAuE7mBxtYq-qE3lFRkh0J8HQ-NJwRntY2o1Q-s34duhPhA=s64",
      "userId": "07901550678336566471"
     },
     "user_tz": 180
    },
    "id": "VOQbfRNfE-N3",
    "outputId": "c88f042e-9e6e-4b28-a4db-9dd3e1aaa14a"
   },
   "outputs": [
    {
     "data": {
      "text/html": [
       "<ol class=list-inline>\n",
       "\t<li>32</li>\n",
       "\t<li>120</li>\n",
       "</ol>\n"
      ],
      "text/latex": [
       "\\begin{enumerate*}\n",
       "\\item 32\n",
       "\\item 120\n",
       "\\end{enumerate*}\n"
      ],
      "text/markdown": [
       "1. 32\n",
       "2. 120\n",
       "\n",
       "\n"
      ],
      "text/plain": [
       "[1]  32 120"
      ]
     },
     "metadata": {},
     "output_type": "display_data"
    }
   ],
   "source": [
    "range(a)"
   ]
  },
  {
   "cell_type": "code",
   "execution_count": 29,
   "metadata": {
    "colab": {
     "base_uri": "https://localhost:8080/",
     "height": 34
    },
    "colab_type": "code",
    "executionInfo": {
     "elapsed": 627,
     "status": "ok",
     "timestamp": 1570130655842,
     "user": {
      "displayName": "Leonardo Zanin",
      "photoUrl": "https://lh3.googleusercontent.com/a-/AAuE7mBxtYq-qE3lFRkh0J8HQ-NJwRntY2o1Q-s34duhPhA=s64",
      "userId": "07901550678336566471"
     },
     "user_tz": 180
    },
    "id": "aK7-zmrDFDKN",
    "outputId": "2f9ee484-bd8d-4f5a-9c8e-291321246693"
   },
   "outputs": [
    {
     "name": "stdout",
     "output_type": "stream",
     "text": [
      "[1] 88\n"
     ]
    }
   ],
   "source": [
    "amp <- max(a) - min(a)\n",
    "print(amp)"
   ]
  },
  {
   "cell_type": "markdown",
   "metadata": {
    "colab_type": "text",
    "id": "EY5d1z60F2k0"
   },
   "source": [
    "O comando para o cálculo do **desvio padrão** é o seguinte:"
   ]
  },
  {
   "cell_type": "code",
   "execution_count": 30,
   "metadata": {
    "colab": {
     "base_uri": "https://localhost:8080/",
     "height": 34
    },
    "colab_type": "code",
    "executionInfo": {
     "elapsed": 650,
     "status": "ok",
     "timestamp": 1570131000906,
     "user": {
      "displayName": "Leonardo Zanin",
      "photoUrl": "https://lh3.googleusercontent.com/a-/AAuE7mBxtYq-qE3lFRkh0J8HQ-NJwRntY2o1Q-s34duhPhA=s64",
      "userId": "07901550678336566471"
     },
     "user_tz": 180
    },
    "id": "nxNs3u6IGCjQ",
    "outputId": "bf8de2c3-ed2f-4679-c2f1-861090828996"
   },
   "outputs": [
    {
     "name": "stdout",
     "output_type": "stream",
     "text": [
      "[1] 26,40179\n"
     ]
    }
   ],
   "source": [
    "vsd <- sd(a)\n",
    "print(vsd)"
   ]
  },
  {
   "cell_type": "markdown",
   "metadata": {
    "colab_type": "text",
    "id": "087YlRQyFQwj"
   },
   "source": [
    "O comando para o cálculo da **variância** é o seguinte:"
   ]
  },
  {
   "cell_type": "code",
   "execution_count": 31,
   "metadata": {
    "colab": {
     "base_uri": "https://localhost:8080/",
     "height": 34
    },
    "colab_type": "code",
    "executionInfo": {
     "elapsed": 633,
     "status": "ok",
     "timestamp": 1570130998661,
     "user": {
      "displayName": "Leonardo Zanin",
      "photoUrl": "https://lh3.googleusercontent.com/a-/AAuE7mBxtYq-qE3lFRkh0J8HQ-NJwRntY2o1Q-s34duhPhA=s64",
      "userId": "07901550678336566471"
     },
     "user_tz": 180
    },
    "id": "nHYXojlTFanU",
    "outputId": "d11ba062-4441-4b12-9b35-915cec2d2512"
   },
   "outputs": [
    {
     "name": "stdout",
     "output_type": "stream",
     "text": [
      "[1] 697,0545\n"
     ]
    }
   ],
   "source": [
    "vvar <- var(a)\n",
    "print(vvar)"
   ]
  },
  {
   "cell_type": "markdown",
   "metadata": {
    "colab_type": "text",
    "id": "sgzZzmt9Gitr"
   },
   "source": [
    "Para calcularmos o **coeficiente de variação** do conjunto, podemos proceder da seguinte forma:"
   ]
  },
  {
   "cell_type": "code",
   "execution_count": 32,
   "metadata": {
    "colab": {
     "base_uri": "https://localhost:8080/",
     "height": 34
    },
    "colab_type": "code",
    "executionInfo": {
     "elapsed": 635,
     "status": "ok",
     "timestamp": 1570131109185,
     "user": {
      "displayName": "Leonardo Zanin",
      "photoUrl": "https://lh3.googleusercontent.com/a-/AAuE7mBxtYq-qE3lFRkh0J8HQ-NJwRntY2o1Q-s34duhPhA=s64",
      "userId": "07901550678336566471"
     },
     "user_tz": 180
    },
    "id": "03yjE2qOGvbI",
    "outputId": "8ad8e798-f727-44c9-8ff9-ce5174d5ce43"
   },
   "outputs": [
    {
     "name": "stdout",
     "output_type": "stream",
     "text": [
      "[1] 41,6671\n"
     ]
    }
   ],
   "source": [
    "cv <- 100*sd(a)/mean(a)\n",
    "print(cv)"
   ]
  },
  {
   "cell_type": "markdown",
   "metadata": {
    "colab_type": "text",
    "id": "YI0wrGPaL_Qo"
   },
   "source": [
    "# Exemplo completo"
   ]
  },
  {
   "cell_type": "code",
   "execution_count": 33,
   "metadata": {
    "colab": {},
    "colab_type": "code",
    "id": "WR-Pm9XpMFFl"
   },
   "outputs": [
    {
     "name": "stdout",
     "output_type": "stream",
     "text": [
      "[1] \"Média da turma 1: 72,490357705\"\n",
      "[1] \"Mediana da turma 1: 73,279076445\"\n"
     ]
    }
   ],
   "source": [
    "turma1 <- c(75.02786847, 56.51450656, 55.57517955, 62.00893933,\n",
    "            82.82022277, 91.78076684, 71.53028442, 82.22315417,\n",
    "            71.14621041, 76.27644453)\n",
    "print(paste('Média da turma 1:',mean(turma1)))\n",
    "print(paste('Mediana da turma 1:',median(turma1)))"
   ]
  },
  {
   "cell_type": "code",
   "execution_count": 34,
   "metadata": {
    "colab": {},
    "colab_type": "code",
    "id": "TTflkkOyMLTS"
   },
   "outputs": [
    {
     "name": "stdout",
     "output_type": "stream",
     "text": [
      "[1] \"Média da turma 2: 59,332859788\"\n",
      "[1] \"Mediana da turma 2: 60,806292295\"\n"
     ]
    }
   ],
   "source": [
    "turma2 <- c(63.96213546,  51.00946728,  54.48449137,  53.62955058,\n",
    "            61.62138863,  59.99119596,  57.61297576,  62.52220793,\n",
    "            64.54041384,  63.95477107)\n",
    "print(paste('Média da turma 2:',mean(turma2)))\n",
    "print(paste('Mediana da turma 2:',median(turma2)))"
   ]
  },
  {
   "cell_type": "code",
   "execution_count": 38,
   "metadata": {
    "colab": {},
    "colab_type": "code",
    "id": "UOyq_0qNMOFF"
   },
   "outputs": [
    {
     "data": {
      "image/png": "[encoded data removed]",
      "text/plain": [
       "Plot with title “Histograma de Alunos”"
      ]
     },
     "metadata": {},
     "output_type": "display_data"
    }
   ],
   "source": [
    "hist(turma1, xlab=\"Pesos\", ylab=\"Frequência\", main=\"Histograma da turma 1\")"
   ]
  },
  {
   "cell_type": "code",
   "execution_count": 40,
   "metadata": {
    "colab": {},
    "colab_type": "code",
    "id": "Jd7SdzYcMPhe"
   },
   "outputs": [
    {
     "data": {
      "image/png": "[encoded data removed]",
      "text/plain": [
       "Plot with title “Histograma da turma 2”"
      ]
     },
     "metadata": {},
     "output_type": "display_data"
    }
   ],
   "source": [
    "hist(turma2, xlab=\"Pesos\", ylab=\"Frequência\", main=\"Histograma da turma 2\")"
   ]
  },
  {
   "cell_type": "code",
   "execution_count": 41,
   "metadata": {
    "colab": {},
    "colab_type": "code",
    "id": "uDNnED65MT0t"
   },
   "outputs": [
    {
     "name": "stdout",
     "output_type": "stream",
     "text": [
      "[1] \"Amplitude da turma 1: 36,20558729\"\n",
      "[1] \"Amplitude da turma 2: 13,53094656\"\n"
     ]
    }
   ],
   "source": [
    "ampTurma1 <- max(turma1) - min(turma1)\n",
    "ampTurma2 <- max(turma2) - min(turma2)\n",
    "print(paste('Amplitude da turma 1:',ampTurma1))\n",
    "print(paste('Amplitude da turma 2:',ampTurma2))"
   ]
  },
  {
   "cell_type": "code",
   "execution_count": 42,
   "metadata": {
    "colab": {},
    "colab_type": "code",
    "id": "WPpaFA6aMUU_"
   },
   "outputs": [
    {
     "name": "stdout",
     "output_type": "stream",
     "text": [
      "[1] \"Variância amostral da turma 1: 138,696268205827\"\n",
      "[1] \"Variância amostral da turma 2: 23,7805405386864\"\n"
     ]
    }
   ],
   "source": [
    "# Variância amostral:\n",
    "varTurma1 <- var(turma1) # amostra\n",
    "varTurma2 <- var(turma2) # amostra\n",
    "\n",
    "print(paste('Variância amostral da turma 1:',varTurma1))\n",
    "print(paste('Variância amostral da turma 2:',varTurma2))"
   ]
  },
  {
   "cell_type": "code",
   "execution_count": 43,
   "metadata": {
    "colab": {},
    "colab_type": "code",
    "id": "8B8H9PK1MWG1"
   },
   "outputs": [
    {
     "name": "stdout",
     "output_type": "stream",
     "text": [
      "[1] \"Variância populacional da turma 1: 124,826641385245\"\n",
      "[1] \"Variância populacional da turma 2: 21,4024864848177\"\n"
     ]
    }
   ],
   "source": [
    "# Variância populacional:\n",
    "vPopT1 <- mean((turma1-mean(turma1))^2)\n",
    "vPopT2 <- mean((turma2-mean(turma2))^2)\n",
    "\n",
    "print(paste('Variância populacional da turma 1:',vPopT1))\n",
    "print(paste('Variância populacional da turma 2:',vPopT2))"
   ]
  },
  {
   "cell_type": "code",
   "execution_count": 44,
   "metadata": {
    "colab": {},
    "colab_type": "code",
    "id": "ViOienAQMZH-"
   },
   "outputs": [
    {
     "name": "stdout",
     "output_type": "stream",
     "text": [
      "[1] \"Desvio padrão amostral da turma 1: 11,7769379808942\"\n",
      "[1] \"Desvio padrão amostral da turma 2: 4,87652955888574\"\n"
     ]
    }
   ],
   "source": [
    "# Desvio padrão amostral:\n",
    "dTurma1 <- sd(turma1) # amostral\n",
    "dTurma2 <- sd(turma2) # amostral\n",
    "\n",
    "print(paste('Desvio padrão amostral da turma 1:',dTurma1))\n",
    "print(paste('Desvio padrão amostral da turma 2:',dTurma2))"
   ]
  },
  {
   "cell_type": "code",
   "execution_count": 45,
   "metadata": {
    "colab": {},
    "colab_type": "code",
    "id": "dUQpVKqaMbdx"
   },
   "outputs": [
    {
     "name": "stdout",
     "output_type": "stream",
     "text": [
      "[1] \"Desvio padrão populacional da turma 1: 11,172584364651\"\n",
      "[1] \"Desvio padrão populacional da turma 2: 17,2611237415501\"\n"
     ]
    }
   ],
   "source": [
    "# Desvio padrão populacional:\n",
    "dPopT1 <- sqrt(mean((turma1-mean(turma1))^2)) # populacional\n",
    "dPopT2 <- sqrt(mean((turma1-mean(turma2))^2)) # populacional\n",
    "\n",
    "print(paste('Desvio padrão populacional da turma 1:',dPopT1))\n",
    "print(paste('Desvio padrão populacional da turma 2:',dPopT2))"
   ]
  }
 ],
 "metadata": {
  "colab": {
   "collapsed_sections": [
    "psJWgeRe8JNF"
   ],
   "name": "aula02.ipynb",
   "provenance": [
    {
     "file_id": "https://github.com/IRkernel/IRkernel/blob/master/example-notebooks/Demo.ipynb",
     "timestamp": 1570124255901
    }
   ]
  },
  "kernelspec": {
   "display_name": "R",
   "language": "R",
   "name": "ir"
  },
  "language_info": {
   "codemirror_mode": "r",
   "file_extension": ".r",
   "mimetype": "text/x-r-source",
   "name": "R",
   "pygments_lexer": "r",
   "version": "3.3.1"
  }
 },
 "nbformat": 4,
 "nbformat_minor": 4
}
