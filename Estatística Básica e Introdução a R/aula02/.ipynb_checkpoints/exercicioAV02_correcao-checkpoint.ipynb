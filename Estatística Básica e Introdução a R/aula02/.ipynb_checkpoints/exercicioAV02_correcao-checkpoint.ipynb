{
 "cells": [
  {
   "cell_type": "markdown",
   "metadata": {
    "colab_type": "text",
    "id": "XP3H2uV50WLC"
   },
   "source": [
    "# Exercício AV02"
   ]
  },
  {
   "cell_type": "markdown",
   "metadata": {
    "colab_type": "text",
    "id": "oc-vKxVP6OI9"
   },
   "source": [
    "O arquivo de teste representa um recorte fictício e contém os índices de abertura e fechamento das empresas de Curitiba.\n",
    "\n",
    "Com base nesse arquivo disponibilizado, responda às questões abaixo:\n"
   ]
  },
  {
   "cell_type": "markdown",
   "metadata": {
    "colab_type": "text",
    "id": "VlG2FSE4OJu2"
   },
   "source": [
    "1. Abra o arquivo, e liste os comandos utilizados abaixo:"
   ]
  },
  {
   "cell_type": "code",
   "execution_count": 1,
   "metadata": {
    "colab": {},
    "colab_type": "code",
    "id": "9euL4b4iOSsg"
   },
   "outputs": [
    {
     "data": {
      "text/html": [
       "<table>\n",
       "<thead><tr><th scope=col>MES</th><th scope=col>ABERTURA</th><th scope=col>FECHAMENTO</th></tr></thead>\n",
       "<tbody>\n",
       "\t<tr><td>Janeiro  </td><td>27       </td><td>16       </td></tr>\n",
       "\t<tr><td>Fevereiro</td><td> 3       </td><td>16       </td></tr>\n",
       "\t<tr><td>Março    </td><td>26       </td><td>15       </td></tr>\n",
       "\t<tr><td>Abril    </td><td>23       </td><td>13       </td></tr>\n",
       "\t<tr><td>Maio     </td><td>21       </td><td>10       </td></tr>\n",
       "\t<tr><td>Junho    </td><td>20       </td><td> 8       </td></tr>\n",
       "</tbody>\n",
       "</table>\n"
      ],
      "text/latex": [
       "\\begin{tabular}{r|lll}\n",
       " MES & ABERTURA & FECHAMENTO\\\\\n",
       "\\hline\n",
       "\t Janeiro   & 27        & 16       \\\\\n",
       "\t Fevereiro &  3        & 16       \\\\\n",
       "\t Março     & 26        & 15       \\\\\n",
       "\t Abril     & 23        & 13       \\\\\n",
       "\t Maio      & 21        & 10       \\\\\n",
       "\t Junho     & 20        &  8       \\\\\n",
       "\\end{tabular}\n"
      ],
      "text/markdown": [
       "\n",
       "| MES | ABERTURA | FECHAMENTO |\n",
       "|---|---|---|\n",
       "| Janeiro   | 27        | 16        |\n",
       "| Fevereiro |  3        | 16        |\n",
       "| Março     | 26        | 15        |\n",
       "| Abril     | 23        | 13        |\n",
       "| Maio      | 21        | 10        |\n",
       "| Junho     | 20        |  8        |\n",
       "\n"
      ],
      "text/plain": [
       "  MES       ABERTURA FECHAMENTO\n",
       "1 Janeiro   27       16        \n",
       "2 Fevereiro  3       16        \n",
       "3 Março     26       15        \n",
       "4 Abril     23       13        \n",
       "5 Maio      21       10        \n",
       "6 Junho     20        8        "
      ]
     },
     "metadata": {},
     "output_type": "display_data"
    }
   ],
   "source": [
    "#Resposta\n",
    "dtf <- read.table(\"../data/abertura-fechamento-empresas.csv\",header=T,sep=\",\",dec=\".\")\n",
    "head(dtf)"
   ]
  },
  {
   "cell_type": "markdown",
   "metadata": {
    "colab_type": "text",
    "id": "p7KpihgMOfO-"
   },
   "source": [
    "2. Defina um vetor que representa apenas os índices de abertura das empresas:"
   ]
  },
  {
   "cell_type": "code",
   "execution_count": 2,
   "metadata": {
    "colab": {},
    "colab_type": "code",
    "id": "OTW5rEXyOT38"
   },
   "outputs": [
    {
     "name": "stdout",
     "output_type": "stream",
     "text": [
      " [1] 27  3 26 23 21 20 19 21 21 23 25 25\n"
     ]
    }
   ],
   "source": [
    "#Resposta\n",
    "abertura <- dtf$ABERTURA\n",
    "print(abertura)"
   ]
  },
  {
   "cell_type": "markdown",
   "metadata": {
    "colab_type": "text",
    "id": "NZWVrD1hOm4y"
   },
   "source": [
    "3. Agora defina um vetor para os índices de fechamento:"
   ]
  },
  {
   "cell_type": "code",
   "execution_count": 3,
   "metadata": {
    "colab": {},
    "colab_type": "code",
    "id": "EWjKY5MsOdtW"
   },
   "outputs": [
    {
     "data": {
      "text/html": [
       "<ol class=list-inline>\n",
       "\t<li>16</li>\n",
       "\t<li>16</li>\n",
       "\t<li>15</li>\n",
       "\t<li>13</li>\n",
       "\t<li>10</li>\n",
       "\t<li>8</li>\n",
       "\t<li>8</li>\n",
       "\t<li>9</li>\n",
       "\t<li>11</li>\n",
       "\t<li>1</li>\n",
       "\t<li>14</li>\n",
       "\t<li>15</li>\n",
       "</ol>\n"
      ],
      "text/latex": [
       "\\begin{enumerate*}\n",
       "\\item 16\n",
       "\\item 16\n",
       "\\item 15\n",
       "\\item 13\n",
       "\\item 10\n",
       "\\item 8\n",
       "\\item 8\n",
       "\\item 9\n",
       "\\item 11\n",
       "\\item 1\n",
       "\\item 14\n",
       "\\item 15\n",
       "\\end{enumerate*}\n"
      ],
      "text/markdown": [
       "1. 16\n",
       "2. 16\n",
       "3. 15\n",
       "4. 13\n",
       "5. 10\n",
       "6. 8\n",
       "7. 8\n",
       "8. 9\n",
       "9. 11\n",
       "10. 1\n",
       "11. 14\n",
       "12. 15\n",
       "\n",
       "\n"
      ],
      "text/plain": [
       " [1] 16 16 15 13 10  8  8  9 11  1 14 15"
      ]
     },
     "metadata": {},
     "output_type": "display_data"
    }
   ],
   "source": [
    "#Resposta\n",
    "fechamento <- dtf$FECHAMENTO\n",
    "fechamento"
   ]
  },
  {
   "cell_type": "markdown",
   "metadata": {
    "colab_type": "text",
    "id": "4cHYTW2CNceX"
   },
   "source": [
    "4. Calcule a média da abertura e do fechamento dessas empresas. Dê uma interpretação prática para esses valores.\n"
   ]
  },
  {
   "cell_type": "code",
   "execution_count": 4,
   "metadata": {
    "colab": {},
    "colab_type": "code",
    "id": "S8h2mHZ6Nfyp"
   },
   "outputs": [
    {
     "name": "stdout",
     "output_type": "stream",
     "text": [
      "[1] \"O índice médio de abertura de empresas é: 21.1666666666667\"\n",
      "[1] \"O índice médio de fechamento de empresas é: 11.3333333333333\"\n"
     ]
    }
   ],
   "source": [
    "#Resposta\n",
    "med_a <- mean(abertura)\n",
    "print(paste('O índice médio de abertura de empresas é:',med_a))\n",
    "\n",
    "med_f <- mean(fechamento)\n",
    "print(paste('O índice médio de fechamento de empresas é:',med_f))"
   ]
  },
  {
   "cell_type": "markdown",
   "metadata": {
    "colab_type": "text",
    "id": "6lpNE5VYN1o7"
   },
   "source": [
    "5. Calcule os percentis 5%, 13%, 20%, 67% para os índices de abertura.\n"
   ]
  },
  {
   "cell_type": "code",
   "execution_count": 5,
   "metadata": {
    "colab": {},
    "colab_type": "code",
    "id": "6Bm157JzOBb7"
   },
   "outputs": [
    {
     "data": {
      "text/html": [
       "<dl class=dl-horizontal>\n",
       "\t<dt>5%</dt>\n",
       "\t\t<dd>11.8</dd>\n",
       "\t<dt>13%</dt>\n",
       "\t\t<dd>19.43</dd>\n",
       "\t<dt>20%</dt>\n",
       "\t\t<dd>20.2</dd>\n",
       "\t<dt>67%</dt>\n",
       "\t\t<dd>23.74</dd>\n",
       "</dl>\n"
      ],
      "text/latex": [
       "\\begin{description*}\n",
       "\\item[5\\textbackslash{}\\%] 11.8\n",
       "\\item[13\\textbackslash{}\\%] 19.43\n",
       "\\item[20\\textbackslash{}\\%] 20.2\n",
       "\\item[67\\textbackslash{}\\%] 23.74\n",
       "\\end{description*}\n"
      ],
      "text/markdown": [
       "5%\n",
       ":   11.813%\n",
       ":   19.4320%\n",
       ":   20.267%\n",
       ":   23.74\n",
       "\n"
      ],
      "text/plain": [
       "   5%   13%   20%   67% \n",
       "11.80 19.43 20.20 23.74 "
      ]
     },
     "metadata": {},
     "output_type": "display_data"
    }
   ],
   "source": [
    "#Resposta\n",
    "p <- c(5,13,20,67)/100\n",
    "quantile(abertura, p)"
   ]
  },
  {
   "cell_type": "markdown",
   "metadata": {
    "colab_type": "text",
    "id": "lZ7q_JiROCD5"
   },
   "source": [
    "6. Calcule o segundo a mediana."
   ]
  },
  {
   "cell_type": "code",
   "execution_count": 6,
   "metadata": {
    "colab": {},
    "colab_type": "code",
    "id": "MVhyevPqO7T9"
   },
   "outputs": [
    {
     "data": {
      "text/html": [
       "22"
      ],
      "text/latex": [
       "22"
      ],
      "text/markdown": [
       "22"
      ],
      "text/plain": [
       "[1] 22"
      ]
     },
     "metadata": {},
     "output_type": "display_data"
    }
   ],
   "source": [
    "#Resposta\n",
    "median(abertura)"
   ]
  },
  {
   "cell_type": "markdown",
   "metadata": {
    "colab_type": "text",
    "id": "LsA5R0itO7lJ"
   },
   "source": [
    "7. Calcule a amplitude de ambos índices."
   ]
  },
  {
   "cell_type": "code",
   "execution_count": 7,
   "metadata": {
    "colab": {},
    "colab_type": "code",
    "id": "h8LUZRfNO7yU"
   },
   "outputs": [
    {
     "name": "stdout",
     "output_type": "stream",
     "text": [
      "[1] \"A amplitude da abertura é: 24\"\n",
      "[1] \"A amplitude do fechamento é: 15\"\n"
     ]
    }
   ],
   "source": [
    "#Resposta\n",
    "amp_a <- max(abertura) - min(abertura)\n",
    "print(paste('A amplitude da abertura é:',amp_a))\n",
    "\n",
    "amp_f <- max(fechamento) - min(fechamento)\n",
    "print(paste('A amplitude do fechamento é:',amp_f))"
   ]
  },
  {
   "cell_type": "markdown",
   "metadata": {
    "colab_type": "text",
    "id": "L3Z_RvGCO8Mg"
   },
   "source": [
    "8. Calcule a variância e o desvio padrão de ambos os índices."
   ]
  },
  {
   "cell_type": "code",
   "execution_count": 8,
   "metadata": {
    "colab": {},
    "colab_type": "code",
    "id": "M9XnLg8UO8UU"
   },
   "outputs": [
    {
     "name": "stdout",
     "output_type": "stream",
     "text": [
      "[1] \"A variância da abertura é: 39.0606060606061  e o desvio padrão: 6.25\"\n",
      "[1] \"A variância da fechamento é: 19.6969696969697  e o desvio padrão: 4.44\"\n"
     ]
    }
   ],
   "source": [
    "#Resposta\n",
    "var_a <- var(abertura)\n",
    "sd_a <- sd(abertura)\n",
    "print(paste('A variância da abertura é:',var_a,' e o desvio padrão:', round(sd_a,2))) #usando arredondamento para o desvio padrão\n",
    "\n",
    "var_f <- var(fechamento)\n",
    "sd_f <- sd(fechamento)\n",
    "print(paste('A variância da fechamento é:',var_f,' e o desvio padrão:', round(sd_f,2))) #usando arredondamento para o desvio padrão"
   ]
  },
  {
   "cell_type": "markdown",
   "metadata": {
    "colab_type": "text",
    "id": "PMoWVkGyNwAo"
   },
   "source": [
    "9. Calcule o coeficiente de variação para ambos índices e compare-os. Descreva o seu significado."
   ]
  },
  {
   "cell_type": "code",
   "execution_count": 9,
   "metadata": {
    "colab": {},
    "colab_type": "code",
    "id": "i_cQk2f66Wjy"
   },
   "outputs": [
    {
     "name": "stdout",
     "output_type": "stream",
     "text": [
      "[1] \"O coeficiente de variação da abertura é: 29.53 %\"\n",
      "[1] \"O coeficiente de variação do fechamento é: 39.16 %\"\n",
      "[1] \"Pelo fato do coeficiente de variação do fechamento ser maior, significa que o índice de fechamento tem maior variabilidade\"\n"
     ]
    }
   ],
   "source": [
    "#Resposta\n",
    "cv_a <- 100*sd_a/med_a\n",
    "print(paste('O coeficiente de variação da abertura é:',round(cv_a,2),'%'))\n",
    "\n",
    "cv_f <- 100*sd_f/med_f\n",
    "print(paste('O coeficiente de variação do fechamento é:',round(cv_f,2),'%'))\n",
    "\n",
    "print(\"Pelo fato do coeficiente de variação do fechamento ser maior, significa que o índice de fechamento tem maior variabilidade\")"
   ]
  },
  {
   "cell_type": "markdown",
   "metadata": {
    "colab_type": "text",
    "id": "VMairPz5W-gz"
   },
   "source": [
    "10. (Extra) Com base no Teorema de Tchebichev, você consegue identificar quais valores representam *outliers*? Responda o porquê."
   ]
  },
  {
   "cell_type": "code",
   "execution_count": 34,
   "metadata": {
    "colab": {},
    "colab_type": "code",
    "id": "k9BJCOY6X05i"
   },
   "outputs": [
    {
     "name": "stdout",
     "output_type": "stream",
     "text": [
      " [1] 27  3 26 23 21 20 19 21 21 23 25 25\n",
      "[1] \"Faixa: [ 8.66696970064288 , 33.6663636326905 ]\"\n",
      "[1] \"Valores fora dessa faixa podem ser descartados segundo o Teorema de Tchebichev\"\n",
      "[1] 3\n"
     ]
    }
   ],
   "source": [
    "#Resposta\n",
    "print(abertura)\n",
    "\n",
    "k <- 2\n",
    "faixa <- med_a + c(-sd_a,sd_a)*k\n",
    "\n",
    "print(paste('Faixa: [',faixa[1],',',faixa[2],']')) #imprimindo a faixa de valores\n",
    "print(\"Valores fora dessa faixa podem ser descartados segundo o Teorema de Tchebichev\")\n",
    "\n",
    "valores <- abertura[abertura < faixa[1] | abertura > faixa[2]] #selecionando valores fora da faixa\n",
    "print(valores)"
   ]
  }
 ],
 "metadata": {
  "colab": {
   "name": "exercicio.ipynb",
   "provenance": [
    {
     "file_id": "1ImX5PDroxFwWuh4a4JLtY97dB0Ivn2hb",
     "timestamp": 1570131885436
    },
    {
     "file_id": "https://github.com/IRkernel/IRkernel/blob/master/example-notebooks/Demo.ipynb",
     "timestamp": 1570124255901
    }
   ]
  },
  "kernelspec": {
   "display_name": "R",
   "language": "R",
   "name": "ir"
  },
  "language_info": {
   "codemirror_mode": "r",
   "file_extension": ".r",
   "mimetype": "text/x-r-source",
   "name": "R",
   "pygments_lexer": "r",
   "version": "3.6.1"
  }
 },
 "nbformat": 4,
 "nbformat_minor": 4
}
