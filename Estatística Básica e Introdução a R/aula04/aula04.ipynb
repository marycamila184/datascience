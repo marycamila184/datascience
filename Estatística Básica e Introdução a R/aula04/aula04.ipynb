{
  "nbformat": 4,
  "nbformat_minor": 0,
  "metadata": {
    "colab": {
      "name": "aula04.ipynb",
      "provenance": [],
      "collapsed_sections": []
    },
    "kernelspec": {
      "display_name": "R",
      "language": "R",
      "name": "ir"
    },
    "language_info": {
      "codemirror_mode": "r",
      "file_extension": ".r",
      "mimetype": "text/x-r-source",
      "name": "R",
      "pygments_lexer": "r",
      "version": "3.6.1"
    }
  },
  "cells": [
    {
      "cell_type": "markdown",
      "metadata": {
        "colab_type": "text",
        "id": "XP3H2uV50WLC"
      },
      "source": [
        "# Manipulação de Dataframes"
      ]
    },
    {
      "cell_type": "code",
      "metadata": {
        "colab_type": "code",
        "id": "s5Xo4si4YAOF",
        "colab": {}
      },
      "source": [
        "dtf <- read.table(\"https://gitlab.com/luizcelso/datascience/raw/master/data/aluguel.csv\",header=T,sep=\",\",dec=\".\")\n",
        "head(dtf)"
      ],
      "execution_count": 0,
      "outputs": []
    },
    {
      "cell_type": "markdown",
      "metadata": {
        "id": "jOees2sccKQx",
        "colab_type": "text"
      },
      "source": [
        "Para checar quantas linhas e colunas há nos dados importados, usamos a função **dim**:"
      ]
    },
    {
      "cell_type": "code",
      "metadata": {
        "id": "u3GoRWe-cKQz",
        "colab_type": "code",
        "colab": {}
      },
      "source": [
        "dim(dtf)"
      ],
      "execution_count": 0,
      "outputs": []
    },
    {
      "cell_type": "markdown",
      "metadata": {
        "id": "YFIKCkpccKQ2",
        "colab_type": "text"
      },
      "source": [
        "E observar os nomes das colunas:"
      ]
    },
    {
      "cell_type": "code",
      "metadata": {
        "id": "_jQPKvf0cKQ3",
        "colab_type": "code",
        "colab": {}
      },
      "source": [
        "names(dtf)"
      ],
      "execution_count": 0,
      "outputs": []
    },
    {
      "cell_type": "markdown",
      "metadata": {
        "colab_type": "text",
        "id": "BXr1DOFo3E5n"
      },
      "source": [
        "# Manipulando DataFrames em com sintaxe padrão em R\n",
        "\n",
        "Existem várias formas manipular dataframes e selecionar colunas ou linhas no R."
      ]
    },
    {
      "cell_type": "markdown",
      "metadata": {
        "colab_type": "text",
        "id": "TtfcX8DZ3b3S"
      },
      "source": [
        "Para selecionar a coluna aluguel por exemplo, você pode utilizar o símbolo **$**:\n",
        "\n",
        "\n",
        "```\n",
        "dtf$aluguel\n",
        "```\n",
        "\n",
        "Também é possível utilizar o **colchetes**:\n",
        "\n",
        "\n",
        "```\n",
        "dtf[,\"aluguel\"]\n",
        "```\n",
        "\n",
        "\n",
        "Ou utilizar **duplo colchetes** como lista:\n",
        "\n",
        "\n",
        "```\n",
        "dtf[[\"aluguel\"]]\n",
        "```\n",
        "\n",
        "Nestes casos acima, é retornado um vetor como resultado da operação"
      ]
    },
    {
      "cell_type": "code",
      "metadata": {
        "colab_type": "code",
        "id": "qB_MKTXu4BkY",
        "colab": {}
      },
      "source": [
        "dtf$aluguel #retornando um vetor"
      ],
      "execution_count": 0,
      "outputs": []
    },
    {
      "cell_type": "code",
      "metadata": {
        "id": "hbqYUfavcKQ-",
        "colab_type": "code",
        "colab": {}
      },
      "source": [
        "class(dtf$aluguel) #verificando a classe do objeto"
      ],
      "execution_count": 0,
      "outputs": []
    },
    {
      "cell_type": "code",
      "metadata": {
        "colab_type": "code",
        "id": "KcBRBLov4FC9",
        "colab": {}
      },
      "source": [
        "dtf[,\"aluguel\"] #retornando um vetor contendo apenas os valores de aluguel"
      ],
      "execution_count": 0,
      "outputs": []
    },
    {
      "cell_type": "code",
      "metadata": {
        "id": "7jlF3Uu_cKRE",
        "colab_type": "code",
        "colab": {}
      },
      "source": [
        "class(dtf[,\"aluguel\"])"
      ],
      "execution_count": 0,
      "outputs": []
    },
    {
      "cell_type": "code",
      "metadata": {
        "colab_type": "code",
        "id": "7d4ug84e4GpT",
        "colab": {}
      },
      "source": [
        "dtf[[\"aluguel\"]] #retornando um vetor"
      ],
      "execution_count": 0,
      "outputs": []
    },
    {
      "cell_type": "code",
      "metadata": {
        "id": "cVW3holRcKRN",
        "colab_type": "code",
        "colab": {}
      },
      "source": [
        "class(dtf[[\"aluguel\"]])"
      ],
      "execution_count": 0,
      "outputs": []
    },
    {
      "cell_type": "markdown",
      "metadata": {
        "colab_type": "text",
        "id": "zecGYeRT4D7U"
      },
      "source": [
        "Diferente dos anteriores, o formato abaixo, retorna um dataframe como resultado:"
      ]
    },
    {
      "cell_type": "code",
      "metadata": {
        "colab_type": "code",
        "id": "0LD6ix1I4hz4",
        "colab": {}
      },
      "source": [
        "dtf[\"aluguel\"] #retornando um dataframe"
      ],
      "execution_count": 0,
      "outputs": []
    },
    {
      "cell_type": "code",
      "metadata": {
        "id": "Sl2OhK20cKRT",
        "colab_type": "code",
        "colab": {}
      },
      "source": [
        "class(dtf[\"aluguel\"])"
      ],
      "execution_count": 0,
      "outputs": []
    },
    {
      "cell_type": "markdown",
      "metadata": {
        "colab_type": "text",
        "id": "QF4GLjBb4ws4"
      },
      "source": [
        "---\n",
        "**Selecionando múltiplas colunas**\n",
        "Existem diversas maneiras de selecionar múltiplas colunas de um dataframe.\n",
        "É necessário atribuir um vetor contendo as colunas desejadas como parâmetro. \n",
        "Veja o exemplo abaixo:"
      ]
    },
    {
      "cell_type": "code",
      "metadata": {
        "colab_type": "code",
        "id": "Vqq0Pc455KwG",
        "colab": {}
      },
      "source": [
        "colunas = c(\"aluguel\",\"condominio\") #criando um vetor que irá conter as colunas\n",
        "colunas"
      ],
      "execution_count": 0,
      "outputs": []
    },
    {
      "cell_type": "code",
      "metadata": {
        "colab_type": "code",
        "id": "uOleMym95T9G",
        "colab": {}
      },
      "source": [
        "dtf[,colunas] #retorna um data.frame"
      ],
      "execution_count": 0,
      "outputs": []
    },
    {
      "cell_type": "code",
      "metadata": {
        "colab_type": "code",
        "id": "InTTE4555cIg",
        "colab": {}
      },
      "source": [
        "dtf[colunas] #retorna um data.frame com as colunas selecionadas"
      ],
      "execution_count": 0,
      "outputs": []
    },
    {
      "cell_type": "markdown",
      "metadata": {
        "colab_type": "text",
        "id": "5nqlc2lV5mdD"
      },
      "source": [
        "Também existe uma função chamada **subset** que retornará um subconjunto do dataframe. Nesse caso vamos selecionar um subconjunto contendo o *aluguel* e o *condominio*:"
      ]
    },
    {
      "cell_type": "code",
      "metadata": {
        "colab_type": "code",
        "id": "aw61oInL5xUQ",
        "colab": {}
      },
      "source": [
        "subset(dtf, select = c(\"aluguel\",\"condominio\")) #retorna um data.frame"
      ],
      "execution_count": 0,
      "outputs": []
    },
    {
      "cell_type": "markdown",
      "metadata": {
        "id": "-W1GHjcGt3z9",
        "colab_type": "text"
      },
      "source": [
        "Vamos selecionar subconjuntos baseados em uma lógica, isto é, linhas que contenham área maior que 50m2:"
      ]
    },
    {
      "cell_type": "code",
      "metadata": {
        "id": "42eCRR3Ot40Q",
        "colab_type": "code",
        "colab": {}
      },
      "source": [
        "dtf[dtf$area > 50, ]"
      ],
      "execution_count": 0,
      "outputs": []
    },
    {
      "cell_type": "markdown",
      "metadata": {
        "id": "BQDuj91zt-RY",
        "colab_type": "text"
      },
      "source": [
        "Uma maneira de criarmos uma nova coluna em um Dataframe, é através da seguinte sintaxe:"
      ]
    },
    {
      "cell_type": "code",
      "metadata": {
        "id": "AJlQqRqpuFWS",
        "colab_type": "code",
        "colab": {}
      },
      "source": [
        "dtf['total'] = dtf['aluguel'] + dtf['condominio']\n",
        "head(dtf)\n",
        "dtf['total'] = NULL #removendo a coluna total"
      ],
      "execution_count": 0,
      "outputs": []
    },
    {
      "cell_type": "markdown",
      "metadata": {
        "id": "Wiz9xt0QuKSS",
        "colab_type": "text"
      },
      "source": [
        "Também podemos fazer a mesma operação utilizando o indexador $:"
      ]
    },
    {
      "cell_type": "code",
      "metadata": {
        "id": "teLvjyrFuK-8",
        "colab_type": "code",
        "colab": {}
      },
      "source": [
        "dtf$total = dtf$aluguel + dtf$condominio\n",
        "head(dtf)"
      ],
      "execution_count": 0,
      "outputs": []
    },
    {
      "cell_type": "markdown",
      "metadata": {
        "id": "6GQSk6EouPAJ",
        "colab_type": "text"
      },
      "source": [
        "Podemos fazer uma análise estatística do dataframe:"
      ]
    },
    {
      "cell_type": "code",
      "metadata": {
        "id": "5lrcrc9vuPh9",
        "colab_type": "code",
        "colab": {}
      },
      "source": [
        "summary(dtf)"
      ],
      "execution_count": 0,
      "outputs": []
    },
    {
      "cell_type": "markdown",
      "metadata": {
        "id": "2bO2ligpuYGS",
        "colab_type": "text"
      },
      "source": [
        "Calculando alguns valores estatísticos em dataframes:"
      ]
    },
    {
      "cell_type": "code",
      "metadata": {
        "id": "_QGeQG54uZJb",
        "colab_type": "code",
        "colab": {}
      },
      "source": [
        "vet = c(mean(dtf$aluguel), sd(dtf$aluguel), var(dtf$aluguel))\n",
        "vet"
      ],
      "execution_count": 0,
      "outputs": []
    },
    {
      "cell_type": "markdown",
      "metadata": {
        "id": "-FTrMfGKcKRi",
        "colab_type": "text"
      },
      "source": [
        "---\n",
        "**Ordenando por uma ou mais colunas**"
      ]
    },
    {
      "cell_type": "markdown",
      "metadata": {
        "id": "meDnOd7FcKRj",
        "colab_type": "text"
      },
      "source": [
        "Ordenando por quartos:"
      ]
    },
    {
      "cell_type": "code",
      "metadata": {
        "id": "rcKcGlhrcKRk",
        "colab_type": "code",
        "colab": {}
      },
      "source": [
        "dtf[order(dtf$quartos), ]"
      ],
      "execution_count": 0,
      "outputs": []
    },
    {
      "cell_type": "markdown",
      "metadata": {
        "id": "jl9W1_LXcKRm",
        "colab_type": "text"
      },
      "source": [
        "Ordenando por quartos em ordem decrescente:"
      ]
    },
    {
      "cell_type": "code",
      "metadata": {
        "id": "t5kVer6TcKRn",
        "colab_type": "code",
        "colab": {}
      },
      "source": [
        "dtf[order(dtf$quartos, decreasing=TRUE),]"
      ],
      "execution_count": 0,
      "outputs": []
    },
    {
      "cell_type": "markdown",
      "metadata": {
        "id": "Qi73q_qWcKRr",
        "colab_type": "text"
      },
      "source": [
        "Ordenando por quartos (crescente), area (crescente) e aluguel (decrescente):"
      ]
    },
    {
      "cell_type": "code",
      "metadata": {
        "id": "zu7tZFbYcKRs",
        "colab_type": "code",
        "colab": {}
      },
      "source": [
        "dtf[order(dtf$quartos,dtf$area,dtf$aluguel, decreasing=c(FALSE,FALSE,TRUE)),]"
      ],
      "execution_count": 0,
      "outputs": []
    },
    {
      "cell_type": "markdown",
      "metadata": {
        "id": "gbkkmZgOcKRw",
        "colab_type": "text"
      },
      "source": [
        "---\n",
        "**Inserindo uma nova linha**\n",
        "\n",
        "Existem várias maneiras de inserir uma nova linha. Neste exemplo vamos utilizar o **rbind**, para isso todos as colunas devem ser definidas:"
      ]
    },
    {
      "cell_type": "code",
      "metadata": {
        "id": "z6xrhnpScKRw",
        "colab_type": "code",
        "colab": {}
      },
      "source": [
        "linha <- data.frame(\n",
        "    codigo=5,\n",
        "    endereco=\"Rua Cascavel\",\n",
        "    quartos=2,\n",
        "    suite=1,\n",
        "    area=56,\n",
        "    vaga=0,\n",
        "    aluguel=670,\n",
        "    condominio=700,\n",
        "    data='12/10/19',\n",
        "    total=670+700\n",
        ")\n",
        "dtf <- rbind(dtf, linha)\n",
        "dtf"
      ],
      "execution_count": 0,
      "outputs": []
    },
    {
      "cell_type": "markdown",
      "metadata": {
        "id": "2ujJtwjPcKRz",
        "colab_type": "text"
      },
      "source": [
        "---\n",
        "**Categorização**\n",
        "\n",
        "Categorizando uma coluna utilizando a função **cut**.\n",
        "\n",
        "Neste exemplo, vamos determinar uma nova coluna que estabelece uma etiqueta, com os possíveis valores: BAIXO, MÉDIO, ALTO com relação aos preços de aluguel.\n",
        "\n",
        "* BAIXO: aluguel < 700\n",
        "* MÉDIO: 700 < aluguel <= 1000\n",
        "* ALTO: 1000 < aluguel\n"
      ]
    },
    {
      "cell_type": "code",
      "metadata": {
        "id": "CaEVYx93cKR0",
        "colab_type": "code",
        "colab": {}
      },
      "source": [
        "dtf$etiqueta <- cut(dtf$aluguel, \n",
        "    c(0, 700, 1000, Inf),\n",
        "    labels = c(\"BAIXO\", \"MÉDIO\", \"ALTO\"),\n",
        "    ordered_result = TRUE)\n",
        "dtf"
      ],
      "execution_count": 0,
      "outputs": []
    },
    {
      "cell_type": "markdown",
      "metadata": {
        "colab_type": "text",
        "id": "EoZTrdpP180U"
      },
      "source": [
        "# Usando o pacote dplyr para manipular DataFrames em R\n",
        "A primeira coisa que precisamos fazer é carregar o pacote **tidyverse**, que inclui o **dplyr**\n",
        "\n",
        "\n",
        "```\n",
        "library(tidyverse)\n",
        "```\n",
        "\n",
        "O pacote **dplyr** é um pacote bastante rico e que permite facilitar a escrita de seleção e aplicação de funções nos dataframes.\n",
        "\n",
        "Este pacote bastante recomendado em análises exploratória de dados, por prover soluções de fácil codificação.\n",
        "É um dos pacotes mais poderosos e populares do R e foi desenvolvido por Hadley Wickham.\n",
        "\n",
        "A sua utilização é facilitada com o emprego do operador pipe **%>%**.\n",
        "\n",
        "O operador pipe **%>%** é uma funcionalidade extremamente útil. Com este operador, podemos realizar manipulações no formato **dados %>% fx()** que basicamente significa: *“Pega esse objeto e execute essa operação, depois essa, depois essa, …”*\n",
        "\n",
        "As cinco funções principais dessa biblioteca são:\n",
        "* select\n",
        "* filter\n",
        "* mutate\n",
        "* arrange\n",
        "* summarise\n",
        "\n",
        "Veremos cada uma dessas funções abaixo."
      ]
    },
    {
      "cell_type": "code",
      "metadata": {
        "colab_type": "code",
        "id": "ATrDnzhC0WLF",
        "colab": {}
      },
      "source": [
        "install.packages(\"tidyverse\") #antes de utilizar o dplyr, é necessário instalar a biblioteca tidyverse"
      ],
      "execution_count": 0,
      "outputs": []
    },
    {
      "cell_type": "code",
      "metadata": {
        "id": "U9ux7wDRcKR6",
        "colab_type": "code",
        "colab": {}
      },
      "source": [
        "library(tidyverse)"
      ],
      "execution_count": 0,
      "outputs": []
    },
    {
      "cell_type": "code",
      "metadata": {
        "colab_type": "code",
        "id": "x49yAPpXz_5f",
        "colab": {}
      },
      "source": [
        "tbl_dtf <- as_tibble(dtf) #transformando um dataframe, convertendo-o em um tibble dataframe (tbl_df)\n",
        "head(tbl_dtf)"
      ],
      "execution_count": 0,
      "outputs": []
    },
    {
      "cell_type": "code",
      "metadata": {
        "id": "j74qyBO8cKR_",
        "colab_type": "code",
        "colab": {}
      },
      "source": [
        "class(tbl_dtf) #veja que agora o seu tipo é tibble"
      ],
      "execution_count": 0,
      "outputs": []
    },
    {
      "cell_type": "markdown",
      "metadata": {
        "id": "tb9T3T7ccKSB",
        "colab_type": "text"
      },
      "source": [
        "Para explorar os dados vamos usar uma função chamada **glimpse()**, também aplicável a tibbles:"
      ]
    },
    {
      "cell_type": "code",
      "metadata": {
        "id": "ErU86LmIcKSC",
        "colab_type": "code",
        "colab": {}
      },
      "source": [
        "glimpse(tbl_dtf) #ao invés do"
      ],
      "execution_count": 0,
      "outputs": []
    },
    {
      "cell_type": "markdown",
      "metadata": {
        "id": "LHymQgnKcKSG",
        "colab_type": "text"
      },
      "source": [
        "Para renomear as colunas, podemos utilizar o comando **rename()**"
      ]
    },
    {
      "cell_type": "code",
      "metadata": {
        "id": "zoB0EV88cKSG",
        "colab_type": "code",
        "colab": {}
      },
      "source": [
        "tbl_dtf <- rename(tbl_dtf, banheiro = suite)\n",
        "head(tbl_dtf)"
      ],
      "execution_count": 0,
      "outputs": []
    },
    {
      "cell_type": "code",
      "metadata": {
        "id": "xQoB0iNFkBtd",
        "colab_type": "code",
        "colab": {}
      },
      "source": [
        "tbl_dtf <- rename(tbl_dtf, suite = banheiro) #renomeando para o original novamente\n",
        "head(tbl_dtf)"
      ],
      "execution_count": 0,
      "outputs": []
    },
    {
      "cell_type": "markdown",
      "metadata": {
        "colab_type": "text",
        "id": "RIRvF0Xe09ju"
      },
      "source": [
        "---\n",
        "Função **select()**\n",
        "\n",
        "**Extraindo colunas como uma tabela**\n",
        "\n",
        "Selecionado as colunas de 1 a 3, isto é, código, endereco e quartos"
      ]
    },
    {
      "cell_type": "code",
      "metadata": {
        "colab_type": "code",
        "id": "Ta2tIHgQ1DxF",
        "colab": {}
      },
      "source": [
        "tbl_dtf %>% \n",
        "    select(1:3)\n"
      ],
      "execution_count": 0,
      "outputs": []
    },
    {
      "cell_type": "markdown",
      "metadata": {
        "colab_type": "text",
        "id": "szvCv-lP1fXM"
      },
      "source": [
        "Selecionado as colunas de 1 e 3, sem incluir a 2:"
      ]
    },
    {
      "cell_type": "code",
      "metadata": {
        "colab_type": "code",
        "id": "EAIAUHO41fzi",
        "colab": {}
      },
      "source": [
        "tbl_dtf %>% \n",
        "    select(1,3)"
      ],
      "execution_count": 0,
      "outputs": []
    },
    {
      "cell_type": "markdown",
      "metadata": {
        "colab_type": "text",
        "id": "HQdwIL4t1vh9"
      },
      "source": [
        "Selecionando as colunas pelo nome:"
      ]
    },
    {
      "cell_type": "code",
      "metadata": {
        "colab_type": "code",
        "id": "UR9vHiiB1wEZ",
        "colab": {}
      },
      "source": [
        "tbl_dtf %>% \n",
        "    select(aluguel,condominio)"
      ],
      "execution_count": 0,
      "outputs": []
    },
    {
      "cell_type": "markdown",
      "metadata": {
        "colab_type": "text",
        "id": "2O3e0sqp14tQ"
      },
      "source": [
        "Selecionando uma faixa de colunas, ou seja, de *aluguel* até *data*:"
      ]
    },
    {
      "cell_type": "code",
      "metadata": {
        "colab_type": "code",
        "id": "_v_5mggw15fX",
        "colab": {}
      },
      "source": [
        "tbl_dtf %>% \n",
        "    select(aluguel:data)"
      ],
      "execution_count": 0,
      "outputs": []
    },
    {
      "cell_type": "markdown",
      "metadata": {
        "id": "FLag0bTpcKSY",
        "colab_type": "text"
      },
      "source": [
        "Removendo duas colunas:"
      ]
    },
    {
      "cell_type": "code",
      "metadata": {
        "id": "4dLvZqgAcKSZ",
        "colab_type": "code",
        "colab": {}
      },
      "source": [
        "tbl_dtf %>% \n",
        "    select(-aluguel, -condominio)"
      ],
      "execution_count": 0,
      "outputs": []
    },
    {
      "cell_type": "markdown",
      "metadata": {
        "id": "n-mvwROccKSc",
        "colab_type": "text"
      },
      "source": [
        "Removendo uma faixa de valores:"
      ]
    },
    {
      "cell_type": "code",
      "metadata": {
        "id": "4ok4Q6sycKSc",
        "colab_type": "code",
        "colab": {}
      },
      "source": [
        "tbl_dtf %>% \n",
        "    select(-(quartos:data))"
      ],
      "execution_count": 0,
      "outputs": []
    },
    {
      "cell_type": "markdown",
      "metadata": {
        "id": "SdzWA-JtcKSe",
        "colab_type": "text"
      },
      "source": [
        "Selecionar baseado em uma condição, aplicando uma função, neste caso **is.numeric**. As colunas que retornarem TRUE serão selecionadas."
      ]
    },
    {
      "cell_type": "code",
      "metadata": {
        "id": "YqbOc9D4cKSf",
        "colab_type": "code",
        "colab": {}
      },
      "source": [
        "tbl_dtf %>% \n",
        "    select_if(is.numeric) #neste caso, as colunas não numéricas foram removidas"
      ],
      "execution_count": 0,
      "outputs": []
    },
    {
      "cell_type": "markdown",
      "metadata": {
        "id": "2MDm8INkk-lZ",
        "colab_type": "text"
      },
      "source": [
        "Obs: estes comandos acima não removem as colunas do dataframe **tbl_dtf**, ele simplesmente retorna esse novo dataframe. Para remover as colunas utilizando essa sintaxe, você pode sobreescrever o dataframe **tbl_dtf**."
      ]
    },
    {
      "cell_type": "markdown",
      "metadata": {
        "id": "-tjInnEPcKSh",
        "colab_type": "text"
      },
      "source": [
        "---\n",
        "Função **filter()**\n",
        "\n",
        "**Filtrando valores das colunas**\n",
        "\n",
        "Selecionado somente as linhas com aluguel maior que 800 e condominio menor que 400"
      ]
    },
    {
      "cell_type": "code",
      "metadata": {
        "id": "3_oq_Sy7cKSi",
        "colab_type": "code",
        "colab": {}
      },
      "source": [
        "tbl_dtf %>%\n",
        "  filter(aluguel > 800, condominio < 400)"
      ],
      "execution_count": 0,
      "outputs": []
    },
    {
      "cell_type": "markdown",
      "metadata": {
        "id": "4oMOrgEbcKSl",
        "colab_type": "text"
      },
      "source": [
        "Também é possível usar operadores lógicos ao invés de vírgula:"
      ]
    },
    {
      "cell_type": "code",
      "metadata": {
        "id": "3ECQ89ZecKSm",
        "colab_type": "code",
        "colab": {}
      },
      "source": [
        "tbl_dtf %>%\n",
        "  filter(aluguel > 800 & condominio < 400)"
      ],
      "execution_count": 0,
      "outputs": []
    },
    {
      "cell_type": "markdown",
      "metadata": {
        "id": "GUjq0eOYcKSr",
        "colab_type": "text"
      },
      "source": [
        "Podemos utilizar o operador **in**, e passar um vetor, para que sejam filtradas todas as linhas cujo endereco seja: **Rua Lourenço Pinto** ou **Rua Rockefeller**"
      ]
    },
    {
      "cell_type": "code",
      "metadata": {
        "id": "SiFV6ymXcKSu",
        "colab_type": "code",
        "colab": {}
      },
      "source": [
        "tbl_dtf %>%\n",
        "  filter(endereco %in% c('Rua Lourenço Pinto','Rua Rockefeller'))"
      ],
      "execution_count": 0,
      "outputs": []
    },
    {
      "cell_type": "markdown",
      "metadata": {
        "id": "FGxgz7Wql_Yj",
        "colab_type": "text"
      },
      "source": [
        "É possível utilizar o operador **in**, em conjunto com outra condição:"
      ]
    },
    {
      "cell_type": "code",
      "metadata": {
        "id": "gxF-j243cKSy",
        "colab_type": "code",
        "colab": {}
      },
      "source": [
        "tbl_dtf %>%\n",
        "  filter(quartos %in% c(2,3) & aluguel < 800)"
      ],
      "execution_count": 0,
      "outputs": []
    },
    {
      "cell_type": "markdown",
      "metadata": {
        "id": "6rritPQ9cKS0",
        "colab_type": "text"
      },
      "source": [
        "Podemos utilizar o operador de expressões regulares **grepl** em associação com o comando **filter**, neste caso filtrando apenas os endereços que contenham **Rua** na descrição:"
      ]
    },
    {
      "cell_type": "code",
      "metadata": {
        "id": "fWVQZ7L6cKS1",
        "colab_type": "code",
        "colab": {}
      },
      "source": [
        "tbl_dtf %>%\n",
        "  filter(grepl(\"Rua\",endereco))"
      ],
      "execution_count": 0,
      "outputs": []
    },
    {
      "cell_type": "markdown",
      "metadata": {
        "id": "jGI80dLFcKS3",
        "colab_type": "text"
      },
      "source": [
        "Também podemos utilizar a função **str_detect** para o mesmo propósito"
      ]
    },
    {
      "cell_type": "code",
      "metadata": {
        "id": "kNwaCs9-cKS4",
        "colab_type": "code",
        "colab": {}
      },
      "source": [
        "tbl_dtf %>% \n",
        "  filter(str_detect(endereco, \"Alameda\"))"
      ],
      "execution_count": 0,
      "outputs": []
    },
    {
      "cell_type": "markdown",
      "metadata": {
        "id": "uqTy5YQQcKS6",
        "colab_type": "text"
      },
      "source": [
        "---\n",
        "Função **mutate()**\n",
        "\n",
        "**Alterando as colunas**\n",
        "\n",
        "Para esta função as novas colunas devem ter o mesmo tamanho que o dataframe oridinal ou 1."
      ]
    },
    {
      "cell_type": "code",
      "metadata": {
        "id": "eKooFg38cKS9",
        "colab_type": "code",
        "colab": {}
      },
      "source": [
        "tbl_dtf"
      ],
      "execution_count": 0,
      "outputs": []
    },
    {
      "cell_type": "markdown",
      "metadata": {
        "id": "8YL_Jr5VcKTB",
        "colab_type": "text"
      },
      "source": [
        "Neste caso abaixo, estamos considerando que o custo de cada vaga é 20% do valor do aluguel. Para isso, vamos criar uma nova coluna chamada **preco_vaga** e calcular o seu valor, neste caso aproveitamos para usar o select e reorganizar as colunas:"
      ]
    },
    {
      "cell_type": "code",
      "metadata": {
        "id": "04v8zxzCcKTC",
        "colab_type": "code",
        "colab": {}
      },
      "source": [
        "tbl_dtf %>%\n",
        "  mutate(preco_vaga = aluguel * 0.2 * vaga) %>%\n",
        "  select(quartos, condominio, everything()) #reorganiza as colunas, começando com quartos, condominio e os demais."
      ],
      "execution_count": 0,
      "outputs": []
    },
    {
      "cell_type": "markdown",
      "metadata": {
        "id": "Ta3NihmscKTE",
        "colab_type": "text"
      },
      "source": [
        "É possível também adicionar um texto ao preço da vaga:"
      ]
    },
    {
      "cell_type": "code",
      "metadata": {
        "id": "OqJQyiYGcKTE",
        "colab_type": "code",
        "colab": {}
      },
      "source": [
        "ntbl_dtf <- tbl_dtf %>%\n",
        "  mutate(preco_vaga = aluguel * 0.2 * vaga,\n",
        "         preco_vaga_txt = paste(preco_vaga,'reais'))\n",
        "head(ntbl_dtf)"
      ],
      "execution_count": 0,
      "outputs": []
    },
    {
      "cell_type": "markdown",
      "metadata": {
        "id": "Ak1C3xrNcKTH",
        "colab_type": "text"
      },
      "source": [
        "A função **case_when()** permite aplicar múltiplos testes de modificação ou criação de conteúdo. Neste caso a lógica cria uma nova coluna *tipo*:"
      ]
    },
    {
      "cell_type": "code",
      "metadata": {
        "id": "LO2oMjAHcKTI",
        "colab_type": "code",
        "colab": {}
      },
      "source": [
        "ntbl_dtf %>%\n",
        " select(aluguel, vaga, area, suite) %>%\n",
        " mutate(\n",
        "   tipo = case_when(\n",
        "     suite > 0 & vaga > 0 ~ \"GRANDE\",\n",
        "     aluguel <= 800       ~ \"PEQUENO\",\n",
        "     area   <= 50         ~ \"MÉDIO\",\n",
        "     TRUE                 ~ \"NÃO CLASSIFICADO\"\n",
        "   )\n",
        " )\n"
      ],
      "execution_count": 0,
      "outputs": []
    },
    {
      "cell_type": "markdown",
      "metadata": {
        "id": "p87dL86gcKTJ",
        "colab_type": "text"
      },
      "source": [
        "---\n",
        "Função **arrange**\n",
        "\n",
        "**Ordenando as colunas**\n",
        "\n",
        "Ordenando pelo aluguel:"
      ]
    },
    {
      "cell_type": "code",
      "metadata": {
        "id": "gMqasIL-cKTK",
        "colab_type": "code",
        "colab": {}
      },
      "source": [
        "tbl_dtf %>%\n",
        "  arrange(aluguel)"
      ],
      "execution_count": 0,
      "outputs": []
    },
    {
      "cell_type": "markdown",
      "metadata": {
        "id": "JZ7_4eh7nqfl",
        "colab_type": "text"
      },
      "source": [
        "Utilizamos a definição **desc** para definir a ordem:"
      ]
    },
    {
      "cell_type": "code",
      "metadata": {
        "id": "KfV2z1EocKTM",
        "colab_type": "code",
        "colab": {}
      },
      "source": [
        "tbl_dtf %>%\n",
        "  arrange(desc(aluguel)) #ordenação descendente"
      ],
      "execution_count": 0,
      "outputs": []
    },
    {
      "cell_type": "markdown",
      "metadata": {
        "id": "2Qy7Wa6Wn1TI",
        "colab_type": "text"
      },
      "source": [
        "Ordenando com múltiplas colunas, sendo por quartos (crescente), area (crescente) e aluguel (decrescente):"
      ]
    },
    {
      "cell_type": "code",
      "metadata": {
        "id": "skJRWGGacKTP",
        "colab_type": "code",
        "colab": {}
      },
      "source": [
        "tbl_dtf %>%\n",
        "  arrange(quartos, area, desc(aluguel)) #ordenação: crescente, crescente, descendente"
      ],
      "execution_count": 0,
      "outputs": []
    },
    {
      "cell_type": "markdown",
      "metadata": {
        "id": "49Ue5rElcKTT",
        "colab_type": "text"
      },
      "source": [
        "---\n",
        "Função **summarise**\n",
        "\n",
        "**Resumindo resultados**\n",
        "\n",
        "Essa função tem o objetivo de retornar uma espécie de dataframe resumido.\n",
        "\n",
        "Geralmente utilizamos em conjunto com a função **group_by**, **n()** e **n_distinct()**.\n",
        "\n",
        "No exemplo abaixo, é retornado o número de quartos, o número de ocorrências agrupadas e as médias do aluguel, condomínio e área:"
      ]
    },
    {
      "cell_type": "code",
      "metadata": {
        "id": "5fk-pIqucKTU",
        "colab_type": "code",
        "colab": {}
      },
      "source": [
        "tbl_dtf %>%\n",
        "  group_by(quartos) %>%\n",
        "  summarise(count=n(),\n",
        "            aluguel=mean(aluguel),\n",
        "            condominio=mean(condominio),\n",
        "            area=mean(area)) %>%\n",
        "  arrange(desc(quartos))"
      ],
      "execution_count": 0,
      "outputs": []
    },
    {
      "cell_type": "markdown",
      "metadata": {
        "id": "gB-la3NjcKTW",
        "colab_type": "text"
      },
      "source": [
        "Usando o **count()**, para agrupar e contar o número de ocorrências agrupadas:"
      ]
    },
    {
      "cell_type": "code",
      "metadata": {
        "id": "Wnpmgm0IcKTX",
        "colab_type": "code",
        "colab": {}
      },
      "source": [
        "tbl_dtf %>%\n",
        "  count(quartos)"
      ],
      "execution_count": 0,
      "outputs": []
    },
    {
      "cell_type": "markdown",
      "metadata": {
        "id": "FfcSe0szcKTa",
        "colab_type": "text"
      },
      "source": [
        "Usando o **tally** para o mesmo propósito:"
      ]
    },
    {
      "cell_type": "code",
      "metadata": {
        "id": "RvXDUnD-cKTb",
        "colab_type": "code",
        "colab": {}
      },
      "source": [
        "tbl_dtf %>%\n",
        "  group_by(quartos) %>%\n",
        "  tally()"
      ],
      "execution_count": 0,
      "outputs": []
    },
    {
      "cell_type": "markdown",
      "metadata": {
        "id": "uFOUA5EYcKTf",
        "colab_type": "text"
      },
      "source": [
        "Agrupando mais de uma coluna, sendo *quartos* e *vaga* e imprimindo a média de aluguel agrupado:"
      ]
    },
    {
      "cell_type": "code",
      "metadata": {
        "id": "ovRN0td8cKTf",
        "colab_type": "code",
        "colab": {}
      },
      "source": [
        "tbl_dtf %>%\n",
        "  group_by(quartos,vaga) %>%\n",
        "  summarise(aluguel=mean(aluguel))"
      ],
      "execution_count": 0,
      "outputs": []
    },
    {
      "cell_type": "markdown",
      "metadata": {
        "id": "3CsZrLhjcKTh",
        "colab_type": "text"
      },
      "source": [
        "Contando o número de ocorrências **n()**:"
      ]
    },
    {
      "cell_type": "code",
      "metadata": {
        "id": "3nYNsPUgcKTi",
        "colab_type": "code",
        "colab": {}
      },
      "source": [
        "tbl_dtf %>%\n",
        "  group_by(quartos,vaga) %>%\n",
        "  summarise(count=n(),\n",
        "            aluguel=mean(aluguel))"
      ],
      "execution_count": 0,
      "outputs": []
    },
    {
      "cell_type": "markdown",
      "metadata": {
        "id": "u8edDtbYcKTm",
        "colab_type": "text"
      },
      "source": [
        "O comando **summarise_at()** também permite resumir todas as colunas listadas:"
      ]
    },
    {
      "cell_type": "code",
      "metadata": {
        "id": "zzIyP0w3cKTn",
        "colab_type": "code",
        "colab": {}
      },
      "source": [
        "tbl_dtf %>%\n",
        "    summarise_at(vars(aluguel, condominio), funs(n(), mean, median))"
      ],
      "execution_count": 0,
      "outputs": []
    },
    {
      "cell_type": "markdown",
      "metadata": {
        "colab_type": "text",
        "id": "RIj-YbJ40fQr"
      },
      "source": [
        "---\n",
        "**Outras funções**\n",
        "\n",
        "Extraindo apenas a coluna *aluguel* como um vetor usando o comando **pull**:"
      ]
    },
    {
      "cell_type": "code",
      "metadata": {
        "colab_type": "code",
        "id": "_CWBVT5a0fyR",
        "colab": {}
      },
      "source": [
        "tbl_dtf %>% \n",
        "    pull(aluguel) #resultado como vetor"
      ],
      "execution_count": 0,
      "outputs": []
    },
    {
      "cell_type": "markdown",
      "metadata": {
        "id": "xNg6R3gTcKTv",
        "colab_type": "text"
      },
      "source": [
        "Selecionando N linhas aleatoriamente utilizando a função **sample_n()**:"
      ]
    },
    {
      "cell_type": "code",
      "metadata": {
        "id": "Bbs1izyKcKTw",
        "colab_type": "code",
        "colab": {}
      },
      "source": [
        "# Selecionando 3 linhas aleatoriamente\n",
        "ntbl_dtf %>%\n",
        "  sample_n(3)"
      ],
      "execution_count": 0,
      "outputs": []
    },
    {
      "cell_type": "markdown",
      "metadata": {
        "id": "hfYQaxeCcKTy",
        "colab_type": "text"
      },
      "source": [
        "Removendo a palavra \"reais\" da coluna *preco_vaga_txt*:"
      ]
    },
    {
      "cell_type": "code",
      "metadata": {
        "id": "78On0G27cKTy",
        "colab_type": "code",
        "colab": {}
      },
      "source": [
        "ntbl_dtf <- ntbl_dtf %>% \n",
        "  mutate(preco_vaga_txt = gsub(\"reais\", \"\", preco_vaga_txt))\n",
        "head(ntbl_dtf)"
      ],
      "execution_count": 0,
      "outputs": []
    },
    {
      "cell_type": "markdown",
      "metadata": {
        "id": "-3i9JSTucKT0",
        "colab_type": "text"
      },
      "source": [
        "Removendo a coluna **preco_vaga_txt**:"
      ]
    },
    {
      "cell_type": "code",
      "metadata": {
        "id": "cyrZOivJcKT0",
        "colab_type": "code",
        "colab": {}
      },
      "source": [
        "ntbl_dtf$preco_vaga_txt <- NULL #removendo coluna\n",
        "head(ntbl_dtf)"
      ],
      "execution_count": 0,
      "outputs": []
    },
    {
      "cell_type": "markdown",
      "metadata": {
        "id": "GZGOHjRWcKT2",
        "colab_type": "text"
      },
      "source": [
        "E se quisermos recodificar uma variável de texto? Por exemplo, vamos definir e examinar a coluna *ano* que contém o mês e ano no formato m/Y:"
      ]
    },
    {
      "cell_type": "code",
      "metadata": {
        "id": "Awde-Sc5q9MK",
        "colab_type": "code",
        "colab": {}
      },
      "source": [
        "ntbl_dtf$ano <- c(\"01/2016\",\"01/2015\",\"01/2017\",\"01/2016\",\"01/2016\",\"01/2016\",\"01/2015\",\"01/2017\",\"01/2016\",\"01/2016\",\n",
        "\"01/2015\",\"01/2015\",\"01/2017\",\"01/2016\",\"01/2016\",\"01/2016\",\"01/2016\",\"01/2015\",\"01/2017\",\"01/2016\",\"01/2016\")\n",
        "ntbl_dtf"
      ],
      "execution_count": 0,
      "outputs": []
    },
    {
      "cell_type": "markdown",
      "metadata": {
        "id": "BLeySn5ccKT5",
        "colab_type": "text"
      },
      "source": [
        "São 3 valores possíveis em nossa amostra: “01/2015”, “01/2016” e “01/2017”. \n",
        "Agora vamos gerar uma nova variável, ano, que indica apenas se o valor é 2015, 2016 ou 2017."
      ]
    },
    {
      "cell_type": "code",
      "metadata": {
        "id": "Al5ry_EHcKT5",
        "colab_type": "code",
        "colab": {}
      },
      "source": [
        "#O comando seria:\n",
        "ntbl_dtf <- ntbl_dtf %>% \n",
        "  mutate(ano = replace(ano, ano == \"01/2015\", \"2015\"),\n",
        "         ano = replace(ano, ano == \"01/2016\", \"2016\"),\n",
        "         ano = replace(ano, ano == \"01/2017\", \"2017\"))\n",
        "ntbl_dtf"
      ],
      "execution_count": 0,
      "outputs": []
    },
    {
      "cell_type": "markdown",
      "metadata": {
        "id": "DbbAITYgcKT8",
        "colab_type": "text"
      },
      "source": [
        "Uma maneira mais inteligente é usar o comando **recode()**:"
      ]
    },
    {
      "cell_type": "code",
      "metadata": {
        "id": "pPAdFwdVcKT9",
        "colab_type": "code",
        "colab": {}
      },
      "source": [
        "ntbl_dtf <- ntbl_dtf %>% \n",
        "  mutate(ano = recode(ano, \"01/2015\" = \"2015\", \"01/2016\" = \"2016\", \"01/2017\" = \"2017\"))\n",
        "ntbl_dtf  "
      ],
      "execution_count": 0,
      "outputs": []
    },
    {
      "cell_type": "markdown",
      "metadata": {
        "id": "Q6FXQ5yWcKT-",
        "colab_type": "text"
      },
      "source": [
        "Removendo linhas duplicadas com a função **distinct()**"
      ]
    },
    {
      "cell_type": "code",
      "metadata": {
        "id": "XHSo-LcLcKT_",
        "colab_type": "code",
        "colab": {}
      },
      "source": [
        "ntbl_dtf %>%\n",
        "  distinct() # excluindo linhas iguais (vejam que removemos o apartamento da Rua Cascavel)"
      ],
      "execution_count": 0,
      "outputs": []
    },
    {
      "cell_type": "markdown",
      "metadata": {
        "id": "ohTaFkAgcKUA",
        "colab_type": "text"
      },
      "source": [
        "Removendo linhas duplicadas baseado em uma coluna:"
      ]
    },
    {
      "cell_type": "code",
      "metadata": {
        "id": "gy75RJeScKUB",
        "colab_type": "code",
        "colab": {}
      },
      "source": [
        "ntbl_dtf %>%\n",
        "  distinct(data) # excluindo linhas que possuem datas iguais"
      ],
      "execution_count": 0,
      "outputs": []
    },
    {
      "cell_type": "markdown",
      "metadata": {
        "id": "einh6hCscKUH",
        "colab_type": "text"
      },
      "source": [
        "Removendo linhas duplicadas baseado em mais de uma coluna:"
      ]
    },
    {
      "cell_type": "code",
      "metadata": {
        "id": "nHFURDQIcKUI",
        "colab_type": "code",
        "colab": {}
      },
      "source": [
        "ntbl_dtf %>%\n",
        "  distinct(vaga, endereco)  "
      ],
      "execution_count": 0,
      "outputs": []
    }
  ]
}