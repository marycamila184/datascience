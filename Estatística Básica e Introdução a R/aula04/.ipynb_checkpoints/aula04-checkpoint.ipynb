{
 "cells": [
  {
   "cell_type": "markdown",
   "metadata": {
    "colab_type": "text",
    "id": "XP3H2uV50WLC"
   },
   "source": [
    "# Manipulação de Dataframes"
   ]
  },
  {
   "cell_type": "code",
   "execution_count": null,
   "metadata": {
    "colab": {
     "base_uri": "https://localhost:8080/",
     "height": 204
    },
    "colab_type": "code",
    "executionInfo": {
     "elapsed": 903,
     "status": "ok",
     "timestamp": 1570713542202,
     "user": {
      "displayName": "Leonardo Zanin",
      "photoUrl": "https://lh3.googleusercontent.com/a-/AAuE7mBxtYq-qE3lFRkh0J8HQ-NJwRntY2o1Q-s34duhPhA=s64",
      "userId": "07901550678336566471"
     },
     "user_tz": 180
    },
    "id": "s5Xo4si4YAOF",
    "outputId": "45a4f46c-116f-4849-9d74-bdd28396f260"
   },
   "outputs": [],
   "source": [
    "dtf <- read.table(\"https://gitlab.com/luizcelso/datascience/raw/master/data/aluguel.csv\",header=T,sep=\",\",dec=\".\")\n",
    "head(dtf)"
   ]
  },
  {
   "cell_type": "markdown",
   "metadata": {},
   "source": [
    "Para checar quantas linhas e colunas há nos dados importados, usamos a função **dim**:"
   ]
  },
  {
   "cell_type": "code",
   "execution_count": null,
   "metadata": {},
   "outputs": [],
   "source": [
    "dim(dtf)"
   ]
  },
  {
   "cell_type": "markdown",
   "metadata": {},
   "source": [
    "E observar os nomes das colunas:"
   ]
  },
  {
   "cell_type": "code",
   "execution_count": null,
   "metadata": {},
   "outputs": [],
   "source": [
    "names(dtf)"
   ]
  },
  {
   "cell_type": "markdown",
   "metadata": {
    "colab_type": "text",
    "id": "BXr1DOFo3E5n"
   },
   "source": [
    "# Manipulando DataFrames em com sintaxe padrão em R\n",
    "\n",
    "Existem várias formas manipular dataframes e selecionar colunas ou linhas no R."
   ]
  },
  {
   "cell_type": "markdown",
   "metadata": {
    "colab_type": "text",
    "id": "TtfcX8DZ3b3S"
   },
   "source": [
    "Para selecionar a coluna aluguel por exemplo, você pode utilizar o símbolo **$**:\n",
    "\n",
    "\n",
    "```\n",
    "dtf$aluguel\n",
    "```\n",
    "\n",
    "Também é possível utilizar o **colchetes**:\n",
    "\n",
    "\n",
    "```\n",
    "dtf[,\"aluguel\"]\n",
    "```\n",
    "\n",
    "\n",
    "Ou utilizar **duplo colchetes** como lista:\n",
    "\n",
    "\n",
    "```\n",
    "dtf[[\"aluguel\"]]\n",
    "```\n",
    "\n",
    "Nestes casos acima, é retornado um vetor como resultado da operação"
   ]
  },
  {
   "cell_type": "code",
   "execution_count": null,
   "metadata": {
    "colab": {},
    "colab_type": "code",
    "id": "qB_MKTXu4BkY"
   },
   "outputs": [],
   "source": [
    "dtf$aluguel #retornando um vetor"
   ]
  },
  {
   "cell_type": "code",
   "execution_count": null,
   "metadata": {},
   "outputs": [],
   "source": [
    "class(dtf$aluguel)"
   ]
  },
  {
   "cell_type": "code",
   "execution_count": null,
   "metadata": {
    "colab": {},
    "colab_type": "code",
    "id": "KcBRBLov4FC9"
   },
   "outputs": [],
   "source": [
    "dtf[,\"aluguel\"] #retornando um vetor"
   ]
  },
  {
   "cell_type": "code",
   "execution_count": null,
   "metadata": {},
   "outputs": [],
   "source": [
    "class(dtf[,\"aluguel\"])"
   ]
  },
  {
   "cell_type": "code",
   "execution_count": null,
   "metadata": {
    "colab": {},
    "colab_type": "code",
    "id": "7d4ug84e4GpT"
   },
   "outputs": [],
   "source": [
    "dtf[[\"aluguel\"]] #retornando um vetor"
   ]
  },
  {
   "cell_type": "code",
   "execution_count": null,
   "metadata": {},
   "outputs": [],
   "source": [
    "class(dtf[[\"aluguel\"]])"
   ]
  },
  {
   "cell_type": "markdown",
   "metadata": {
    "colab_type": "text",
    "id": "zecGYeRT4D7U"
   },
   "source": [
    "O formato abaixo, retorna um dataframe como resultado:"
   ]
  },
  {
   "cell_type": "code",
   "execution_count": null,
   "metadata": {
    "colab": {},
    "colab_type": "code",
    "id": "0LD6ix1I4hz4"
   },
   "outputs": [],
   "source": [
    "dtf[\"aluguel\"] #retornando um dataframe"
   ]
  },
  {
   "cell_type": "code",
   "execution_count": null,
   "metadata": {},
   "outputs": [],
   "source": [
    "class(dtf[\"aluguel\"])"
   ]
  },
  {
   "cell_type": "markdown",
   "metadata": {
    "colab_type": "text",
    "id": "QF4GLjBb4ws4"
   },
   "source": [
    "---\n",
    "**Selecionando múltiplas colunas**\n",
    "Existem diversas maneiras de selecionar múltiplas colunas de um dataframe em R.\n",
    "É necessário atribuir um vetor contendo as colunas desejadas como parâmetro. \n",
    "Veja o exemplo abaixo:"
   ]
  },
  {
   "cell_type": "code",
   "execution_count": null,
   "metadata": {
    "colab": {},
    "colab_type": "code",
    "id": "Vqq0Pc455KwG"
   },
   "outputs": [],
   "source": [
    "colunas = c(\"aluguel\",\"condominio\") #criando um vetor que irá conter as colunas\n",
    "colunas"
   ]
  },
  {
   "cell_type": "code",
   "execution_count": null,
   "metadata": {
    "colab": {},
    "colab_type": "code",
    "id": "uOleMym95T9G"
   },
   "outputs": [],
   "source": [
    "dtf[,colunas] #retorna um data.frame"
   ]
  },
  {
   "cell_type": "code",
   "execution_count": null,
   "metadata": {
    "colab": {},
    "colab_type": "code",
    "id": "InTTE4555cIg"
   },
   "outputs": [],
   "source": [
    "dtf[colunas] #retorna um data.frame"
   ]
  },
  {
   "cell_type": "markdown",
   "metadata": {
    "colab_type": "text",
    "id": "5nqlc2lV5mdD"
   },
   "source": [
    "Também existe uma função chamada **subset** que também retornará um dataframe:"
   ]
  },
  {
   "cell_type": "code",
   "execution_count": null,
   "metadata": {
    "colab": {},
    "colab_type": "code",
    "id": "aw61oInL5xUQ"
   },
   "outputs": [],
   "source": [
    "subset(dtf, select = c(\"aluguel\",\"condominio\")) #retorna um data.frame"
   ]
  },
  {
   "cell_type": "markdown",
   "metadata": {},
   "source": [
    "---\n",
    "**Ordenando múltiplas colunas**"
   ]
  },
  {
   "cell_type": "markdown",
   "metadata": {},
   "source": [
    "Ordenando por quartos:"
   ]
  },
  {
   "cell_type": "code",
   "execution_count": null,
   "metadata": {},
   "outputs": [],
   "source": [
    "dtf[order(dtf$quartos), ]"
   ]
  },
  {
   "cell_type": "markdown",
   "metadata": {},
   "source": [
    "Ordenando por quartos em ordem crescente:"
   ]
  },
  {
   "cell_type": "code",
   "execution_count": null,
   "metadata": {},
   "outputs": [],
   "source": [
    "dtf[order(dtf$quartos, decreasing=FALSE),]"
   ]
  },
  {
   "cell_type": "markdown",
   "metadata": {},
   "source": [
    "Ordenando por quartos (crescente), area (crescente) e aluguel (decrescente):"
   ]
  },
  {
   "cell_type": "code",
   "execution_count": null,
   "metadata": {},
   "outputs": [],
   "source": [
    "dtf[order(dtf$quartos,dtf$area,dtf$aluguel, decreasing=c(FALSE,FALSE,TRUE)),]"
   ]
  },
  {
   "cell_type": "markdown",
   "metadata": {},
   "source": [
    "Existem várias maneiras de inserir uma nova linha. Neste exemplo vamos utilizar o **rbind**, para isso todos as colunas devem ser definidas:"
   ]
  },
  {
   "cell_type": "code",
   "execution_count": null,
   "metadata": {},
   "outputs": [],
   "source": [
    "linha <- data.frame(\n",
    "    codigo=5,\n",
    "    endereco=\"Rua Cascavel\",\n",
    "    quartos=2,\n",
    "    suite=1,\n",
    "    area=56,\n",
    "    vaga=0,\n",
    "    aluguel=670,\n",
    "    condominio=700,\n",
    "    data='12/10/19')\n",
    "dtf <- rbind(dtf, linha)\n",
    "dtf"
   ]
  },
  {
   "cell_type": "markdown",
   "metadata": {},
   "source": [
    "---\n",
    "Categorizando uma coluna utilizando a função **cut**.\n",
    "\n",
    "Neste exemplo, vamos determinar uma nova coluna que estabelece uma etiqueta, com os possíveis valores: BAIXO, MÉDIO, ALTO com relação aos preços de aluguel.\n",
    "\n",
    "* BAIXO: aluguel < 700\n",
    "* MÉDIO: 700 < aluguel < 1000\n",
    "* ALTO: 1000 < aluguel\n"
   ]
  },
  {
   "cell_type": "code",
   "execution_count": null,
   "metadata": {},
   "outputs": [],
   "source": [
    "dtf$etiqueta <- cut(dtf$aluguel, \n",
    "    c(0, 700, 1000, Inf),\n",
    "    labels = c(\"BAIXO\", \"MÉDIO\", \"ALTO\"),\n",
    "    ordered_result = TRUE)\n",
    "dtf"
   ]
  },
  {
   "cell_type": "markdown",
   "metadata": {
    "colab_type": "text",
    "id": "EoZTrdpP180U"
   },
   "source": [
    "# Usando o pacote dplyr para manipular DataFrames em R\n",
    "A primeira coisa que precisamos fazer é carregar o pacote **tidyverse**, que inclui o **dplyr**\n",
    "\n",
    "\n",
    "```\n",
    "library(tidyverse)\n",
    "```\n",
    "\n",
    "O pacote dplyr é um pacote bastante rico e que permite facilitar a escrita de seleção e aplicação de funções nos dataframes.\n",
    "\n",
    "Este pacote bastante recomendado em análises exploratória de dados, por prover soluções de fácil codificação.\n",
    "É um dos pacotes mais poderosos e populares do R e foi desenvolvido por Hadley Wickham.\n",
    "\n",
    "A sua utilização é facilitada com o emprego do operador pipe **%>%**.\n",
    "\n",
    "O operador pipe **%>%** é uma funcionalidade extremamente útil. Com este operador, podemos realizar manipulações no formato **dados %>% fx()** que basicamente significa: “Pega esse objeto e execute essa operação, depois essa, depois essa, …”\n",
    "\n",
    "As cinco funções principais dessa biblioteca são:\n",
    "* select\n",
    "* filter\n",
    "* mutate\n",
    "* arrange\n",
    "* summarise\n",
    "\n",
    "Veremos cada uma dessas funções abaixo."
   ]
  },
  {
   "cell_type": "code",
   "execution_count": null,
   "metadata": {
    "colab": {},
    "colab_type": "code",
    "id": "ATrDnzhC0WLF"
   },
   "outputs": [],
   "source": [
    "install.packages(\"tidyverse\")"
   ]
  },
  {
   "cell_type": "code",
   "execution_count": null,
   "metadata": {},
   "outputs": [],
   "source": [
    "library(tidyverse)"
   ]
  },
  {
   "cell_type": "code",
   "execution_count": null,
   "metadata": {
    "colab": {},
    "colab_type": "code",
    "id": "x49yAPpXz_5f"
   },
   "outputs": [],
   "source": [
    "dpdtf <- as_tibble(dtf) #transformando um dataframe, convertendo-o em um tibble dataframe (tbl_df)\n",
    "head(dpdtf)"
   ]
  },
  {
   "cell_type": "code",
   "execution_count": null,
   "metadata": {},
   "outputs": [],
   "source": [
    "class(dpdtf)"
   ]
  },
  {
   "cell_type": "markdown",
   "metadata": {},
   "source": [
    "Para explorar os dados vamos usar uma função nova, glimpse, aplicável a tibbles:"
   ]
  },
  {
   "cell_type": "code",
   "execution_count": null,
   "metadata": {},
   "outputs": [],
   "source": [
    "glimpse(dpdtf)"
   ]
  },
  {
   "cell_type": "markdown",
   "metadata": {},
   "source": [
    "Para renomear as colunas, podemos utilizar o comando **rename()**"
   ]
  },
  {
   "cell_type": "code",
   "execution_count": null,
   "metadata": {},
   "outputs": [],
   "source": [
    "dpdtf <- rename(dpdtf, suite = banheiro)\n",
    "head(dpdtf)\n",
    "dpdtf <- rename(dpdtf, banheiro = suite) #renomeando para o original"
   ]
  },
  {
   "cell_type": "markdown",
   "metadata": {
    "colab_type": "text",
    "id": "RIRvF0Xe09ju"
   },
   "source": [
    "---\n",
    "Função **select**\n",
    "\n",
    "**Extraindo colunas como uma tabela**\n",
    "\n",
    "Selecionado as colunas de 1 a 3, isto é, código, endereco e quartos"
   ]
  },
  {
   "cell_type": "code",
   "execution_count": null,
   "metadata": {
    "colab": {
     "base_uri": "https://localhost:8080/",
     "height": 498
    },
    "colab_type": "code",
    "executionInfo": {
     "elapsed": 826,
     "status": "ok",
     "timestamp": 1570715082218,
     "user": {
      "displayName": "Leonardo Zanin",
      "photoUrl": "https://lh3.googleusercontent.com/a-/AAuE7mBxtYq-qE3lFRkh0J8HQ-NJwRntY2o1Q-s34duhPhA=s64",
      "userId": "07901550678336566471"
     },
     "user_tz": 180
    },
    "id": "Ta2tIHgQ1DxF",
    "outputId": "69d3c0f3-6c02-4eee-8c74-c1cb81747520"
   },
   "outputs": [],
   "source": [
    "dpdtf %>% \n",
    "    select(1:3)\n"
   ]
  },
  {
   "cell_type": "markdown",
   "metadata": {
    "colab_type": "text",
    "id": "szvCv-lP1fXM"
   },
   "source": [
    "Selecionado as colunas de 1 e 3, sem incluir a 2:"
   ]
  },
  {
   "cell_type": "code",
   "execution_count": null,
   "metadata": {
    "colab": {},
    "colab_type": "code",
    "id": "EAIAUHO41fzi"
   },
   "outputs": [],
   "source": [
    "dpdtf %>% \n",
    "    select(1,3)"
   ]
  },
  {
   "cell_type": "markdown",
   "metadata": {
    "colab_type": "text",
    "id": "HQdwIL4t1vh9"
   },
   "source": [
    "Selecionando as colunas pelo nome:"
   ]
  },
  {
   "cell_type": "code",
   "execution_count": null,
   "metadata": {
    "colab": {},
    "colab_type": "code",
    "id": "UR9vHiiB1wEZ"
   },
   "outputs": [],
   "source": [
    "dpdtf %>% \n",
    "    select(aluguel,condominio)"
   ]
  },
  {
   "cell_type": "markdown",
   "metadata": {
    "colab_type": "text",
    "id": "2O3e0sqp14tQ"
   },
   "source": [
    "Selecionando uma faixa de colunas:"
   ]
  },
  {
   "cell_type": "code",
   "execution_count": null,
   "metadata": {
    "colab": {},
    "colab_type": "code",
    "id": "_v_5mggw15fX"
   },
   "outputs": [],
   "source": [
    "dpdtf %>% \n",
    "    select(aluguel:data)"
   ]
  },
  {
   "cell_type": "markdown",
   "metadata": {},
   "source": [
    "Removendo duas colunas:"
   ]
  },
  {
   "cell_type": "code",
   "execution_count": null,
   "metadata": {},
   "outputs": [],
   "source": [
    "dpdtf %>% \n",
    "    select(-aluguel, -condominio)"
   ]
  },
  {
   "cell_type": "markdown",
   "metadata": {},
   "source": [
    "Removendo uma faixa de valores:"
   ]
  },
  {
   "cell_type": "code",
   "execution_count": null,
   "metadata": {},
   "outputs": [],
   "source": [
    "dpdtf %>% \n",
    "    select(-(quartos:data))"
   ]
  },
  {
   "cell_type": "markdown",
   "metadata": {},
   "source": [
    "Selecionar baseado em uma condição, aplicando uma função, neste caso **is.numeric**. As colunas que retornarem TRUE serão selecionadas."
   ]
  },
  {
   "cell_type": "code",
   "execution_count": null,
   "metadata": {},
   "outputs": [],
   "source": [
    "dpdtf %>% \n",
    "    select_if(is.numeric) #neste caso, a coluna endereco foi removida"
   ]
  },
  {
   "cell_type": "markdown",
   "metadata": {},
   "source": [
    "---\n",
    "Função **filter**\n",
    "\n",
    "**Filtrando valores das colunas**\n",
    "\n",
    "Selecionado somente as linhas com aluguel maior que 800 e condominio menor que 400"
   ]
  },
  {
   "cell_type": "code",
   "execution_count": null,
   "metadata": {},
   "outputs": [],
   "source": [
    "dpdtf %>%\n",
    "  filter(aluguel > 800, condominio < 400)"
   ]
  },
  {
   "cell_type": "markdown",
   "metadata": {},
   "source": [
    "Também é possível usar operadores lógicos ao invés de vírgula:"
   ]
  },
  {
   "cell_type": "code",
   "execution_count": null,
   "metadata": {},
   "outputs": [],
   "source": [
    "dpdtf %>%\n",
    "  filter(aluguel > 800 & condominio < 400)"
   ]
  },
  {
   "cell_type": "markdown",
   "metadata": {},
   "source": [
    "Podemos utilizar o operador **in**, e passar um vetor, para que sejam filtradas todas as linhas cujo endereco seja: **Rua Lourenço Pinto** ou **Rua Rockefeller**"
   ]
  },
  {
   "cell_type": "code",
   "execution_count": null,
   "metadata": {},
   "outputs": [],
   "source": [
    "dpdtf %>%\n",
    "  filter(endereco %in% c('Rua Lourenço Pinto','Rua Rockefeller'))"
   ]
  },
  {
   "cell_type": "code",
   "execution_count": null,
   "metadata": {},
   "outputs": [],
   "source": [
    "dpdtf %>%\n",
    "  filter(quartos %in% c(2,3) & aluguel < 800)"
   ]
  },
  {
   "cell_type": "markdown",
   "metadata": {},
   "source": [
    "Podemos utilizar o operador de expressões regulares **grepl** em associação com o comando **filter**, neste caso filtrando apenas os endereços que contenham **Rua** na descrição:"
   ]
  },
  {
   "cell_type": "code",
   "execution_count": null,
   "metadata": {},
   "outputs": [],
   "source": [
    "dpdtf %>%\n",
    "  filter(grepl(\"Rua\",endereco))"
   ]
  },
  {
   "cell_type": "markdown",
   "metadata": {},
   "source": [
    "Também podemos utilizar a função **str_detect**"
   ]
  },
  {
   "cell_type": "code",
   "execution_count": null,
   "metadata": {},
   "outputs": [],
   "source": [
    "dpdtf %>% \n",
    "  filter(str_detect(endereco, \"Rua\"))"
   ]
  },
  {
   "cell_type": "markdown",
   "metadata": {},
   "source": [
    "---\n",
    "Função **mutate**\n",
    "\n",
    "**Alterando as colunas**\n",
    "\n",
    "Para esta função as novas colunas devem ter o mesmo tamanho que o dataframe oridinal ou 1."
   ]
  },
  {
   "cell_type": "code",
   "execution_count": null,
   "metadata": {},
   "outputs": [],
   "source": [
    "dpdtf"
   ]
  },
  {
   "cell_type": "markdown",
   "metadata": {},
   "source": [
    "Neste caso abaixo, estamos considerando que o custo de cada vaga é 20% do valor do aluguel. Para isso, vamos criar uma nova coluna chamada **preco_vaga**:"
   ]
  },
  {
   "cell_type": "code",
   "execution_count": null,
   "metadata": {},
   "outputs": [],
   "source": [
    "dpdtf %>%\n",
    "  mutate(preco_vaga = aluguel * 0.2 * vaga) %>%\n",
    "  select(quartos, condominio, everything()) #reorganiza as colunas, começando com quartos, condominio e os demais."
   ]
  },
  {
   "cell_type": "markdown",
   "metadata": {},
   "source": [
    "É possível também adicionar um texto ao preço da vaga:"
   ]
  },
  {
   "cell_type": "code",
   "execution_count": null,
   "metadata": {},
   "outputs": [],
   "source": [
    "ndpdtf <- dpdtf %>%\n",
    "  mutate(preco_vaga = aluguel * 0.2 * vaga,\n",
    "         preco_vaga_txt = paste(preco_vaga,'reais'))\n",
    "head(ndpdtf)"
   ]
  },
  {
   "cell_type": "markdown",
   "metadata": {},
   "source": [
    "A função **case_when()** permite aplicar múltiplos testes de modificação ou criação de conteúdo."
   ]
  },
  {
   "cell_type": "code",
   "execution_count": null,
   "metadata": {},
   "outputs": [],
   "source": [
    "ndpdtf %>%\n",
    " select(aluguel, vaga, suite) %>%\n",
    " mutate(\n",
    "   tipo = case_when(\n",
    "     suite > 1 | vaga > 1 ~ \"GRANDE\",\n",
    "     aluguel <= 800       ~ \"PEQUENO\",\n",
    "     TRUE                 ~ \"NÃO CLASSIFICADO\"\n",
    "   )\n",
    " )\n"
   ]
  },
  {
   "cell_type": "markdown",
   "metadata": {},
   "source": [
    "---\n",
    "Função **arrange**\n",
    "\n",
    "**Ordenando as colunas**\n",
    "\n",
    "Utilizamos a definição **desc** para ordem decrescente"
   ]
  },
  {
   "cell_type": "code",
   "execution_count": null,
   "metadata": {},
   "outputs": [],
   "source": [
    "dpdtf %>%\n",
    "  arrange(aluguel)"
   ]
  },
  {
   "cell_type": "code",
   "execution_count": null,
   "metadata": {},
   "outputs": [],
   "source": [
    "dpdtf %>%\n",
    "  arrange(desc(aluguel)) #ordenação descendente"
   ]
  },
  {
   "cell_type": "code",
   "execution_count": null,
   "metadata": {},
   "outputs": [],
   "source": [
    "Ordenando com múltiplas colunas, sendo por quartos (crescente), area (crescente) e aluguel (decrescente):"
   ]
  },
  {
   "cell_type": "code",
   "execution_count": null,
   "metadata": {},
   "outputs": [],
   "source": [
    "dpdtf %>%\n",
    "  arrange(quartos, area, desc(aluguel)) #ordenação descendente"
   ]
  },
  {
   "cell_type": "code",
   "execution_count": null,
   "metadata": {},
   "outputs": [],
   "source": [
    "class(dpdtf)"
   ]
  },
  {
   "cell_type": "markdown",
   "metadata": {},
   "source": [
    "---\n",
    "Função **summarise**\n",
    "\n",
    "**Retornado as colunas**\n",
    "\n",
    "Essa função tem o objetivo de retornar uma espécie de dataframe resumido.\n",
    "\n",
    "Geralmente utilizamos em conjunto com a função **group_by**, **n()** e **n_distinct()**.\n",
    "\n",
    "No exemplo abaixo, é retornado o número de quartos, a frequência de linhas com os relativos números e as médias do aluguel, condomínio e área:"
   ]
  },
  {
   "cell_type": "code",
   "execution_count": null,
   "metadata": {},
   "outputs": [],
   "source": [
    "dpdtf %>%\n",
    "  group_by(quartos) %>%\n",
    "  summarise(count=n(),\n",
    "            aluguel=mean(aluguel),\n",
    "            condominio=mean(condominio),\n",
    "            area=mean(area)) %>%\n",
    "  arrange(desc(quartos))"
   ]
  },
  {
   "cell_type": "markdown",
   "metadata": {},
   "source": [
    "Usando o **count**:"
   ]
  },
  {
   "cell_type": "code",
   "execution_count": null,
   "metadata": {},
   "outputs": [],
   "source": [
    "dpdtf %>%\n",
    "  count(quartos)"
   ]
  },
  {
   "cell_type": "markdown",
   "metadata": {},
   "source": [
    "Usando o **tally**:"
   ]
  },
  {
   "cell_type": "code",
   "execution_count": null,
   "metadata": {},
   "outputs": [],
   "source": [
    "dpdtf %>%\n",
    "  group_by(quartos) %>%\n",
    "  tally() %>%\n",
    "  head # nao precisa de parenteses!"
   ]
  },
  {
   "cell_type": "markdown",
   "metadata": {},
   "source": [
    "Agrupando mais de uma coluna, quartos e vaga:"
   ]
  },
  {
   "cell_type": "code",
   "execution_count": null,
   "metadata": {},
   "outputs": [],
   "source": [
    "dpdtf %>%\n",
    "  group_by(quartos,vaga) %>%\n",
    "  summarise(aluguel=mean(aluguel))"
   ]
  },
  {
   "cell_type": "markdown",
   "metadata": {},
   "source": [
    "Contando o número de ocorrências:"
   ]
  },
  {
   "cell_type": "code",
   "execution_count": null,
   "metadata": {},
   "outputs": [],
   "source": [
    "dpdtf %>%\n",
    "  group_by(quartos,vaga) %>%\n",
    "  summarise(count=n(),\n",
    "            aluguel=mean(aluguel))"
   ]
  },
  {
   "cell_type": "markdown",
   "metadata": {},
   "source": [
    "O comando **summarise_all()** permite resumir todas as colunas, aplicando uma determinada função(ões):"
   ]
  },
  {
   "cell_type": "code",
   "execution_count": null,
   "metadata": {},
   "outputs": [],
   "source": [
    "dpdtf %>%\n",
    "    summarise_all(funs(n(),mean,median))"
   ]
  },
  {
   "cell_type": "markdown",
   "metadata": {},
   "source": [
    "O comando **summarise_at()** também permite resumir todas as colunas listadas:"
   ]
  },
  {
   "cell_type": "code",
   "execution_count": null,
   "metadata": {},
   "outputs": [],
   "source": [
    "dpdtf %>%\n",
    "    summarise_at(vars(aluguel, condominio), funs(n(), mean, median))"
   ]
  },
  {
   "cell_type": "markdown",
   "metadata": {},
   "source": []
  },
  {
   "cell_type": "code",
   "execution_count": null,
   "metadata": {},
   "outputs": [],
   "source": []
  },
  {
   "cell_type": "markdown",
   "metadata": {},
   "source": [
    "# ***********CONTINUAR:\n",
    "\n",
    "03c1-Exercício-Pandas_Manipulação e Agregação de Dados.ipynb"
   ]
  },
  {
   "cell_type": "markdown",
   "metadata": {
    "colab_type": "text",
    "id": "RIj-YbJ40fQr"
   },
   "source": [
    "---\n",
    "**Outras funções**\n",
    "\n",
    "Extraindo apenas a coluna **aluguel** como um vetor usando o comando **pull**:"
   ]
  },
  {
   "cell_type": "code",
   "execution_count": null,
   "metadata": {
    "colab": {},
    "colab_type": "code",
    "id": "_CWBVT5a0fyR"
   },
   "outputs": [],
   "source": [
    "dpdtf %>% \n",
    "    pull(aluguel) #resultado como vetor"
   ]
  },
  {
   "cell_type": "markdown",
   "metadata": {},
   "source": [
    "Selecionando N linhas aleatoriamente utilizando a função **sample_n**"
   ]
  },
  {
   "cell_type": "code",
   "execution_count": null,
   "metadata": {},
   "outputs": [],
   "source": [
    "# Selecionando 3 linhas aleatoriamente\n",
    "dpdtf %>%\n",
    "  sample_n(3)"
   ]
  },
  {
   "cell_type": "markdown",
   "metadata": {},
   "source": [
    "Removendo a palavra **reais** da coluna preco_vaga_txt:"
   ]
  },
  {
   "cell_type": "code",
   "execution_count": null,
   "metadata": {},
   "outputs": [],
   "source": [
    "ndpdtf <- ndpdtf %>% \n",
    "  mutate(preco_vaga_txt = gsub(\"reais\", \"\", preco_vaga_txt))\n",
    "head(ndpdtf)"
   ]
  },
  {
   "cell_type": "markdown",
   "metadata": {},
   "source": [
    "Removendo a coluna **preco_vaga_txt**:"
   ]
  },
  {
   "cell_type": "code",
   "execution_count": null,
   "metadata": {},
   "outputs": [],
   "source": [
    "ndpdtf$preco_vaga_txt <- NULL #removendo coluna\n",
    "head(ndpdtf)"
   ]
  },
  {
   "cell_type": "markdown",
   "metadata": {},
   "source": [
    "E se quisermos recodificar uma variável de texto? Por exemplo, vamos examinar a variável que contenha datas. \n",
    "Ela contém uma string contendo mês e ano. Vamor inserir essa nova coluna e usemos a função table para examiná-la:"
   ]
  },
  {
   "cell_type": "code",
   "execution_count": null,
   "metadata": {},
   "outputs": [],
   "source": [
    "v <- c(\"01/2016\",\"01/2015\",\"01/2016\",\"01/2016\",\"01/2016\",\"01/2016\",\"01/2015\",\"01/2017\",\"01/2016\",\"01/2016\")\n",
    "table(v)"
   ]
  },
  {
   "cell_type": "markdown",
   "metadata": {},
   "source": [
    "São 3 valores possíveis em nossa amostra: “01⁄2015”, “01⁄2016” e “01/2017” em nossa amostra. \n",
    "Vamos gerar uma nova variável, ano, que indica apenas se o valor é 2015, 2016 ou 2017. \n",
    "Vamos começar fazendo uma cópia da variável original e depois substituiremos cada um dos valores:"
   ]
  },
  {
   "cell_type": "code",
   "execution_count": null,
   "metadata": {},
   "outputs": [],
   "source": [
    "#O comando seria:\n",
    "ndpdtf <- ndpdtf %>% \n",
    "  mutate(ano = mes,\n",
    "         ano = replace(ano, ano == \"01/2015\", \"2015\"),\n",
    "         ano = replace(ano, ano == \"01/2016\", \"2016\"),\n",
    "         ano = replace(ano, ano == \"01/2017\", \"2017\"))"
   ]
  },
  {
   "cell_type": "markdown",
   "metadata": {},
   "source": [
    "Uma maneira mais inteligente é usar o comando recode:"
   ]
  },
  {
   "cell_type": "code",
   "execution_count": null,
   "metadata": {},
   "outputs": [],
   "source": [
    "ndpdtf <- ndpdtf %>% \n",
    "  mutate(ano = recode(mes, \"01/2015\" = \"2015\", \"01/2016\" = \"2016\", \"01/2017\" = \"2017\"))"
   ]
  },
  {
   "cell_type": "markdown",
   "metadata": {},
   "source": [
    "Removendo linhas duplicadas com a função **distinct()**"
   ]
  },
  {
   "cell_type": "code",
   "execution_count": null,
   "metadata": {},
   "outputs": [],
   "source": [
    "ndpdtf %>%\n",
    "  distinct() # excluindo linhas iguais"
   ]
  },
  {
   "cell_type": "markdown",
   "metadata": {},
   "source": [
    "Removendo linhas duplicadas baseado em uma coluna:"
   ]
  },
  {
   "cell_type": "code",
   "execution_count": null,
   "metadata": {},
   "outputs": [],
   "source": [
    "ndpdtf %>%\n",
    "  distinct(data) # excluindo linhas que possuem datas iguais"
   ]
  },
  {
   "cell_type": "markdown",
   "metadata": {},
   "source": [
    "Removendo linhas duplicadas baseado em mais de uma coluna:"
   ]
  },
  {
   "cell_type": "code",
   "execution_count": null,
   "metadata": {},
   "outputs": [],
   "source": [
    "ndpdtf %>%\n",
    "  distinct(data, endereco)  "
   ]
  },
  {
   "cell_type": "markdown",
   "metadata": {
    "colab_type": "text",
    "id": "k9bHrKiV7IiJ"
   },
   "source": [
    "# Continuação\n",
    "\n",
    "Agora vamos selecionar um subconjunto contendo o **aluguel** e o **condomínio**, usando o comando subset:"
   ]
  },
  {
   "cell_type": "code",
   "execution_count": null,
   "metadata": {
    "colab": {},
    "colab_type": "code",
    "id": "nOCDfEOn7UD-"
   },
   "outputs": [],
   "source": [
    "subdtf = subset(dtf, select = c(\"aluguel\",\"condominio\"))\n",
    "\n",
    "subdtf"
   ]
  },
  {
   "cell_type": "markdown",
   "metadata": {
    "colab_type": "text",
    "id": "QJc2GPBO7oou"
   },
   "source": [
    "Vamos selecionar subconjuntos baseados em uma lógica, isto é, linhas que contenham área maior que 50m2:"
   ]
  },
  {
   "cell_type": "code",
   "execution_count": null,
   "metadata": {
    "colab": {},
    "colab_type": "code",
    "id": "u7BUs8be7tSc"
   },
   "outputs": [],
   "source": [
    "#df[df.area > 50]\n",
    "dtf[dtf$area > 50, ]"
   ]
  },
  {
   "cell_type": "markdown",
   "metadata": {
    "colab_type": "text",
    "id": "axT2QxQH82tO"
   },
   "source": [
    "Para criarmos uma nova coluna em um Dataframe, podemos utilizar a seguinte sintaxe:"
   ]
  },
  {
   "cell_type": "code",
   "execution_count": null,
   "metadata": {
    "colab": {},
    "colab_type": "code",
    "id": "q3sUOLRV85dT"
   },
   "outputs": [],
   "source": [
    "dtf['total'] = dtf['aluguel'] + dtf['condominio']\n",
    "head(dtf)\n",
    "dtf['total'] = NULL #removendo a coluna total"
   ]
  },
  {
   "cell_type": "code",
   "execution_count": null,
   "metadata": {
    "colab": {},
    "colab_type": "code",
    "id": "tAjPzoKU9qTc"
   },
   "outputs": [],
   "source": [
    "head(dtf)"
   ]
  },
  {
   "cell_type": "markdown",
   "metadata": {
    "colab_type": "text",
    "id": "PggPi8Xx91GF"
   },
   "source": [
    "Também podemos fazer a mesma operação utilizando o indexador **$**:"
   ]
  },
  {
   "cell_type": "code",
   "execution_count": null,
   "metadata": {
    "colab": {},
    "colab_type": "code",
    "id": "B0a_T99K966m"
   },
   "outputs": [],
   "source": [
    "dtf$total = dtf$aluguel + dtf$condominio\n",
    "head(dtf)"
   ]
  },
  {
   "cell_type": "markdown",
   "metadata": {
    "colab_type": "text",
    "id": "rtzHCi34-TqR"
   },
   "source": [
    "Podemos fazer uma análise do dataframe:"
   ]
  },
  {
   "cell_type": "code",
   "execution_count": null,
   "metadata": {
    "colab": {
     "base_uri": "https://localhost:8080/",
     "height": 425
    },
    "colab_type": "code",
    "executionInfo": {
     "elapsed": 668,
     "status": "ok",
     "timestamp": 1570716708702,
     "user": {
      "displayName": "Leonardo Zanin",
      "photoUrl": "https://lh3.googleusercontent.com/a-/AAuE7mBxtYq-qE3lFRkh0J8HQ-NJwRntY2o1Q-s34duhPhA=s64",
      "userId": "07901550678336566471"
     },
     "user_tz": 180
    },
    "id": "ti3lSqDr-9H_",
    "outputId": "ce6bb2e9-7e03-4dde-be1c-a4f260a97a4f"
   },
   "outputs": [],
   "source": [
    "summary(dtf)"
   ]
  },
  {
   "cell_type": "markdown",
   "metadata": {
    "colab_type": "text",
    "id": "VZ6IFJxf_TsV"
   },
   "source": [
    "Calculando alguns valores estatísticos em dataframes:"
   ]
  },
  {
   "cell_type": "code",
   "execution_count": null,
   "metadata": {
    "colab": {},
    "colab_type": "code",
    "id": "fBrP9MuX_YT8"
   },
   "outputs": [],
   "source": [
    "vet = c(mean(dtf$aluguel), sd(dtf$aluguel), var(dtf$aluguel))\n",
    "vet"
   ]
  },
  {
   "cell_type": "markdown",
   "metadata": {
    "colab_type": "text",
    "id": "Eub53QvVBUxj"
   },
   "source": [
    "Para ordenar por uma coluna, podemos usar o comando **order**:"
   ]
  },
  {
   "cell_type": "code",
   "execution_count": null,
   "metadata": {
    "colab": {},
    "colab_type": "code",
    "id": "iGT-fIDrBaCB"
   },
   "outputs": [],
   "source": [
    "dtf[order(dtf$total),]"
   ]
  },
  {
   "cell_type": "markdown",
   "metadata": {
    "colab_type": "text",
    "id": "8kfixONrB00G"
   },
   "source": [
    "Ou podemos incluir o parâmetro decreasing = TRUE, para ordenar de forma decrescente:"
   ]
  },
  {
   "cell_type": "code",
   "execution_count": null,
   "metadata": {
    "colab": {
     "base_uri": "https://localhost:8080/",
     "height": 498
    },
    "colab_type": "code",
    "executionInfo": {
     "elapsed": 662,
     "status": "ok",
     "timestamp": 1570717047316,
     "user": {
      "displayName": "Leonardo Zanin",
      "photoUrl": "https://lh3.googleusercontent.com/a-/AAuE7mBxtYq-qE3lFRkh0J8HQ-NJwRntY2o1Q-s34duhPhA=s64",
      "userId": "07901550678336566471"
     },
     "user_tz": 180
    },
    "id": "Ch4cBKMxB_bh",
    "outputId": "133cc595-5cfc-4cb3-9b85-8f10af3ce62d"
   },
   "outputs": [],
   "source": [
    "dtf[order(dtf$total, decreasing = TRUE),]"
   ]
  }
 ],
 "metadata": {
  "colab": {
   "collapsed_sections": [
    "psJWgeRe8JNF"
   ],
   "name": "aula04.ipynb",
   "provenance": [
    {
     "file_id": "1ImX5PDroxFwWuh4a4JLtY97dB0Ivn2hb",
     "timestamp": 1570134960085
    },
    {
     "file_id": "https://github.com/IRkernel/IRkernel/blob/master/example-notebooks/Demo.ipynb",
     "timestamp": 1570124255901
    }
   ]
  },
  "kernelspec": {
   "display_name": "R",
   "language": "R",
   "name": "ir"
  },
  "language_info": {
   "codemirror_mode": "r",
   "file_extension": ".r",
   "mimetype": "text/x-r-source",
   "name": "R",
   "pygments_lexer": "r",
   "version": "3.6.1"
  }
 },
 "nbformat": 4,
 "nbformat_minor": 4
}
