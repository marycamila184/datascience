{
 "cells": [
  {
   "cell_type": "markdown",
   "metadata": {
    "colab_type": "text",
    "id": "XP3H2uV50WLC"
   },
   "source": [
    "# Manipulação de Dataframes"
   ]
  },
  {
   "cell_type": "code",
   "execution_count": 1,
   "metadata": {
    "colab": {
     "base_uri": "https://localhost:8080/",
     "height": 204
    },
    "colab_type": "code",
    "executionInfo": {
     "elapsed": 903,
     "status": "ok",
     "timestamp": 1570713542202,
     "user": {
      "displayName": "Leonardo Zanin",
      "photoUrl": "https://lh3.googleusercontent.com/a-/AAuE7mBxtYq-qE3lFRkh0J8HQ-NJwRntY2o1Q-s34duhPhA=s64",
      "userId": "07901550678336566471"
     },
     "user_tz": 180
    },
    "id": "s5Xo4si4YAOF",
    "outputId": "45a4f46c-116f-4849-9d74-bdd28396f260"
   },
   "outputs": [
    {
     "data": {
      "text/html": [
       "<table>\n",
       "<thead><tr><th scope=col>codigo</th><th scope=col>endereco</th><th scope=col>quartos</th><th scope=col>suite</th><th scope=col>area</th><th scope=col>vaga</th><th scope=col>aluguel</th><th scope=col>condominio</th><th scope=col>data</th></tr></thead>\n",
       "<tbody>\n",
       "\t<tr><td>   34                       </td><td>Rua Desembargador Westphalen</td><td>2                           </td><td>0                           </td><td>90                          </td><td>0                           </td><td> 900                        </td><td>371                         </td><td>11/10/17                    </td></tr>\n",
       "\t<tr><td>  167                       </td><td>Rua Jose Loureiro           </td><td>2                           </td><td>0                           </td><td>64                          </td><td>0                           </td><td> 650                        </td><td>428                         </td><td>15/07/17                    </td></tr>\n",
       "\t<tr><td> 6784                       </td><td>Rua Jose Loureiro           </td><td>2                           </td><td>0                           </td><td>81                          </td><td>0                           </td><td>1100                        </td><td>400                         </td><td>23/08/17                    </td></tr>\n",
       "\t<tr><td>   82                       </td><td>Rua Lourenço Pinto          </td><td>2                           </td><td>0                           </td><td>50                          </td><td>0                           </td><td>1350                        </td><td>300                         </td><td>19/09/17                    </td></tr>\n",
       "\t<tr><td> 2970                       </td><td>Rua Lourenço Pinto          </td><td>2                           </td><td>0                           </td><td>63                          </td><td>0                           </td><td>1300                        </td><td>300                         </td><td>05/08/17                    </td></tr>\n",
       "\t<tr><td>34197                       </td><td>Alameda Doutor Muricy       </td><td>2                           </td><td>0                           </td><td>80                          </td><td>1                           </td><td> 900                        </td><td>410                         </td><td>23/10/17                    </td></tr>\n",
       "</tbody>\n",
       "</table>\n"
      ],
      "text/latex": [
       "\\begin{tabular}{r|lllllllll}\n",
       " codigo & endereco & quartos & suite & area & vaga & aluguel & condominio & data\\\\\n",
       "\\hline\n",
       "\t    34                        & Rua Desembargador Westphalen & 2                            & 0                            & 90                           & 0                            &  900                         & 371                          & 11/10/17                    \\\\\n",
       "\t   167                        & Rua Jose Loureiro            & 2                            & 0                            & 64                           & 0                            &  650                         & 428                          & 15/07/17                    \\\\\n",
       "\t  6784                        & Rua Jose Loureiro            & 2                            & 0                            & 81                           & 0                            & 1100                         & 400                          & 23/08/17                    \\\\\n",
       "\t    82                        & Rua Lourenço Pinto           & 2                            & 0                            & 50                           & 0                            & 1350                         & 300                          & 19/09/17                    \\\\\n",
       "\t  2970                        & Rua Lourenço Pinto           & 2                            & 0                            & 63                           & 0                            & 1300                         & 300                          & 05/08/17                    \\\\\n",
       "\t 34197                        & Alameda Doutor Muricy        & 2                            & 0                            & 80                           & 1                            &  900                         & 410                          & 23/10/17                    \\\\\n",
       "\\end{tabular}\n"
      ],
      "text/markdown": [
       "\n",
       "| codigo | endereco | quartos | suite | area | vaga | aluguel | condominio | data |\n",
       "|---|---|---|---|---|---|---|---|---|\n",
       "|    34                        | Rua Desembargador Westphalen | 2                            | 0                            | 90                           | 0                            |  900                         | 371                          | 11/10/17                     |\n",
       "|   167                        | Rua Jose Loureiro            | 2                            | 0                            | 64                           | 0                            |  650                         | 428                          | 15/07/17                     |\n",
       "|  6784                        | Rua Jose Loureiro            | 2                            | 0                            | 81                           | 0                            | 1100                         | 400                          | 23/08/17                     |\n",
       "|    82                        | Rua Lourenço Pinto           | 2                            | 0                            | 50                           | 0                            | 1350                         | 300                          | 19/09/17                     |\n",
       "|  2970                        | Rua Lourenço Pinto           | 2                            | 0                            | 63                           | 0                            | 1300                         | 300                          | 05/08/17                     |\n",
       "| 34197                        | Alameda Doutor Muricy        | 2                            | 0                            | 80                           | 1                            |  900                         | 410                          | 23/10/17                     |\n",
       "\n"
      ],
      "text/plain": [
       "  codigo endereco                     quartos suite area vaga aluguel\n",
       "1    34  Rua Desembargador Westphalen 2       0     90   0     900   \n",
       "2   167  Rua Jose Loureiro            2       0     64   0     650   \n",
       "3  6784  Rua Jose Loureiro            2       0     81   0    1100   \n",
       "4    82  Rua Lourenço Pinto           2       0     50   0    1350   \n",
       "5  2970  Rua Lourenço Pinto           2       0     63   0    1300   \n",
       "6 34197  Alameda Doutor Muricy        2       0     80   1     900   \n",
       "  condominio data    \n",
       "1 371        11/10/17\n",
       "2 428        15/07/17\n",
       "3 400        23/08/17\n",
       "4 300        19/09/17\n",
       "5 300        05/08/17\n",
       "6 410        23/10/17"
      ]
     },
     "metadata": {},
     "output_type": "display_data"
    }
   ],
   "source": [
    "dtf <- read.table(\"https://gitlab.com/luizcelso/datascience/raw/master/data/aluguel.csv\",header=T,sep=\",\",dec=\".\")\n",
    "head(dtf)"
   ]
  },
  {
   "cell_type": "markdown",
   "metadata": {
    "colab_type": "text",
    "id": "7vNCByUkylf4"
   },
   "source": [
    "Para sabermos o número de linhas de um dataframe:"
   ]
  },
  {
   "cell_type": "code",
   "execution_count": 0,
   "metadata": {
    "colab": {},
    "colab_type": "code",
    "id": "i_cQk2f66Wjy"
   },
   "outputs": [],
   "source": [
    "nrow(dtf)"
   ]
  },
  {
   "cell_type": "markdown",
   "metadata": {
    "colab_type": "text",
    "id": "BXr1DOFo3E5n"
   },
   "source": [
    "# Manipulando DataFrames em R\n",
    "\n",
    "Existem várias formas manipular dataframes e selecionar colunas ou linhas no R."
   ]
  },
  {
   "cell_type": "markdown",
   "metadata": {
    "colab_type": "text",
    "id": "TtfcX8DZ3b3S"
   },
   "source": [
    "Para selecionar a coluna aluguel por exemplo, você pode utilizar o símbolo **$**:\n",
    "\n",
    "\n",
    "```\n",
    "dtf$aluguel\n",
    "```\n",
    "\n",
    "Também é possível utilizar o **colchetes**:\n",
    "\n",
    "\n",
    "```\n",
    "dtf[,\"aluguel\"]\n",
    "```\n",
    "\n",
    "\n",
    "Ou utilizar **duplo colchetes** como lista:\n",
    "\n",
    "\n",
    "```\n",
    "dtf[[\"aluguel\"]]\n",
    "```\n",
    "\n",
    "Nestes casos acima, é retornado um vetor como resultado da operação"
   ]
  },
  {
   "cell_type": "code",
   "execution_count": 0,
   "metadata": {
    "colab": {},
    "colab_type": "code",
    "id": "qB_MKTXu4BkY"
   },
   "outputs": [],
   "source": [
    "dtf$aluguel"
   ]
  },
  {
   "cell_type": "code",
   "execution_count": 0,
   "metadata": {
    "colab": {},
    "colab_type": "code",
    "id": "KcBRBLov4FC9"
   },
   "outputs": [],
   "source": [
    "dtf[,\"aluguel\"]"
   ]
  },
  {
   "cell_type": "code",
   "execution_count": 0,
   "metadata": {
    "colab": {},
    "colab_type": "code",
    "id": "7d4ug84e4GpT"
   },
   "outputs": [],
   "source": [
    "dtf[[\"aluguel\"]]"
   ]
  },
  {
   "cell_type": "markdown",
   "metadata": {
    "colab_type": "text",
    "id": "zecGYeRT4D7U"
   },
   "source": [
    "O formato abaixo, retorna um dataframe como resultado:"
   ]
  },
  {
   "cell_type": "code",
   "execution_count": 0,
   "metadata": {
    "colab": {},
    "colab_type": "code",
    "id": "0LD6ix1I4hz4"
   },
   "outputs": [],
   "source": [
    "dtf[\"aluguel\"]"
   ]
  },
  {
   "cell_type": "markdown",
   "metadata": {
    "colab_type": "text",
    "id": "QF4GLjBb4ws4"
   },
   "source": [
    "**Selecionando múltiplas colunas**\n",
    "Existem diversas maneiras de selecionar múltiplas colunas de um dataframe em R.\n",
    "É necessário atribuir um vetor contendo as colunas desejadas como parâmetro. \n",
    "Veja o exemplo abaixo:"
   ]
  },
  {
   "cell_type": "code",
   "execution_count": 0,
   "metadata": {
    "colab": {},
    "colab_type": "code",
    "id": "Vqq0Pc455KwG"
   },
   "outputs": [],
   "source": [
    "colunas = c(\"aluguel\",\"condominio\")\n",
    "colunas"
   ]
  },
  {
   "cell_type": "code",
   "execution_count": 0,
   "metadata": {
    "colab": {},
    "colab_type": "code",
    "id": "uOleMym95T9G"
   },
   "outputs": [],
   "source": [
    "dtf[,colunas]"
   ]
  },
  {
   "cell_type": "code",
   "execution_count": 0,
   "metadata": {
    "colab": {},
    "colab_type": "code",
    "id": "InTTE4555cIg"
   },
   "outputs": [],
   "source": [
    "dtf[colunas]"
   ]
  },
  {
   "cell_type": "markdown",
   "metadata": {
    "colab_type": "text",
    "id": "5nqlc2lV5mdD"
   },
   "source": [
    "Também existe uma função chamada **subset** que também retornará um dataframe:"
   ]
  },
  {
   "cell_type": "code",
   "execution_count": 0,
   "metadata": {
    "colab": {},
    "colab_type": "code",
    "id": "aw61oInL5xUQ"
   },
   "outputs": [],
   "source": [
    "subset(dtf, select = c(\"aluguel\",\"condominio\"))"
   ]
  },
  {
   "cell_type": "markdown",
   "metadata": {
    "colab_type": "text",
    "id": "EoZTrdpP180U"
   },
   "source": [
    "# Usando o pacote dplyr para manipular DataFrames em R\n",
    "A primeira coisa que precisamos fazer é carregar o pacote tidyverse, que inclui o dplyr\n",
    "\n",
    "\n",
    "\n",
    "```\n",
    "library(tidyverse)\n",
    "```"
   ]
  },
  {
   "cell_type": "code",
   "execution_count": 0,
   "metadata": {
    "colab": {},
    "colab_type": "code",
    "id": "ATrDnzhC0WLF"
   },
   "outputs": [],
   "source": [
    "library(tidyverse)"
   ]
  },
  {
   "cell_type": "code",
   "execution_count": 0,
   "metadata": {
    "colab": {},
    "colab_type": "code",
    "id": "x49yAPpXz_5f"
   },
   "outputs": [],
   "source": [
    "dpdtf <- as_tibble(dtf) #transformando um dataframe, convertendo-o em um tibble dataframe (tbl_df)\n",
    "dpdtf"
   ]
  },
  {
   "cell_type": "markdown",
   "metadata": {
    "colab_type": "text",
    "id": "RIj-YbJ40fQr"
   },
   "source": [
    "Capturando apenas a coluna **aluguel** como um vetor:"
   ]
  },
  {
   "cell_type": "code",
   "execution_count": 0,
   "metadata": {
    "colab": {},
    "colab_type": "code",
    "id": "_CWBVT5a0fyR"
   },
   "outputs": [],
   "source": [
    "dpdtf %>% pull(aluguel)"
   ]
  },
  {
   "cell_type": "markdown",
   "metadata": {
    "colab_type": "text",
    "id": "RIRvF0Xe09ju"
   },
   "source": [
    "**Extraindo colunas como uma tabela**\n",
    "\n",
    "Selecionado as colunas de 1 a 3, isto é, código, endereco e quartos"
   ]
  },
  {
   "cell_type": "code",
   "execution_count": 44,
   "metadata": {
    "colab": {
     "base_uri": "https://localhost:8080/",
     "height": 498
    },
    "colab_type": "code",
    "executionInfo": {
     "elapsed": 826,
     "status": "ok",
     "timestamp": 1570715082218,
     "user": {
      "displayName": "Leonardo Zanin",
      "photoUrl": "https://lh3.googleusercontent.com/a-/AAuE7mBxtYq-qE3lFRkh0J8HQ-NJwRntY2o1Q-s34duhPhA=s64",
      "userId": "07901550678336566471"
     },
     "user_tz": 180
    },
    "id": "Ta2tIHgQ1DxF",
    "outputId": "69d3c0f3-6c02-4eee-8c74-c1cb81747520"
   },
   "outputs": [
    {
     "data": {
      "text/html": [
       "<table>\n",
       "<caption>A tibble: 20 × 3</caption>\n",
       "<thead>\n",
       "\t<tr><th scope=col>codigo</th><th scope=col>endereco</th><th scope=col>quartos</th></tr>\n",
       "\t<tr><th scope=col>&lt;int&gt;</th><th scope=col>&lt;fct&gt;</th><th scope=col>&lt;int&gt;</th></tr>\n",
       "</thead>\n",
       "<tbody>\n",
       "\t<tr><td>    34</td><td>Rua Desembargador Westphalen  </td><td>2</td></tr>\n",
       "\t<tr><td>   167</td><td>Rua Jose Loureiro             </td><td>2</td></tr>\n",
       "\t<tr><td>  6784</td><td>Rua Jose Loureiro             </td><td>2</td></tr>\n",
       "\t<tr><td>    82</td><td>Rua Lourenço Pinto            </td><td>2</td></tr>\n",
       "\t<tr><td>  2970</td><td>Rua Lourenço Pinto            </td><td>2</td></tr>\n",
       "\t<tr><td> 34197</td><td>Alameda Doutor Muricy         </td><td>2</td></tr>\n",
       "\t<tr><td>  5072</td><td>Alameda Doutor Muricy         </td><td>2</td></tr>\n",
       "\t<tr><td>   469</td><td>Rua Desembargador Westphalen  </td><td>1</td></tr>\n",
       "\t<tr><td>    24</td><td>Rua Desembargador Westphalen  </td><td>1</td></tr>\n",
       "\t<tr><td>    74</td><td>Avenida Visconde de Guarapuava</td><td>2</td></tr>\n",
       "\t<tr><td>  9850</td><td>Avenida Visconde de Guarapuava</td><td>1</td></tr>\n",
       "\t<tr><td> 82343</td><td>Avenida Sete de Setembro      </td><td>1</td></tr>\n",
       "\t<tr><td> 20802</td><td>Avenida Sete de Setembro      </td><td>1</td></tr>\n",
       "\t<tr><td>   568</td><td>Rua Alferes Poli              </td><td>1</td></tr>\n",
       "\t<tr><td>294579</td><td>Avenida Silva Jardim          </td><td>1</td></tr>\n",
       "\t<tr><td> 59375</td><td>Avenida Silva Jardim          </td><td>1</td></tr>\n",
       "\t<tr><td>    80</td><td>Rua Desembargador Westphalen  </td><td>1</td></tr>\n",
       "\t<tr><td> 66490</td><td>Rua Desembargador Westphalen  </td><td>1</td></tr>\n",
       "\t<tr><td>  2381</td><td>Rua Rockefeller               </td><td>2</td></tr>\n",
       "\t<tr><td> 44803</td><td>Rua Rockefeller               </td><td>2</td></tr>\n",
       "</tbody>\n",
       "</table>\n"
      ],
      "text/latex": [
       "A tibble: 20 × 3\n",
       "\\begin{tabular}{r|lll}\n",
       " codigo & endereco & quartos\\\\\n",
       " <int> & <fct> & <int>\\\\\n",
       "\\hline\n",
       "\t     34 & Rua Desembargador Westphalen   & 2\\\\\n",
       "\t    167 & Rua Jose Loureiro              & 2\\\\\n",
       "\t   6784 & Rua Jose Loureiro              & 2\\\\\n",
       "\t     82 & Rua Lourenço Pinto             & 2\\\\\n",
       "\t   2970 & Rua Lourenço Pinto             & 2\\\\\n",
       "\t  34197 & Alameda Doutor Muricy          & 2\\\\\n",
       "\t   5072 & Alameda Doutor Muricy          & 2\\\\\n",
       "\t    469 & Rua Desembargador Westphalen   & 1\\\\\n",
       "\t     24 & Rua Desembargador Westphalen   & 1\\\\\n",
       "\t     74 & Avenida Visconde de Guarapuava & 2\\\\\n",
       "\t   9850 & Avenida Visconde de Guarapuava & 1\\\\\n",
       "\t  82343 & Avenida Sete de Setembro       & 1\\\\\n",
       "\t  20802 & Avenida Sete de Setembro       & 1\\\\\n",
       "\t    568 & Rua Alferes Poli               & 1\\\\\n",
       "\t 294579 & Avenida Silva Jardim           & 1\\\\\n",
       "\t  59375 & Avenida Silva Jardim           & 1\\\\\n",
       "\t     80 & Rua Desembargador Westphalen   & 1\\\\\n",
       "\t  66490 & Rua Desembargador Westphalen   & 1\\\\\n",
       "\t   2381 & Rua Rockefeller                & 2\\\\\n",
       "\t  44803 & Rua Rockefeller                & 2\\\\\n",
       "\\end{tabular}\n"
      ],
      "text/markdown": [
       "\n",
       "A tibble: 20 × 3\n",
       "\n",
       "| codigo &lt;int&gt; | endereco &lt;fct&gt; | quartos &lt;int&gt; |\n",
       "|---|---|---|\n",
       "|     34 | Rua Desembargador Westphalen   | 2 |\n",
       "|    167 | Rua Jose Loureiro              | 2 |\n",
       "|   6784 | Rua Jose Loureiro              | 2 |\n",
       "|     82 | Rua Lourenço Pinto             | 2 |\n",
       "|   2970 | Rua Lourenço Pinto             | 2 |\n",
       "|  34197 | Alameda Doutor Muricy          | 2 |\n",
       "|   5072 | Alameda Doutor Muricy          | 2 |\n",
       "|    469 | Rua Desembargador Westphalen   | 1 |\n",
       "|     24 | Rua Desembargador Westphalen   | 1 |\n",
       "|     74 | Avenida Visconde de Guarapuava | 2 |\n",
       "|   9850 | Avenida Visconde de Guarapuava | 1 |\n",
       "|  82343 | Avenida Sete de Setembro       | 1 |\n",
       "|  20802 | Avenida Sete de Setembro       | 1 |\n",
       "|    568 | Rua Alferes Poli               | 1 |\n",
       "| 294579 | Avenida Silva Jardim           | 1 |\n",
       "|  59375 | Avenida Silva Jardim           | 1 |\n",
       "|     80 | Rua Desembargador Westphalen   | 1 |\n",
       "|  66490 | Rua Desembargador Westphalen   | 1 |\n",
       "|   2381 | Rua Rockefeller                | 2 |\n",
       "|  44803 | Rua Rockefeller                | 2 |\n",
       "\n"
      ],
      "text/plain": [
       "   codigo endereco                       quartos\n",
       "1      34 Rua Desembargador Westphalen   2      \n",
       "2     167 Rua Jose Loureiro              2      \n",
       "3    6784 Rua Jose Loureiro              2      \n",
       "4      82 Rua Lourenço Pinto             2      \n",
       "5    2970 Rua Lourenço Pinto             2      \n",
       "6   34197 Alameda Doutor Muricy          2      \n",
       "7    5072 Alameda Doutor Muricy          2      \n",
       "8     469 Rua Desembargador Westphalen   1      \n",
       "9      24 Rua Desembargador Westphalen   1      \n",
       "10     74 Avenida Visconde de Guarapuava 2      \n",
       "11   9850 Avenida Visconde de Guarapuava 1      \n",
       "12  82343 Avenida Sete de Setembro       1      \n",
       "13  20802 Avenida Sete de Setembro       1      \n",
       "14    568 Rua Alferes Poli               1      \n",
       "15 294579 Avenida Silva Jardim           1      \n",
       "16  59375 Avenida Silva Jardim           1      \n",
       "17     80 Rua Desembargador Westphalen   1      \n",
       "18  66490 Rua Desembargador Westphalen   1      \n",
       "19   2381 Rua Rockefeller                2      \n",
       "20  44803 Rua Rockefeller                2      "
      ]
     },
     "metadata": {
      "tags": []
     },
     "output_type": "display_data"
    }
   ],
   "source": [
    "dpdtf %>% select(1:3)\n"
   ]
  },
  {
   "cell_type": "markdown",
   "metadata": {
    "colab_type": "text",
    "id": "szvCv-lP1fXM"
   },
   "source": [
    "Selecionado as colunas de 1 e 3, sem incluir a 2:"
   ]
  },
  {
   "cell_type": "code",
   "execution_count": 0,
   "metadata": {
    "colab": {},
    "colab_type": "code",
    "id": "EAIAUHO41fzi"
   },
   "outputs": [],
   "source": [
    "dpdtf %>% select(1,3)"
   ]
  },
  {
   "cell_type": "markdown",
   "metadata": {
    "colab_type": "text",
    "id": "HQdwIL4t1vh9"
   },
   "source": [
    "Selecionando as colunas pelo nome"
   ]
  },
  {
   "cell_type": "code",
   "execution_count": 0,
   "metadata": {
    "colab": {},
    "colab_type": "code",
    "id": "UR9vHiiB1wEZ"
   },
   "outputs": [],
   "source": [
    "dpdtf %>% select(aluguel,condominio)"
   ]
  },
  {
   "cell_type": "markdown",
   "metadata": {
    "colab_type": "text",
    "id": "2O3e0sqp14tQ"
   },
   "source": [
    "Selecionando uma faixa de colunas:"
   ]
  },
  {
   "cell_type": "code",
   "execution_count": 0,
   "metadata": {
    "colab": {},
    "colab_type": "code",
    "id": "_v_5mggw15fX"
   },
   "outputs": [],
   "source": [
    "dpdtf %>% select(aluguel:data)"
   ]
  },
  {
   "cell_type": "markdown",
   "metadata": {
    "colab_type": "text",
    "id": "k9bHrKiV7IiJ"
   },
   "source": [
    "# Continuação\n",
    "\n",
    "Agora vamos selecionar um subconjunto contendo o **aluguel** e o **condomínio**, usando o comando subset:"
   ]
  },
  {
   "cell_type": "code",
   "execution_count": 0,
   "metadata": {
    "colab": {},
    "colab_type": "code",
    "id": "nOCDfEOn7UD-"
   },
   "outputs": [],
   "source": [
    "subdtf = subset(dtf, select = c(\"aluguel\",\"condominio\"))\n",
    "\n",
    "subdtf"
   ]
  },
  {
   "cell_type": "markdown",
   "metadata": {
    "colab_type": "text",
    "id": "QJc2GPBO7oou"
   },
   "source": [
    "Vamos selecionar subconjuntos baseados em uma lógica, isto é, linhas que contenham área maior que 50m2:"
   ]
  },
  {
   "cell_type": "code",
   "execution_count": 0,
   "metadata": {
    "colab": {},
    "colab_type": "code",
    "id": "u7BUs8be7tSc"
   },
   "outputs": [],
   "source": [
    "#df[df.area > 50]\n",
    "dtf[dtf$area > 50, ]"
   ]
  },
  {
   "cell_type": "markdown",
   "metadata": {
    "colab_type": "text",
    "id": "axT2QxQH82tO"
   },
   "source": [
    "Para criarmos uma nova coluna em um Dataframe, podemos utilizar a seguinte sintaxe:"
   ]
  },
  {
   "cell_type": "code",
   "execution_count": 0,
   "metadata": {
    "colab": {},
    "colab_type": "code",
    "id": "q3sUOLRV85dT"
   },
   "outputs": [],
   "source": [
    "dtf['total'] = dtf['aluguel'] + dtf['condominio']\n",
    "head(dtf)\n",
    "dtf['total'] = NULL #removendo a coluna total"
   ]
  },
  {
   "cell_type": "code",
   "execution_count": 0,
   "metadata": {
    "colab": {},
    "colab_type": "code",
    "id": "tAjPzoKU9qTc"
   },
   "outputs": [],
   "source": [
    "head(dtf)"
   ]
  },
  {
   "cell_type": "markdown",
   "metadata": {
    "colab_type": "text",
    "id": "PggPi8Xx91GF"
   },
   "source": [
    "Também podemos fazer a mesma operação utilizando o indexador **$**:"
   ]
  },
  {
   "cell_type": "code",
   "execution_count": 0,
   "metadata": {
    "colab": {},
    "colab_type": "code",
    "id": "B0a_T99K966m"
   },
   "outputs": [],
   "source": [
    "dtf$total = dtf$aluguel + dtf$condominio\n",
    "head(dtf)"
   ]
  },
  {
   "cell_type": "markdown",
   "metadata": {
    "colab_type": "text",
    "id": "rtzHCi34-TqR"
   },
   "source": [
    "Podemos fazer uma análise do dataframe:"
   ]
  },
  {
   "cell_type": "code",
   "execution_count": 79,
   "metadata": {
    "colab": {
     "base_uri": "https://localhost:8080/",
     "height": 425
    },
    "colab_type": "code",
    "executionInfo": {
     "elapsed": 668,
     "status": "ok",
     "timestamp": 1570716708702,
     "user": {
      "displayName": "Leonardo Zanin",
      "photoUrl": "https://lh3.googleusercontent.com/a-/AAuE7mBxtYq-qE3lFRkh0J8HQ-NJwRntY2o1Q-s34duhPhA=s64",
      "userId": "07901550678336566471"
     },
     "user_tz": 180
    },
    "id": "ti3lSqDr-9H_",
    "outputId": "ce6bb2e9-7e03-4dde-be1c-a4f260a97a4f"
   },
   "outputs": [
    {
     "data": {
      "text/plain": [
       "     codigo                                   endereco    quartos   \n",
       " Min.   :    24.0   Rua Desembargador Westphalen  :5   Min.   :1.0  \n",
       " 1st Qu.:   145.8   Alameda Doutor Muricy         :2   1st Qu.:1.0  \n",
       " Median :  4021.0   Avenida Sete de Setembro      :2   Median :1.5  \n",
       " Mean   : 31557.2   Avenida Silva Jardim          :2   Mean   :1.5  \n",
       " 3rd Qu.: 36848.5   Avenida Visconde de Guarapuava:2   3rd Qu.:2.0  \n",
       " Max.   :294579.0   Rua Jose Loureiro             :2   Max.   :2.0  \n",
       "                    (Other)                       :5                \n",
       "     suite           area             vaga         aluguel       condominio   \n",
       " Min.   :0.00   Min.   : 30.00   Min.   :0.00   Min.   : 550   Min.   :120.0  \n",
       " 1st Qu.:0.00   1st Qu.: 46.50   1st Qu.:0.00   1st Qu.: 600   1st Qu.:300.0  \n",
       " Median :0.00   Median : 63.50   Median :0.00   Median : 900   Median :350.0  \n",
       " Mean   :0.05   Mean   : 64.65   Mean   :0.35   Mean   : 898   Mean   :335.9  \n",
       " 3rd Qu.:0.00   3rd Qu.: 80.00   3rd Qu.:1.00   3rd Qu.:1100   3rd Qu.:401.2  \n",
       " Max.   :1.00   Max.   :132.00   Max.   :1.00   Max.   :1800   Max.   :520.0  \n",
       "                                                                              \n",
       "       data        total        diferenca      \n",
       " 11/10/17: 2   Min.   : 760   Min.   :-1420.0  \n",
       " 12/08/17: 2   1st Qu.: 929   1st Qu.: -558.0  \n",
       " 15/07/17: 2   Median :1160   Median : -260.0  \n",
       " 19/09/17: 2   Mean   :1234   Mean   : -333.9  \n",
       " 01/10/17: 1   3rd Qu.:1458   3rd Qu.:  -29.0  \n",
       " 02/09/17: 1   Max.   :2320   Max.   :  140.0  \n",
       " (Other) :10                                   "
      ]
     },
     "metadata": {
      "tags": []
     },
     "output_type": "display_data"
    }
   ],
   "source": [
    "summary(dtf)"
   ]
  },
  {
   "cell_type": "markdown",
   "metadata": {
    "colab_type": "text",
    "id": "VZ6IFJxf_TsV"
   },
   "source": [
    "Calculando alguns valores estatísticos em dataframes:"
   ]
  },
  {
   "cell_type": "code",
   "execution_count": 0,
   "metadata": {
    "colab": {},
    "colab_type": "code",
    "id": "fBrP9MuX_YT8"
   },
   "outputs": [],
   "source": [
    "vet = c(mean(dtf$aluguel), sd(dtf$aluguel), var(dtf$aluguel))\n",
    "vet"
   ]
  },
  {
   "cell_type": "markdown",
   "metadata": {
    "colab_type": "text",
    "id": "Eub53QvVBUxj"
   },
   "source": [
    "Para ordenar por uma coluna, podemos usar o comando **order**:"
   ]
  },
  {
   "cell_type": "code",
   "execution_count": 0,
   "metadata": {
    "colab": {},
    "colab_type": "code",
    "id": "iGT-fIDrBaCB"
   },
   "outputs": [],
   "source": [
    "dtf[order(dtf$total),]"
   ]
  },
  {
   "cell_type": "markdown",
   "metadata": {
    "colab_type": "text",
    "id": "8kfixONrB00G"
   },
   "source": [
    "Ou podemos incluir o parâmetro decreasing = TRUE, para ordenar de forma decrescente:"
   ]
  },
  {
   "cell_type": "code",
   "execution_count": 87,
   "metadata": {
    "colab": {
     "base_uri": "https://localhost:8080/",
     "height": 498
    },
    "colab_type": "code",
    "executionInfo": {
     "elapsed": 662,
     "status": "ok",
     "timestamp": 1570717047316,
     "user": {
      "displayName": "Leonardo Zanin",
      "photoUrl": "https://lh3.googleusercontent.com/a-/AAuE7mBxtYq-qE3lFRkh0J8HQ-NJwRntY2o1Q-s34duhPhA=s64",
      "userId": "07901550678336566471"
     },
     "user_tz": 180
    },
    "id": "Ch4cBKMxB_bh",
    "outputId": "133cc595-5cfc-4cb3-9b85-8f10af3ce62d"
   },
   "outputs": [
    {
     "data": {
      "text/html": [
       "<table>\n",
       "<caption>A data.frame: 20 × 11</caption>\n",
       "<thead>\n",
       "\t<tr><th></th><th scope=col>codigo</th><th scope=col>endereco</th><th scope=col>quartos</th><th scope=col>suite</th><th scope=col>area</th><th scope=col>vaga</th><th scope=col>aluguel</th><th scope=col>condominio</th><th scope=col>data</th><th scope=col>total</th><th scope=col>diferenca</th></tr>\n",
       "\t<tr><th></th><th scope=col>&lt;int&gt;</th><th scope=col>&lt;fct&gt;</th><th scope=col>&lt;int&gt;</th><th scope=col>&lt;int&gt;</th><th scope=col>&lt;int&gt;</th><th scope=col>&lt;int&gt;</th><th scope=col>&lt;int&gt;</th><th scope=col>&lt;int&gt;</th><th scope=col>&lt;fct&gt;</th><th scope=col>&lt;int&gt;</th><th scope=col>&lt;dbl&gt;</th></tr>\n",
       "</thead>\n",
       "<tbody>\n",
       "\t<tr><th scope=row>10</th><td>    74</td><td>Avenida Visconde de Guarapuava</td><td>2</td><td>1</td><td>132</td><td>1</td><td>1800</td><td>520</td><td>12/10/17</td><td>2320</td><td>-1420</td></tr>\n",
       "\t<tr><th scope=row>4</th><td>    82</td><td>Rua Lourenço Pinto            </td><td>2</td><td>0</td><td> 50</td><td>0</td><td>1350</td><td>300</td><td>19/09/17</td><td>1650</td><td> -750</td></tr>\n",
       "\t<tr><th scope=row>5</th><td>  2970</td><td>Rua Lourenço Pinto            </td><td>2</td><td>0</td><td> 63</td><td>0</td><td>1300</td><td>300</td><td>05/08/17</td><td>1600</td><td> -700</td></tr>\n",
       "\t<tr><th scope=row>3</th><td>  6784</td><td>Rua Jose Loureiro             </td><td>2</td><td>0</td><td> 81</td><td>0</td><td>1100</td><td>400</td><td>23/08/17</td><td>1500</td><td> -600</td></tr>\n",
       "\t<tr><th scope=row>7</th><td>  5072</td><td>Alameda Doutor Muricy         </td><td>2</td><td>0</td><td> 84</td><td>0</td><td>1100</td><td>382</td><td>02/09/17</td><td>1482</td><td> -582</td></tr>\n",
       "\t<tr><th scope=row>18</th><td> 66490</td><td>Rua Desembargador Westphalen  </td><td>1</td><td>0</td><td> 80</td><td>1</td><td>1100</td><td>350</td><td>29/08/17</td><td>1450</td><td> -550</td></tr>\n",
       "\t<tr><th scope=row>6</th><td> 34197</td><td>Alameda Doutor Muricy         </td><td>2</td><td>0</td><td> 80</td><td>1</td><td> 900</td><td>410</td><td>23/10/17</td><td>1310</td><td> -410</td></tr>\n",
       "\t<tr><th scope=row>1</th><td>    34</td><td>Rua Desembargador Westphalen  </td><td>2</td><td>0</td><td> 90</td><td>0</td><td> 900</td><td>371</td><td>11/10/17</td><td>1271</td><td> -371</td></tr>\n",
       "\t<tr><th scope=row>17</th><td>    80</td><td>Rua Desembargador Westphalen  </td><td>1</td><td>0</td><td> 80</td><td>1</td><td> 900</td><td>350</td><td>12/08/17</td><td>1250</td><td> -350</td></tr>\n",
       "\t<tr><th scope=row>12</th><td> 82343</td><td>Avenida Sete de Setembro      </td><td>1</td><td>0</td><td> 45</td><td>0</td><td> 750</td><td>420</td><td>11/10/17</td><td>1170</td><td> -270</td></tr>\n",
       "\t<tr><th scope=row>20</th><td> 44803</td><td>Rua Rockefeller               </td><td>2</td><td>0</td><td> 77</td><td>1</td><td> 950</td><td>200</td><td>19/07/17</td><td>1150</td><td> -250</td></tr>\n",
       "\t<tr><th scope=row>19</th><td>  2381</td><td>Rua Rockefeller               </td><td>2</td><td>0</td><td> 54</td><td>0</td><td> 900</td><td>240</td><td>19/09/17</td><td>1140</td><td> -240</td></tr>\n",
       "\t<tr><th scope=row>2</th><td>   167</td><td>Rua Jose Loureiro             </td><td>2</td><td>0</td><td> 64</td><td>0</td><td> 650</td><td>428</td><td>15/07/17</td><td>1078</td><td> -178</td></tr>\n",
       "\t<tr><th scope=row>13</th><td> 20802</td><td>Avenida Sete de Setembro      </td><td>1</td><td>0</td><td> 47</td><td>0</td><td> 600</td><td>405</td><td>27/07/17</td><td>1005</td><td> -105</td></tr>\n",
       "\t<tr><th scope=row>14</th><td>   568</td><td>Rua Alferes Poli              </td><td>1</td><td>0</td><td> 43</td><td>0</td><td> 600</td><td>330</td><td>12/08/17</td><td> 930</td><td>  -30</td></tr>\n",
       "\t<tr><th scope=row>11</th><td>  9850</td><td>Avenida Visconde de Guarapuava</td><td>1</td><td>0</td><td> 64</td><td>1</td><td> 600</td><td>326</td><td>15/07/17</td><td> 926</td><td>  -26</td></tr>\n",
       "\t<tr><th scope=row>9</th><td>    24</td><td>Rua Desembargador Westphalen  </td><td>1</td><td>0</td><td> 60</td><td>1</td><td> 800</td><td>120</td><td>30/09/17</td><td> 920</td><td>  -20</td></tr>\n",
       "\t<tr><th scope=row>15</th><td>294579</td><td>Avenida Silva Jardim          </td><td>1</td><td>0</td><td> 36</td><td>0</td><td> 550</td><td>350</td><td>01/10/17</td><td> 900</td><td>    0</td></tr>\n",
       "\t<tr><th scope=row>16</th><td> 59375</td><td>Avenida Silva Jardim          </td><td>1</td><td>0</td><td> 33</td><td>0</td><td> 560</td><td>305</td><td>11/09/17</td><td> 865</td><td>   35</td></tr>\n",
       "\t<tr><th scope=row>8</th><td>   469</td><td>Rua Desembargador Westphalen  </td><td>1</td><td>0</td><td> 30</td><td>0</td><td> 550</td><td>210</td><td>03/07/17</td><td> 760</td><td>  140</td></tr>\n",
       "</tbody>\n",
       "</table>\n"
      ],
      "text/latex": [
       "A data.frame: 20 × 11\n",
       "\\begin{tabular}{r|lllllllllll}\n",
       "  & codigo & endereco & quartos & suite & area & vaga & aluguel & condominio & data & total & diferenca\\\\\n",
       "  & <int> & <fct> & <int> & <int> & <int> & <int> & <int> & <int> & <fct> & <int> & <dbl>\\\\\n",
       "\\hline\n",
       "\t10 &     74 & Avenida Visconde de Guarapuava & 2 & 1 & 132 & 1 & 1800 & 520 & 12/10/17 & 2320 & -1420\\\\\n",
       "\t4 &     82 & Rua Lourenço Pinto             & 2 & 0 &  50 & 0 & 1350 & 300 & 19/09/17 & 1650 &  -750\\\\\n",
       "\t5 &   2970 & Rua Lourenço Pinto             & 2 & 0 &  63 & 0 & 1300 & 300 & 05/08/17 & 1600 &  -700\\\\\n",
       "\t3 &   6784 & Rua Jose Loureiro              & 2 & 0 &  81 & 0 & 1100 & 400 & 23/08/17 & 1500 &  -600\\\\\n",
       "\t7 &   5072 & Alameda Doutor Muricy          & 2 & 0 &  84 & 0 & 1100 & 382 & 02/09/17 & 1482 &  -582\\\\\n",
       "\t18 &  66490 & Rua Desembargador Westphalen   & 1 & 0 &  80 & 1 & 1100 & 350 & 29/08/17 & 1450 &  -550\\\\\n",
       "\t6 &  34197 & Alameda Doutor Muricy          & 2 & 0 &  80 & 1 &  900 & 410 & 23/10/17 & 1310 &  -410\\\\\n",
       "\t1 &     34 & Rua Desembargador Westphalen   & 2 & 0 &  90 & 0 &  900 & 371 & 11/10/17 & 1271 &  -371\\\\\n",
       "\t17 &     80 & Rua Desembargador Westphalen   & 1 & 0 &  80 & 1 &  900 & 350 & 12/08/17 & 1250 &  -350\\\\\n",
       "\t12 &  82343 & Avenida Sete de Setembro       & 1 & 0 &  45 & 0 &  750 & 420 & 11/10/17 & 1170 &  -270\\\\\n",
       "\t20 &  44803 & Rua Rockefeller                & 2 & 0 &  77 & 1 &  950 & 200 & 19/07/17 & 1150 &  -250\\\\\n",
       "\t19 &   2381 & Rua Rockefeller                & 2 & 0 &  54 & 0 &  900 & 240 & 19/09/17 & 1140 &  -240\\\\\n",
       "\t2 &    167 & Rua Jose Loureiro              & 2 & 0 &  64 & 0 &  650 & 428 & 15/07/17 & 1078 &  -178\\\\\n",
       "\t13 &  20802 & Avenida Sete de Setembro       & 1 & 0 &  47 & 0 &  600 & 405 & 27/07/17 & 1005 &  -105\\\\\n",
       "\t14 &    568 & Rua Alferes Poli               & 1 & 0 &  43 & 0 &  600 & 330 & 12/08/17 &  930 &   -30\\\\\n",
       "\t11 &   9850 & Avenida Visconde de Guarapuava & 1 & 0 &  64 & 1 &  600 & 326 & 15/07/17 &  926 &   -26\\\\\n",
       "\t9 &     24 & Rua Desembargador Westphalen   & 1 & 0 &  60 & 1 &  800 & 120 & 30/09/17 &  920 &   -20\\\\\n",
       "\t15 & 294579 & Avenida Silva Jardim           & 1 & 0 &  36 & 0 &  550 & 350 & 01/10/17 &  900 &     0\\\\\n",
       "\t16 &  59375 & Avenida Silva Jardim           & 1 & 0 &  33 & 0 &  560 & 305 & 11/09/17 &  865 &    35\\\\\n",
       "\t8 &    469 & Rua Desembargador Westphalen   & 1 & 0 &  30 & 0 &  550 & 210 & 03/07/17 &  760 &   140\\\\\n",
       "\\end{tabular}\n"
      ],
      "text/markdown": [
       "\n",
       "A data.frame: 20 × 11\n",
       "\n",
       "| <!--/--> | codigo &lt;int&gt; | endereco &lt;fct&gt; | quartos &lt;int&gt; | suite &lt;int&gt; | area &lt;int&gt; | vaga &lt;int&gt; | aluguel &lt;int&gt; | condominio &lt;int&gt; | data &lt;fct&gt; | total &lt;int&gt; | diferenca &lt;dbl&gt; |\n",
       "|---|---|---|---|---|---|---|---|---|---|---|---|\n",
       "| 10 |     74 | Avenida Visconde de Guarapuava | 2 | 1 | 132 | 1 | 1800 | 520 | 12/10/17 | 2320 | -1420 |\n",
       "| 4 |     82 | Rua Lourenço Pinto             | 2 | 0 |  50 | 0 | 1350 | 300 | 19/09/17 | 1650 |  -750 |\n",
       "| 5 |   2970 | Rua Lourenço Pinto             | 2 | 0 |  63 | 0 | 1300 | 300 | 05/08/17 | 1600 |  -700 |\n",
       "| 3 |   6784 | Rua Jose Loureiro              | 2 | 0 |  81 | 0 | 1100 | 400 | 23/08/17 | 1500 |  -600 |\n",
       "| 7 |   5072 | Alameda Doutor Muricy          | 2 | 0 |  84 | 0 | 1100 | 382 | 02/09/17 | 1482 |  -582 |\n",
       "| 18 |  66490 | Rua Desembargador Westphalen   | 1 | 0 |  80 | 1 | 1100 | 350 | 29/08/17 | 1450 |  -550 |\n",
       "| 6 |  34197 | Alameda Doutor Muricy          | 2 | 0 |  80 | 1 |  900 | 410 | 23/10/17 | 1310 |  -410 |\n",
       "| 1 |     34 | Rua Desembargador Westphalen   | 2 | 0 |  90 | 0 |  900 | 371 | 11/10/17 | 1271 |  -371 |\n",
       "| 17 |     80 | Rua Desembargador Westphalen   | 1 | 0 |  80 | 1 |  900 | 350 | 12/08/17 | 1250 |  -350 |\n",
       "| 12 |  82343 | Avenida Sete de Setembro       | 1 | 0 |  45 | 0 |  750 | 420 | 11/10/17 | 1170 |  -270 |\n",
       "| 20 |  44803 | Rua Rockefeller                | 2 | 0 |  77 | 1 |  950 | 200 | 19/07/17 | 1150 |  -250 |\n",
       "| 19 |   2381 | Rua Rockefeller                | 2 | 0 |  54 | 0 |  900 | 240 | 19/09/17 | 1140 |  -240 |\n",
       "| 2 |    167 | Rua Jose Loureiro              | 2 | 0 |  64 | 0 |  650 | 428 | 15/07/17 | 1078 |  -178 |\n",
       "| 13 |  20802 | Avenida Sete de Setembro       | 1 | 0 |  47 | 0 |  600 | 405 | 27/07/17 | 1005 |  -105 |\n",
       "| 14 |    568 | Rua Alferes Poli               | 1 | 0 |  43 | 0 |  600 | 330 | 12/08/17 |  930 |   -30 |\n",
       "| 11 |   9850 | Avenida Visconde de Guarapuava | 1 | 0 |  64 | 1 |  600 | 326 | 15/07/17 |  926 |   -26 |\n",
       "| 9 |     24 | Rua Desembargador Westphalen   | 1 | 0 |  60 | 1 |  800 | 120 | 30/09/17 |  920 |   -20 |\n",
       "| 15 | 294579 | Avenida Silva Jardim           | 1 | 0 |  36 | 0 |  550 | 350 | 01/10/17 |  900 |     0 |\n",
       "| 16 |  59375 | Avenida Silva Jardim           | 1 | 0 |  33 | 0 |  560 | 305 | 11/09/17 |  865 |    35 |\n",
       "| 8 |    469 | Rua Desembargador Westphalen   | 1 | 0 |  30 | 0 |  550 | 210 | 03/07/17 |  760 |   140 |\n",
       "\n"
      ],
      "text/plain": [
       "   codigo endereco                       quartos suite area vaga aluguel\n",
       "10     74 Avenida Visconde de Guarapuava 2       1     132  1    1800   \n",
       "4      82 Rua Lourenço Pinto             2       0      50  0    1350   \n",
       "5    2970 Rua Lourenço Pinto             2       0      63  0    1300   \n",
       "3    6784 Rua Jose Loureiro              2       0      81  0    1100   \n",
       "7    5072 Alameda Doutor Muricy          2       0      84  0    1100   \n",
       "18  66490 Rua Desembargador Westphalen   1       0      80  1    1100   \n",
       "6   34197 Alameda Doutor Muricy          2       0      80  1     900   \n",
       "1      34 Rua Desembargador Westphalen   2       0      90  0     900   \n",
       "17     80 Rua Desembargador Westphalen   1       0      80  1     900   \n",
       "12  82343 Avenida Sete de Setembro       1       0      45  0     750   \n",
       "20  44803 Rua Rockefeller                2       0      77  1     950   \n",
       "19   2381 Rua Rockefeller                2       0      54  0     900   \n",
       "2     167 Rua Jose Loureiro              2       0      64  0     650   \n",
       "13  20802 Avenida Sete de Setembro       1       0      47  0     600   \n",
       "14    568 Rua Alferes Poli               1       0      43  0     600   \n",
       "11   9850 Avenida Visconde de Guarapuava 1       0      64  1     600   \n",
       "9      24 Rua Desembargador Westphalen   1       0      60  1     800   \n",
       "15 294579 Avenida Silva Jardim           1       0      36  0     550   \n",
       "16  59375 Avenida Silva Jardim           1       0      33  0     560   \n",
       "8     469 Rua Desembargador Westphalen   1       0      30  0     550   \n",
       "   condominio data     total diferenca\n",
       "10 520        12/10/17 2320  -1420    \n",
       "4  300        19/09/17 1650   -750    \n",
       "5  300        05/08/17 1600   -700    \n",
       "3  400        23/08/17 1500   -600    \n",
       "7  382        02/09/17 1482   -582    \n",
       "18 350        29/08/17 1450   -550    \n",
       "6  410        23/10/17 1310   -410    \n",
       "1  371        11/10/17 1271   -371    \n",
       "17 350        12/08/17 1250   -350    \n",
       "12 420        11/10/17 1170   -270    \n",
       "20 200        19/07/17 1150   -250    \n",
       "19 240        19/09/17 1140   -240    \n",
       "2  428        15/07/17 1078   -178    \n",
       "13 405        27/07/17 1005   -105    \n",
       "14 330        12/08/17  930    -30    \n",
       "11 326        15/07/17  926    -26    \n",
       "9  120        30/09/17  920    -20    \n",
       "15 350        01/10/17  900      0    \n",
       "16 305        11/09/17  865     35    \n",
       "8  210        03/07/17  760    140    "
      ]
     },
     "metadata": {
      "tags": []
     },
     "output_type": "display_data"
    }
   ],
   "source": [
    "dtf[order(dtf$total, decreasing = TRUE),]"
   ]
  },
  {
   "cell_type": "markdown",
   "metadata": {
    "colab_type": "text",
    "id": "WaQC4jQOCSnO"
   },
   "source": []
  },
  {
   "cell_type": "markdown",
   "metadata": {
    "colab_type": "text",
    "id": "24iWhs54CX_g"
   },
   "source": [
    "# Seleção de valores em um dataframe"
   ]
  },
  {
   "cell_type": "code",
   "execution_count": 0,
   "metadata": {
    "colab": {},
    "colab_type": "code",
    "id": "LEY-6JJxCbU3"
   },
   "outputs": [],
   "source": [
    "Podemos selecionar valores em um dataframe baseado em uma lógica:"
   ]
  }
 ],
 "metadata": {
  "colab": {
   "collapsed_sections": [
    "psJWgeRe8JNF"
   ],
   "name": "aula04.ipynb",
   "provenance": [
    {
     "file_id": "1ImX5PDroxFwWuh4a4JLtY97dB0Ivn2hb",
     "timestamp": 1570134960085
    },
    {
     "file_id": "https://github.com/IRkernel/IRkernel/blob/master/example-notebooks/Demo.ipynb",
     "timestamp": 1570124255901
    }
   ]
  },
  "kernelspec": {
   "display_name": "R",
   "language": "R",
   "name": "ir"
  },
  "language_info": {
   "codemirror_mode": "r",
   "file_extension": ".r",
   "mimetype": "text/x-r-source",
   "name": "R",
   "pygments_lexer": "r",
   "version": "3.6.1"
  }
 },
 "nbformat": 4,
 "nbformat_minor": 1
}
