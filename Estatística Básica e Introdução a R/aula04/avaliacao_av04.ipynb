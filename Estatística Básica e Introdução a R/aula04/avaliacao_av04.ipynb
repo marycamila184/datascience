{
  "nbformat": 4,
  "nbformat_minor": 0,
  "metadata": {
    "kernelspec": {
      "display_name": "R",
      "language": "R",
      "name": "ir"
    },
    "language_info": {
      "codemirror_mode": "r",
      "file_extension": ".r",
      "mimetype": "text/x-r-source",
      "name": "R",
      "pygments_lexer": "r",
      "version": "3.3.1"
    },
    "colab": {
      "name": "avaliacao_av04.ipynb",
      "provenance": [],
      "collapsed_sections": []
    }
  },
  "cells": [
    {
      "cell_type": "markdown",
      "metadata": {
        "id": "XP3H2uV50WLC",
        "colab_type": "text"
      },
      "source": [
        "# Avaliação AV04"
      ]
    },
    {
      "cell_type": "markdown",
      "metadata": {
        "id": "oc-vKxVP6OI9",
        "colab_type": "text"
      },
      "source": [
        "Com base no arquivo que representa um recorte dos alvarás de curitiba (2019-10-01_Alvaras-Base_de_Dados_subset.csv), anexo à atividade e responda as 4 questões.\n",
        "Considere que campos *** são considerados como campos vazios ou indefinidos."
      ]
    },
    {
      "cell_type": "markdown",
      "metadata": {
        "id": "VlG2FSE4OJu2",
        "colab_type": "text"
      },
      "source": [
        "1. (20%) Agrupe os dados por atividade Principal e Atividade Secundária e apresente o subconjunto, fazendo a contagem de ocorrência em cada uma delas.\n",
        "\n",
        "**Extra**: Crie uma nova coluna, contendo a proporção de ocorrência dentro do agrupamento com relação ao todo."
      ]
    },
    {
      "cell_type": "code",
      "metadata": {
        "id": "9euL4b4iOSsg",
        "colab_type": "code",
        "colab": {}
      },
      "source": [
        "#Resposta"
      ],
      "execution_count": 0,
      "outputs": []
    },
    {
      "cell_type": "markdown",
      "metadata": {
        "id": "XdLqgk1daR3x",
        "colab_type": "text"
      },
      "source": [
        "2. (20%) Quais as 3 Atividades Principais com maior frequência?"
      ]
    },
    {
      "cell_type": "code",
      "metadata": {
        "id": "Yd2KkTFIaV2T",
        "colab_type": "code",
        "colab": {}
      },
      "source": [
        "#Resposta"
      ],
      "execution_count": 0,
      "outputs": []
    },
    {
      "cell_type": "markdown",
      "metadata": {
        "colab_type": "text",
        "id": "IKa5RgL9bADr"
      },
      "source": [
        "3. (10%) Apresente o histograma para a distribuição de **anos de vida** das empresas (diferença entre INICIO_ATIVIDADE e DATA_EXPIRACAO). Considere as empresas que vivem até 10 anos:\n",
        "\n"
      ]
    },
    {
      "cell_type": "code",
      "metadata": {
        "id": "yfWr6l8JbIbu",
        "colab_type": "code",
        "colab": {}
      },
      "source": [
        "#Resposta"
      ],
      "execution_count": 0,
      "outputs": []
    },
    {
      "cell_type": "markdown",
      "metadata": {
        "id": "p7KpihgMOfO-",
        "colab_type": "text"
      },
      "source": [
        "4. (25%) Quais são os 3 anos com maior início de empresas? Apresente o resultado com um gráfico do tipo Pizza."
      ]
    },
    {
      "cell_type": "code",
      "metadata": {
        "id": "OTW5rEXyOT38",
        "colab_type": "code",
        "colab": {}
      },
      "source": [
        "#Resposta"
      ],
      "execution_count": 0,
      "outputs": []
    },
    {
      "cell_type": "markdown",
      "metadata": {
        "id": "NZWVrD1hOm4y",
        "colab_type": "text"
      },
      "source": [
        "5. (25%) Quais os 3 bairros que mais possuem empresas com mais de 10 anos de idade? Apresente o resultado com um gráfico do tipo Pizza."
      ]
    },
    {
      "cell_type": "code",
      "metadata": {
        "id": "EWjKY5MsOdtW",
        "colab_type": "code",
        "colab": {}
      },
      "source": [
        "#Resposta"
      ],
      "execution_count": 0,
      "outputs": []
    },
    {
      "cell_type": "markdown",
      "metadata": {
        "id": "4WB2c-1AZurs",
        "colab_type": "text"
      },
      "source": [
        "(10% - EXTRA) Baseado no Teorema de Tchebichev, selecione empresas candidatas a serem outliers."
      ]
    },
    {
      "cell_type": "code",
      "metadata": {
        "id": "TwUKn3mxw71E",
        "colab_type": "code",
        "colab": {}
      },
      "source": [
        "#Resposta"
      ],
      "execution_count": 0,
      "outputs": []
    }
  ]
}