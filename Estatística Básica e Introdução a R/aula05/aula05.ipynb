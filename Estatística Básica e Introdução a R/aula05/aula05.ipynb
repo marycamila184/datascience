{
  "nbformat": 4,
  "nbformat_minor": 0,
  "metadata": {
    "kernelspec": {
      "display_name": "R",
      "language": "R",
      "name": "ir"
    },
    "language_info": {
      "codemirror_mode": "r",
      "file_extension": ".r",
      "mimetype": "text/x-r-source",
      "name": "R",
      "pygments_lexer": "r",
      "version": "3.3.1"
    },
    "colab": {
      "name": "aula05.ipynb",
      "provenance": [],
      "collapsed_sections": []
    }
  },
  "cells": [
    {
      "cell_type": "markdown",
      "metadata": {
        "id": "XP3H2uV50WLC",
        "colab_type": "text"
      },
      "source": [
        "# Correlação Linear e Regressão Linear Simples"
      ]
    },
    {
      "cell_type": "markdown",
      "metadata": {
        "id": "oc-vKxVP6OI9",
        "colab_type": "text"
      },
      "source": [
        "##Correlação Linear\n",
        "\n",
        "A correlação é uma técnica utilizada para estimar uma relação que possa existir na população, enquanto as que as medidas de tendência central e de dispersão, servem para estimar um único parâmetro populacional.\n",
        "\n",
        "Duas variáveis estão relacionadas se a mudança de uma provoca a mudança na outra.\n",
        "A correlação mede a força ou o grau de relacionamento entre duas variáveis.\n",
        "\n",
        "Logo, correlação entre duas variáveis é quando a alteração no valor de uma varíavel (neste caso independente) provoca alterações no valor da outra variável (dependente).\n",
        "\n",
        "Exemplo: processamento x consumo de energia\n",
        "\n",
        "\n",
        "##Diagramas de Dispersão\n",
        "\n",
        "Um diagrama de dispersão mostra a relação entre duas variáveis quantitativas.\n",
        "\n",
        "Os valores de uma variável aparecem no eixo horizontal, e os da outra, no eixo vertical.\n",
        "Os pontos do gráfico são definidos pelos valores de ambas as variáveis para aquele ponto.\n",
        "\n",
        "Exemplos:\n",
        "\n",
        "*   Número de peças produzidas e número de peças defeituosas\n",
        "*   Velocidade e consumo de combustível\n",
        "*   Processamento x consumo de energia\n",
        "\n",
        "##Regressão Linear Simples\n",
        "\n",
        "A regressão também é uma técnica para estimar uma relação entre variáveis.\n",
        "\n",
        "Neste caso, fornece uma equação que descreve o relacionamento em termos matemáticos, pressupondo\n",
        "alguma relação de causa e efeito entre as variáveis. Por exemplo: a idade e a altura de cada indivíduo.\n",
        "\n",
        "A regressão linear simples constitui uma tentativa de estabelecer uma equação matemática\n",
        "linear (reta) com apenas uma variável dependente que descreva o relacionamento\n",
        "entre duas variáveis.\n",
        "\n",
        "A equação linear (reta de regressão) apresenta como principais características:\n",
        "\n",
        "\n",
        "*   O coeficiente angular da reta é dado pela tangente da reta e se denomina “a”;\n",
        "*   A cota da reta em determinado ponto é o coeficiente linear denominado “b” que é o valor de y quando x for igual a zero.\n",
        "\n",
        "Possui a seguinte fórmula:\n",
        "\n",
        "$y = ax + b + \\epsilon $\n",
        "\n",
        "onde:\n",
        "* x (inclinação ou coeficiente angular) é a variável explicativa, independente ou preditora. Para cada aumento de uma unidade em $x$, temos um aumento médio de $a$ unidades em $y$;\n",
        "* y (intercepto) é a variável explicada, dependente ou resposta;\n",
        "* *e* é chamado de erro que corresponde ao desvio entre o valor real e o aproximado\n",
        "(pela reta) de y. Isso porque sempre teremos observações amostrais que não são\n",
        "pontos da reta.\n",
        "\n",
        "Nem todas as situações são bem aproximadas por uma equação linear.\n",
        "Quando os dados não podem ser aproximados por um modelo linear, as alternativas são\n",
        "procurar um modelo não-linear. Alguns exemplos de modelos não-lineares:\n",
        "\n",
        "\n",
        "*   Modelo de Mitscherlich\n",
        "*   Modelo Logístico\n",
        "*   Modelo de Gompertz\n",
        "*   Modelo de Michaelis-Mentel\n",
        "\n",
        "Para avaliarmos uma correlação e verificarmos se é linear, podemos utilizar da análise gráfica das variáveis através do gráfico de dispersão.\n",
        "\n",
        "Exemplo em R:"
      ]
    },
    {
      "cell_type": "code",
      "metadata": {
        "id": "CwX90A0EjONE",
        "colab_type": "code",
        "colab": {}
      },
      "source": [
        "data(Orange) #importanto dataset\n",
        "x <- Orange$age\n",
        "y <- Orange$circumference\n",
        "plot(x,y)"
      ],
      "execution_count": 0,
      "outputs": []
    },
    {
      "cell_type": "markdown",
      "metadata": {
        "id": "u4gDP42Lg7aS",
        "colab_type": "text"
      },
      "source": [
        "##A Equação Linear\n",
        "\n",
        "Para obtermos os parâmetros ($a$ e $b$) da equação de primeiro grau da equação linear devemos estabelecer um critério. \n",
        "Neste caso será utilizado o método dos mínimos quadrados de forma a encontrar os valores de $a e $b$ da reta de regressão que minimizem a soma dos quadrados dos desvios individuais.\n",
        "Os desvios individuais correspondem à diferença entre a medida real (do fenômeno estudado) e a medida aproximada pela reta de regressão. O somatório dos quadrados dos desvios é mostrado abaixo:\n",
        "\n",
        "$ \\sum_{i=1}^n d_i^2 = \\sum_{i=1}^n (y_i - y_c)^2 $\n",
        "\n",
        "onde:\n",
        "* $y_i$ é o valor observado de y;\n",
        "* $y_c$ é o valor calculado de y na função linear.\n",
        "\n",
        "\n",
        "Com este método, é possível deduzir a reta que **melhor explica** a relação entre a variável independente e a variável dependente.\n",
        "\n",
        "\n",
        "Os valore de $a$ e $b$ são calculados como:\n",
        "\n",
        "\n",
        "$ a = \\frac {n\\sum_{i=1}^n x_iy_i - \\sum_{i=1}^n x_i\\sum_{i=1}^ny_i } {n\\sum_{i=1}^n x_i^2 - (\\sum_{i=1}^n x_i)^2 } $\n",
        "\n",
        "$ b = \\frac {\\sum_{i=1}^n y_i - a\\sum_{i=1}^n x_i } {n} $\n",
        "\n",
        "Para obtermos a equação linear, podemos usar a função:\n",
        "\n",
        "\n",
        "```\n",
        "lm(y~x,data)\n",
        "```\n",
        "\n",
        "Sendo lm, a abreviação de \"linear model\", e os parâmetros podem ser lidos: \"y~x\" como sendo y depende de x.\n",
        "o argumento “data” recebe o conjunto de dados como uma estrutura chamada *data.frame* a serem analisado e as variáveis y e x são as colunas em análise.\n",
        "\n",
        "Exemplo:\n"
      ]
    },
    {
      "cell_type": "code",
      "metadata": {
        "id": "5rJyf1WWex22",
        "colab_type": "code",
        "colab": {}
      },
      "source": [
        "#plot(dados$x,dados$y)\n",
        "dados = data.frame(x,y) #criando um data.frame à partir de x e y\n",
        "regr = lm(y~x,data=dados) #ou apenas \"regressão=lm(y~x)\""
      ],
      "execution_count": 0,
      "outputs": []
    },
    {
      "cell_type": "code",
      "metadata": {
        "id": "BFkG_1xkpXTT",
        "colab_type": "code",
        "colab": {}
      },
      "source": [
        "regr"
      ],
      "execution_count": 0,
      "outputs": []
    },
    {
      "cell_type": "code",
      "metadata": {
        "id": "CQtm9vpZqKSG",
        "colab_type": "code",
        "colab": {}
      },
      "source": [
        "regr$coefficients #ou coef(regr)\n",
        "v = coef(regr)[\"(Intercept)\"]"
      ],
      "execution_count": 0,
      "outputs": []
    },
    {
      "cell_type": "markdown",
      "metadata": {
        "id": "StF2-oXaqpHC",
        "colab_type": "text"
      },
      "source": [
        "Neste caso, temos a seguinte equação:\n",
        "\n",
        "$ a = 0.106770325068761 $\n",
        "\n",
        "$ b = 17.3996502401635 $\n",
        "\n",
        "Vamos testar um exemplo. Supondo que um determinado x seja 1500, qual seria o valor de y esperado?\n",
        "\n",
        "Da equação temos:\n",
        "\n",
        "$y = ax + b = 0.106770325068761x + 17.3996502401635 = 0.106770325068761 \\cdot 1500 + 17.3996502401635 $\n",
        "\n",
        "$y = 177.555137843$\n",
        "\n"
      ]
    },
    {
      "cell_type": "code",
      "metadata": {
        "id": "AvVCx24ppd_C",
        "colab_type": "code",
        "colab": {}
      },
      "source": [
        "z = plot(x,y)\n",
        "grid(z) #aplicando grid ao gráfico\n",
        "abline(regr,col=\"red\")\n",
        "\n",
        "nx = 1500\n",
        "ny = regr$coefficients['x'] * 1500 + regr$coefficients['(Intercept)'] #usando a equação linear\n",
        "\n",
        "#plotando o ponto esperado\n",
        "points(nx,ny,lw=2,col=\"green\")"
      ],
      "execution_count": 0,
      "outputs": []
    },
    {
      "cell_type": "markdown",
      "metadata": {
        "id": "bYKZYJrjuLko",
        "colab_type": "text"
      },
      "source": [
        "Para verificarmos os resultados da função lm(), inclusive os coeficientes da regressão\n",
        "linear, devemos utilizar o função **summary()**:"
      ]
    },
    {
      "cell_type": "code",
      "metadata": {
        "id": "paqLQJVJuRc_",
        "colab_type": "code",
        "colab": {}
      },
      "source": [
        "summary(regr)"
      ],
      "execution_count": 0,
      "outputs": []
    },
    {
      "cell_type": "code",
      "metadata": {
        "id": "hnmPysZOuyhl",
        "colab_type": "code",
        "colab": {}
      },
      "source": [
        "#avaliando os nomes contidos nos objetos:\n",
        "names(regr)"
      ],
      "execution_count": 0,
      "outputs": []
    },
    {
      "cell_type": "markdown",
      "metadata": {
        "id": "Id2ZHqoZvRmq",
        "colab_type": "text"
      },
      "source": [
        "Os comandos mais importantes listados são os seguintes:\n",
        "\n",
        "* **regr$fitted.values** ou predict(): faz uma previsão, ou seja, calcula os valores preditos da variável resposta para cada elemento da amostra;\n",
        "\n",
        "* **regr$residuals**: calcula o erro ou os resíduos (valor observado - valor predito) para cada ponto da amostra;\n",
        "\n",
        "* **regr$coefficients**: obtém uma estimativa dos coeficientes da regressão."
      ]
    },
    {
      "cell_type": "markdown",
      "metadata": {
        "id": "f8VR19iwvxnM",
        "colab_type": "text"
      },
      "source": [
        "Outros componentes do ajuste são úteis para propósito de diagnóstico. Por exemplo, pode-se examinar o gráfico de valores ajustados contra resíduos. Este gráfico pode nos mostrar os desvios dos dados em relação ao modelo linear estimado."
      ]
    },
    {
      "cell_type": "code",
      "metadata": {
        "id": "7aIsI2ICv0QW",
        "colab_type": "code",
        "colab": {}
      },
      "source": [
        "plot(regr$fitted.values,regr$residuals)\n",
        "#ini <- min(regr$fitted.values)\n",
        "#end <- max(regr$fitted.values)\n",
        "#lines(c(ini, end),c(0,0),lw=2,col=\"red\")"
      ],
      "execution_count": 0,
      "outputs": []
    },
    {
      "cell_type": "markdown",
      "metadata": {
        "id": "c58qF0m5xQZW",
        "colab_type": "text"
      },
      "source": [
        "Podemos identificar valores outliers, através do histograma dos resíduos:"
      ]
    },
    {
      "cell_type": "code",
      "metadata": {
        "id": "Ynj2t-_mxREL",
        "colab_type": "code",
        "colab": {}
      },
      "source": [
        "hist(regr$residuals)"
      ],
      "execution_count": 0,
      "outputs": []
    },
    {
      "cell_type": "markdown",
      "metadata": {
        "id": "Zt1d63_9x8T3",
        "colab_type": "text"
      },
      "source": [
        "Vamos inserir um outlier e ver o histograma:"
      ]
    },
    {
      "cell_type": "code",
      "metadata": {
        "id": "LnmVQEh7yAIS",
        "colab_type": "code",
        "colab": {}
      },
      "source": [
        "dados_o <- rbind(dados,data.frame(x=1, y=175)) #dataframe com outlier\n",
        "regr_o = lm(y~x,data=dados_o) #ou apenas \"regressão=lm(y~x)\"\n",
        "hist(regr_o$residuals)"
      ],
      "execution_count": 0,
      "outputs": []
    },
    {
      "cell_type": "markdown",
      "metadata": {
        "id": "0Lfuv5x0z7PT",
        "colab_type": "text"
      },
      "source": [
        "Você também pode plotar uma série de gráficos para o ajuste de um modelo linear através da plotagem do resultado da função **lm()**\n",
        "\n",
        "```\n",
        "plot(regr)\n",
        "```"
      ]
    },
    {
      "cell_type": "markdown",
      "metadata": {
        "id": "G8_Bb33_z-Qc",
        "colab_type": "text"
      },
      "source": [
        "##Coeficiente de Correlação"
      ]
    },
    {
      "cell_type": "markdown",
      "metadata": {
        "id": "GEJP9BuY0HiZ",
        "colab_type": "text"
      },
      "source": [
        "Conforme avaliamos no exemplo anterior, através do gráfico de dispersão pode-se indicar se a correlação linear é positiva, negativa ou a inexistência de correlação.\n",
        "No entanto, nem sempre poderemos analisar o gráfico e tirar conclusões.\n",
        "Para ter uma medida numérica mais adequada, podemos utilizar o coeficiente de correlação $r$.\n",
        "Este coeficiente é uma medida que avalia o quanto a “nuvem de pontos” no diagrama de dispersão aproxima-se de uma reta.\n",
        "\n",
        "Podemos identificar este coeficiente, conforme a descrição abaixo. Seja $|r|$:\n",
        "\n",
        "* 0: indica correlação Nula\n",
        "* 0 a 0,3: indica correlação Fraca\n",
        "* 0,3 a 0,7: indica correlação Regular\n",
        "* 0,7 a 0,99: indica correlação Forte\n",
        "* 1: indica correlação Perfeita\n",
        "\n",
        "E ainda, se $r = 1$ a correlação é linear positiva e perfeita, se $r = -1$, a correlação é linear negativa e perfeita.\n",
        "\n",
        "Este coeficiente mede o grau de associação entre duas variáveis:\n",
        "\n",
        "* **Correlação nula**: y não cresce, indicando que a correlação não é linear (constante);\n",
        "* **Correlação fraca**: indica que y cresce mais lentamente que x;\n",
        "* **Correlação forte**: indica que y cresce mais rapidamente que x;\n",
        "* **Correlação perfeita**: indica que y cresce na mesma velocidade que x.\n",
        "\n",
        "O coeficiente de correlação pode ser obtido na linguagem R por:\n"
      ]
    },
    {
      "cell_type": "code",
      "metadata": {
        "id": "wWuRmJ661gA6",
        "colab_type": "code",
        "colab": {}
      },
      "source": [
        "cor(dados$x, dados$y)"
      ],
      "execution_count": 0,
      "outputs": []
    },
    {
      "cell_type": "code",
      "metadata": {
        "id": "7uaU5a8Y1lXj",
        "colab_type": "code",
        "colab": {}
      },
      "source": [
        "cor(dados_o$x, dados_o$y) #veja que a correlação aqui é menor, devido à presença do outlier, daí a importância de encontrar e eliminar outliers"
      ],
      "execution_count": 0,
      "outputs": []
    },
    {
      "cell_type": "markdown",
      "metadata": {
        "id": "lOeWI7ck1yx_",
        "colab_type": "text"
      },
      "source": [
        "##Coeficiente de Determinação\n",
        "\n",
        "Explica o grau de ajuste do modelo, ou o percentual de variação de y que é explicada pela variabilidade de x. Seu valor varia de 0 a 1.\n",
        "Seu valor é obtivo elevando o coeficiente de correlação ao quadrado $r^2$:"
      ]
    },
    {
      "cell_type": "code",
      "metadata": {
        "id": "ANL6uFpcjQ8_",
        "colab_type": "code",
        "colab": {}
      },
      "source": [
        "cor(dados$x, dados$y)^2"
      ],
      "execution_count": 0,
      "outputs": []
    },
    {
      "cell_type": "code",
      "metadata": {
        "id": "FpuAUP0z2j0j",
        "colab_type": "code",
        "colab": {}
      },
      "source": [
        "cor(dados_o$x, dados_o$y)^2"
      ],
      "execution_count": 0,
      "outputs": []
    },
    {
      "cell_type": "markdown",
      "metadata": {
        "id": "EEBxYM-A2obt",
        "colab_type": "text"
      },
      "source": [
        "O valor obtido, significa que, no exemplo dos dados sem outliers, $r^2 = 0.84 $, que aproximadamente 84% da variação da váriavel dependente é explicada pela variável independente. Os outros 16% possuem\n",
        "causas aleatórias desconhecidas (independentes de x)."
      ]
    },
    {
      "cell_type": "markdown",
      "metadata": {
        "id": "dPWcFiArCvdl",
        "colab_type": "text"
      },
      "source": [
        "##Matriz de correlação\n",
        "A matriz de correlação, apresenta as correlações entre múltiplas variáveis.\n",
        "Para avaliarmos, seja o exemplo padrão do R, **data(mtcars)** que contém diversos modelos de carros:"
      ]
    },
    {
      "cell_type": "code",
      "metadata": {
        "id": "f5tAjInmEHs0",
        "colab_type": "code",
        "colab": {}
      },
      "source": [
        "data(mtcars)\n",
        "head(mtcars)"
      ],
      "execution_count": 0,
      "outputs": []
    },
    {
      "cell_type": "markdown",
      "metadata": {
        "id": "NHtweKa-EO8h",
        "colab_type": "text"
      },
      "source": [
        "Vamos avaliar as correlações, comparando todas as colunas deste dataframe:"
      ]
    },
    {
      "cell_type": "code",
      "metadata": {
        "id": "QdOMyXbdEWI-",
        "colab_type": "code",
        "colab": {}
      },
      "source": [
        "cc <- cor(mtcars)\n",
        "cc"
      ],
      "execution_count": 0,
      "outputs": []
    },
    {
      "cell_type": "markdown",
      "metadata": {
        "id": "BWSZ4s87EyPd",
        "colab_type": "text"
      },
      "source": [
        "Podemos utilizar outras bibliotecas para visualizar a matriz de correlação:\n",
        "\n",
        "\n",
        "\n",
        "```\n",
        "install.packages('corrplot')\n",
        "library(corrplot)\n",
        "```\n",
        "\n",
        "Observação: procure o help do **corrplot**\n"
      ]
    },
    {
      "cell_type": "code",
      "metadata": {
        "id": "SW2hcYD8EWLC",
        "colab_type": "code",
        "colab": {}
      },
      "source": [
        "install.packages('corrplot')\n",
        "library(corrplot)"
      ],
      "execution_count": 0,
      "outputs": []
    },
    {
      "cell_type": "code",
      "metadata": {
        "id": "dp08nQDSGA-L",
        "colab_type": "code",
        "colab": {}
      },
      "source": [
        "No exemplo abaixo, o padrão da função corrplot, apresenta um círculo em cada célula, em que o tamanho do círculo indica o grau de correlação. \n",
        "As cores de cada círculo, representam se as variáveis são positivamente ou negativamente correlacionados."
      ],
      "execution_count": 0,
      "outputs": []
    },
    {
      "cell_type": "code",
      "metadata": {
        "id": "ZvW-5AgRFMwD",
        "colab_type": "code",
        "colab": {}
      },
      "source": [
        "corrplot(cc)"
      ],
      "execution_count": 0,
      "outputs": []
    },
    {
      "cell_type": "markdown",
      "metadata": {
        "id": "T8DRaDhmHEP0",
        "colab_type": "text"
      },
      "source": [
        "Também é possível alterar o método padrão de visualização:\n",
        "\n",
        "\n",
        "```\n",
        "corrplot(cc, method=\"??\")\n",
        "```\n",
        "Alguns exemplos de métodos:\n",
        "\n",
        "*   ellipse\n",
        "*   color\n",
        "*   shade\n"
      ]
    },
    {
      "cell_type": "code",
      "metadata": {
        "id": "BNId_Y0OHDWP",
        "colab_type": "code",
        "colab": {}
      },
      "source": [
        "corrplot(cc, method=\"number\") #neste exemplo avaliamos os valores"
      ],
      "execution_count": 0,
      "outputs": []
    },
    {
      "cell_type": "markdown",
      "metadata": {
        "id": "oFE1xX13IUfC",
        "colab_type": "text"
      },
      "source": [
        "Outras bibliotecas:\n",
        "\n",
        "[Hmisc](https://www.rdocumentation.org/packages/Hmisc/versions/4.2-0), [PerformanceAnalytics](https://www.rdocumentation.org/packages/PerformanceAnalytics/versions/1.5.3)\n",
        "\n"
      ]
    }
  ]
}