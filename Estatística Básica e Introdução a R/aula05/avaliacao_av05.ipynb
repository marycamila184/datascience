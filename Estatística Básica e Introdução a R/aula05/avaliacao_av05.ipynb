{
  "nbformat": 4,
  "nbformat_minor": 0,
  "metadata": {
    "kernelspec": {
      "display_name": "R",
      "language": "R",
      "name": "ir"
    },
    "language_info": {
      "codemirror_mode": "r",
      "file_extension": ".r",
      "mimetype": "text/x-r-source",
      "name": "R",
      "pygments_lexer": "r",
      "version": "3.3.1"
    },
    "colab": {
      "name": "avaliacao_av05.ipynb",
      "provenance": [],
      "collapsed_sections": []
    }
  },
  "cells": [
    {
      "cell_type": "markdown",
      "metadata": {
        "id": "XP3H2uV50WLC",
        "colab_type": "text"
      },
      "source": [
        "# Atividade AV05"
      ]
    },
    {
      "cell_type": "markdown",
      "metadata": {
        "id": "oc-vKxVP6OI9",
        "colab_type": "text"
      },
      "source": [
        "Com base no arquivo que de valores de [bairros](https://raw.githubusercontent.com/leonardodecuritiba/rdatascience/master/data/dados_bairros.csv), responda as seguintes questões"
      ]
    },
    {
      "cell_type": "markdown",
      "metadata": {
        "id": "VlG2FSE4OJu2",
        "colab_type": "text"
      },
      "source": [
        "1. Qual o grau de influência do gênero masculino sobre o rendimento médio domiciliar nos bairros? E do gênero feminino? Explique e classifique o grau de associação destes valores."
      ]
    },
    {
      "cell_type": "code",
      "metadata": {
        "id": "9euL4b4iOSsg",
        "colab_type": "code",
        "colab": {}
      },
      "source": [
        "#Resposta"
      ],
      "execution_count": 0,
      "outputs": []
    },
    {
      "cell_type": "markdown",
      "metadata": {
        "id": "ti0GYHoQ89AM",
        "colab_type": "text"
      },
      "source": [
        "2. Qual variável tem maior influência sobre o rendimento médio domiciliar?"
      ]
    },
    {
      "cell_type": "code",
      "metadata": {
        "id": "t5ujFyDB9nNA",
        "colab_type": "code",
        "colab": {}
      },
      "source": [
        "#Resposta"
      ],
      "execution_count": 0,
      "outputs": []
    },
    {
      "cell_type": "markdown",
      "metadata": {
        "id": "ESsXraMs9mIg",
        "colab_type": "text"
      },
      "source": [
        "3. Calcule e intereprete os coeficientes de correlação $r$ e determinação $r^2$ sobre essa variável."
      ]
    },
    {
      "cell_type": "code",
      "metadata": {
        "id": "x106Dn8S9vYs",
        "colab_type": "code",
        "colab": {}
      },
      "source": [
        "#Resposta"
      ],
      "execution_count": 0,
      "outputs": []
    },
    {
      "cell_type": "markdown",
      "metadata": {
        "id": "XdLqgk1daR3x",
        "colab_type": "text"
      },
      "source": [
        "\n",
        "\n",
        "---\n",
        "\n",
        "Com base no arquivo que de valores de [alugueis](https://raw.githubusercontent.com/leonardodecuritiba/rdatascience/master/data/data_aluguel.csv), crie uma coluna contendo o total (aluguel+condominio) e responda as seguintes questões:"
      ]
    },
    {
      "cell_type": "markdown",
      "metadata": {
        "id": "96rdD8Bl-IzV",
        "colab_type": "text"
      },
      "source": [
        "1. É possível afirmar que a área do apartamento tem uma grande influência sobre o preço do aluguel? E com relação ao valor do condomínio?"
      ]
    },
    {
      "cell_type": "code",
      "metadata": {
        "id": "Yd2KkTFIaV2T",
        "colab_type": "code",
        "colab": {}
      },
      "source": [
        "#Resposta"
      ],
      "execution_count": 0,
      "outputs": []
    },
    {
      "cell_type": "markdown",
      "metadata": {
        "id": "pB-0m_glAtC-",
        "colab_type": "text"
      },
      "source": [
        "2. Desconsiderando a região, caso um novos apartamentos com áreas de respectivamente: $40m^2, 70m^2 e 150m^2$ fossem anunciados, baseado na regressão linear, qual seriam os valores esperados para o aluguel, condomínio e valor total?"
      ]
    },
    {
      "cell_type": "code",
      "metadata": {
        "id": "lR9dtLesCYLO",
        "colab_type": "code",
        "colab": {}
      },
      "source": [
        "#Resposta"
      ],
      "execution_count": 0,
      "outputs": []
    },
    {
      "cell_type": "code",
      "metadata": {
        "id": "iIH4S35rL1BB",
        "colab_type": "code",
        "colab": {}
      },
      "source": [
        "Mostre a matriz de correlação do dataset, em formato de cores usando a biblioteca corrplot, o que é possível afirmar com base no resultado?"
      ],
      "execution_count": 0,
      "outputs": []
    },
    {
      "cell_type": "code",
      "metadata": {
        "id": "MO7eh0pfMh_2",
        "colab_type": "code",
        "colab": {}
      },
      "source": [
        "#Resposta"
      ],
      "execution_count": 0,
      "outputs": []
    }
  ]
}