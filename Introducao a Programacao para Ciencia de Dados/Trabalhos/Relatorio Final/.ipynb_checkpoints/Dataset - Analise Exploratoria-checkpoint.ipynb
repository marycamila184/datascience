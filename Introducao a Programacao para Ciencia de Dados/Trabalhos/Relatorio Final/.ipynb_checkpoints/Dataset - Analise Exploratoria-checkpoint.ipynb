{
 "cells": [
  {
   "cell_type": "markdown",
   "metadata": {},
   "source": [
    "## Leitura e análise inicial dos dados"
   ]
  },
  {
   "cell_type": "markdown",
   "metadata": {},
   "source": [
    "Utilizando o DataSet já limpo eu o importo a partir do arquivo 2019-09-01_sigesguarda_-_Base_de_Dados-limpo.csv."
   ]
  },
  {
   "cell_type": "code",
   "execution_count": 2,
   "metadata": {},
   "outputs": [],
   "source": [
    "#importação de bibliotecas\n",
    "import pandas as pd\n",
    "\n",
    "%matplotlib inline\n",
    "\n",
    "# lê o arquivo CSV da guarda municipal\n",
    "df = pd.read_csv('data/2019-10-01_sigesguarda_-_Base_de_Dados-limpo.csv', encoding='utf-8', sep=',', low_memory=False)"
   ]
  },
  {
   "cell_type": "markdown",
   "metadata": {},
   "source": [
    "Visualizando algumas linhas de dados"
   ]
  },
  {
   "cell_type": "code",
   "execution_count": 3,
   "metadata": {},
   "outputs": [
    {
     "data": {
      "text/html": [
       "<div>\n",
       "<style scoped>\n",
       "    .dataframe tbody tr th:only-of-type {\n",
       "        vertical-align: middle;\n",
       "    }\n",
       "\n",
       "    .dataframe tbody tr th {\n",
       "        vertical-align: top;\n",
       "    }\n",
       "\n",
       "    .dataframe thead th {\n",
       "        text-align: right;\n",
       "    }\n",
       "</style>\n",
       "<table border=\"1\" class=\"dataframe\">\n",
       "  <thead>\n",
       "    <tr style=\"text-align: right;\">\n",
       "      <th></th>\n",
       "      <th>ATENDIMENTO_BAIRRO_NOME</th>\n",
       "      <th>NATUREZA1_DESCRICAO</th>\n",
       "      <th>SUBCATEGORIA1_DESCRICAO</th>\n",
       "      <th>OCORRENCIA_DATA</th>\n",
       "      <th>ORIGEM_CHAMADO_DESCRICAO</th>\n",
       "      <th>REGIONAL_FATO_NOME</th>\n",
       "    </tr>\n",
       "  </thead>\n",
       "  <tbody>\n",
       "    <tr>\n",
       "      <td>0</td>\n",
       "      <td>cidade industrial</td>\n",
       "      <td>alarmes</td>\n",
       "      <td>disparo de alarme</td>\n",
       "      <td>2009-01-01 15:14:00</td>\n",
       "      <td>SIGA</td>\n",
       "      <td>cidade industrial</td>\n",
       "    </tr>\n",
       "    <tr>\n",
       "      <td>1</td>\n",
       "      <td>fazendinha</td>\n",
       "      <td>roubo</td>\n",
       "      <td>transeunte</td>\n",
       "      <td>2009-01-01 15:22:00</td>\n",
       "      <td>153</td>\n",
       "      <td>portão</td>\n",
       "    </tr>\n",
       "    <tr>\n",
       "      <td>2</td>\n",
       "      <td>uberaba</td>\n",
       "      <td>animais</td>\n",
       "      <td>cão solto em via pública</td>\n",
       "      <td>2009-01-01 15:59:00</td>\n",
       "      <td>156</td>\n",
       "      <td>cajuru</td>\n",
       "    </tr>\n",
       "    <tr>\n",
       "      <td>3</td>\n",
       "      <td>sítio cercado</td>\n",
       "      <td>animais</td>\n",
       "      <td>cão solto em via pública</td>\n",
       "      <td>2009-01-01 16:13:00</td>\n",
       "      <td>156</td>\n",
       "      <td>bairro novo</td>\n",
       "    </tr>\n",
       "    <tr>\n",
       "      <td>4</td>\n",
       "      <td>tatuquara</td>\n",
       "      <td>alarmes</td>\n",
       "      <td>disparo de alarme</td>\n",
       "      <td>2009-01-01 16:29:00</td>\n",
       "      <td>SIGA</td>\n",
       "      <td>pinheirinho</td>\n",
       "    </tr>\n",
       "    <tr>\n",
       "      <td>5</td>\n",
       "      <td>sítio cercado</td>\n",
       "      <td>alarmes</td>\n",
       "      <td>disparo de alarme</td>\n",
       "      <td>2009-01-01 14:00:00</td>\n",
       "      <td>SIGA</td>\n",
       "      <td>bairro novo</td>\n",
       "    </tr>\n",
       "    <tr>\n",
       "      <td>6</td>\n",
       "      <td>santa cândida</td>\n",
       "      <td>trânsito</td>\n",
       "      <td>acidente de trânsito</td>\n",
       "      <td>2009-01-01 16:45:00</td>\n",
       "      <td>IMEDIATA</td>\n",
       "      <td>boa vista</td>\n",
       "    </tr>\n",
       "    <tr>\n",
       "      <td>7</td>\n",
       "      <td>boqueirão</td>\n",
       "      <td>alarmes</td>\n",
       "      <td>disparo de alarme</td>\n",
       "      <td>2009-01-01 17:45:00</td>\n",
       "      <td>SIGA</td>\n",
       "      <td>boqueirão</td>\n",
       "    </tr>\n",
       "    <tr>\n",
       "      <td>8</td>\n",
       "      <td>centro</td>\n",
       "      <td>roubo</td>\n",
       "      <td>transeunte</td>\n",
       "      <td>2009-01-01 14:20:00</td>\n",
       "      <td>IMEDIATA</td>\n",
       "      <td>matriz</td>\n",
       "    </tr>\n",
       "    <tr>\n",
       "      <td>9</td>\n",
       "      <td>boa vista</td>\n",
       "      <td>invasão</td>\n",
       "      <td>invasão de equipamento/patrimônio público</td>\n",
       "      <td>2009-01-01 18:04:00</td>\n",
       "      <td>156</td>\n",
       "      <td>boa vista</td>\n",
       "    </tr>\n",
       "    <tr>\n",
       "      <td>10</td>\n",
       "      <td>taboão</td>\n",
       "      <td>apoio</td>\n",
       "      <td>apoio ao cidadão - socorro</td>\n",
       "      <td>2009-01-01 18:10:00</td>\n",
       "      <td>IMEDIATA</td>\n",
       "      <td>boa vista</td>\n",
       "    </tr>\n",
       "    <tr>\n",
       "      <td>11</td>\n",
       "      <td>centro</td>\n",
       "      <td>abordagem</td>\n",
       "      <td>não informado</td>\n",
       "      <td>2009-01-01 15:40:00</td>\n",
       "      <td>CCO URBS</td>\n",
       "      <td>matriz</td>\n",
       "    </tr>\n",
       "    <tr>\n",
       "      <td>12</td>\n",
       "      <td>centro</td>\n",
       "      <td>substância ilícita</td>\n",
       "      <td>tráfico de drogas</td>\n",
       "      <td>2009-01-01 15:55:00</td>\n",
       "      <td>CCO URBS</td>\n",
       "      <td>matriz</td>\n",
       "    </tr>\n",
       "    <tr>\n",
       "      <td>13</td>\n",
       "      <td>centro</td>\n",
       "      <td>atitude suspeita</td>\n",
       "      <td>não informado</td>\n",
       "      <td>2009-01-01 15:52:00</td>\n",
       "      <td>CCO URBS</td>\n",
       "      <td>matriz</td>\n",
       "    </tr>\n",
       "    <tr>\n",
       "      <td>14</td>\n",
       "      <td>cidade industrial</td>\n",
       "      <td>alarmes</td>\n",
       "      <td>disparo de alarme</td>\n",
       "      <td>2009-01-01 19:45:00</td>\n",
       "      <td>SIGA</td>\n",
       "      <td>cidade industrial</td>\n",
       "    </tr>\n",
       "  </tbody>\n",
       "</table>\n",
       "</div>"
      ],
      "text/plain": [
       "   ATENDIMENTO_BAIRRO_NOME NATUREZA1_DESCRICAO  \\\n",
       "0        cidade industrial             alarmes   \n",
       "1               fazendinha               roubo   \n",
       "2                  uberaba             animais   \n",
       "3            sítio cercado             animais   \n",
       "4                tatuquara             alarmes   \n",
       "5            sítio cercado             alarmes   \n",
       "6            santa cândida            trânsito   \n",
       "7                boqueirão             alarmes   \n",
       "8                   centro               roubo   \n",
       "9                boa vista             invasão   \n",
       "10                  taboão               apoio   \n",
       "11                  centro           abordagem   \n",
       "12                  centro  substância ilícita   \n",
       "13                  centro    atitude suspeita   \n",
       "14       cidade industrial             alarmes   \n",
       "\n",
       "                      SUBCATEGORIA1_DESCRICAO      OCORRENCIA_DATA  \\\n",
       "0                           disparo de alarme  2009-01-01 15:14:00   \n",
       "1                                  transeunte  2009-01-01 15:22:00   \n",
       "2                    cão solto em via pública  2009-01-01 15:59:00   \n",
       "3                    cão solto em via pública  2009-01-01 16:13:00   \n",
       "4                           disparo de alarme  2009-01-01 16:29:00   \n",
       "5                           disparo de alarme  2009-01-01 14:00:00   \n",
       "6                        acidente de trânsito  2009-01-01 16:45:00   \n",
       "7                           disparo de alarme  2009-01-01 17:45:00   \n",
       "8                                  transeunte  2009-01-01 14:20:00   \n",
       "9   invasão de equipamento/patrimônio público  2009-01-01 18:04:00   \n",
       "10                 apoio ao cidadão - socorro  2009-01-01 18:10:00   \n",
       "11                              não informado  2009-01-01 15:40:00   \n",
       "12                          tráfico de drogas  2009-01-01 15:55:00   \n",
       "13                              não informado  2009-01-01 15:52:00   \n",
       "14                          disparo de alarme  2009-01-01 19:45:00   \n",
       "\n",
       "   ORIGEM_CHAMADO_DESCRICAO REGIONAL_FATO_NOME  \n",
       "0                      SIGA  cidade industrial  \n",
       "1                       153             portão  \n",
       "2                       156             cajuru  \n",
       "3                       156        bairro novo  \n",
       "4                      SIGA        pinheirinho  \n",
       "5                      SIGA        bairro novo  \n",
       "6                  IMEDIATA          boa vista  \n",
       "7                      SIGA          boqueirão  \n",
       "8                  IMEDIATA             matriz  \n",
       "9                       156          boa vista  \n",
       "10                 IMEDIATA          boa vista  \n",
       "11                 CCO URBS             matriz  \n",
       "12                 CCO URBS             matriz  \n",
       "13                 CCO URBS             matriz  \n",
       "14                     SIGA  cidade industrial  "
      ]
     },
     "execution_count": 3,
     "metadata": {},
     "output_type": "execute_result"
    }
   ],
   "source": [
    "df.head(15)"
   ]
  },
  {
   "cell_type": "markdown",
   "metadata": {},
   "source": [
    "Comeco a analise agrupando o numero de ocorrencias pela regional e com pego o maior numero de ocorrencias e o menor numero e depois como podemos ver no grafico a regional matriz e disparadamente a que mais atende ocorrencias."
   ]
  },
  {
   "cell_type": "code",
   "execution_count": 7,
   "metadata": {},
   "outputs": [
    {
     "data": {
      "text/plain": [
       "'matriz'"
      ]
     },
     "execution_count": 7,
     "metadata": {},
     "output_type": "execute_result"
    }
   ],
   "source": [
    "#Regional com o MAIOR numero de ocorrencias\n",
    "df.groupby(\"REGIONAL_FATO_NOME\").size().idxmax()"
   ]
  },
  {
   "cell_type": "code",
   "execution_count": 5,
   "metadata": {},
   "outputs": [
    {
     "data": {
      "text/plain": [
       "76144"
      ]
     },
     "execution_count": 5,
     "metadata": {},
     "output_type": "execute_result"
    }
   ],
   "source": [
    "#MAIOR numero de ocorrencias\n",
    "df.groupby(\"REGIONAL_FATO_NOME\").size().max()"
   ]
  },
  {
   "cell_type": "code",
   "execution_count": 8,
   "metadata": {},
   "outputs": [
    {
     "data": {
      "text/plain": [
       "'região metropolitana'"
      ]
     },
     "execution_count": 8,
     "metadata": {},
     "output_type": "execute_result"
    }
   ],
   "source": [
    "#Regional com o MENOR numero de ocorrencias\n",
    "df.groupby(\"REGIONAL_FATO_NOME\").size().idxmin()"
   ]
  },
  {
   "cell_type": "code",
   "execution_count": 9,
   "metadata": {},
   "outputs": [
    {
     "data": {
      "text/plain": [
       "111"
      ]
     },
     "execution_count": 9,
     "metadata": {},
     "output_type": "execute_result"
    }
   ],
   "source": [
    "#MENOR numero de ocorrencias\n",
    "df.groupby(\"REGIONAL_FATO_NOME\").size().min()"
   ]
  },
  {
   "cell_type": "code",
   "execution_count": 10,
   "metadata": {},
   "outputs": [
    {
     "data": {
      "text/plain": [
       "<matplotlib.axes._subplots.AxesSubplot at 0x7f764ec54518>"
      ]
     },
     "execution_count": 10,
     "metadata": {},
     "output_type": "execute_result"
    },
    {
     "data": {
      "image/png": "[encoded data removed]",
      "text/plain": [
       "<Figure size 432x288 with 1 Axes>"
      ]
     },
     "metadata": {
      "needs_background": "light"
     },
     "output_type": "display_data"
    }
   ],
   "source": [
    "df_regional = df.groupby(\"REGIONAL_FATO_NOME\").size().reset_index(name='OCORRENCIAS')\n",
    "df_regional = df_regional.sort_values('OCORRENCIAS')\n",
    "df_regional.plot.barh(x='REGIONAL_FATO_NOME', y='OCORRENCIAS')"
   ]
  },
  {
   "cell_type": "markdown",
   "metadata": {},
   "source": [
    "E abaixo podemos ver a mesma analise com um grafico com os canais mais utilizados para registro de ocorrencias"
   ]
  },
  {
   "cell_type": "code",
   "execution_count": 11,
   "metadata": {},
   "outputs": [
    {
     "data": {
      "text/plain": [
       "'153'"
      ]
     },
     "execution_count": 11,
     "metadata": {},
     "output_type": "execute_result"
    }
   ],
   "source": [
    "#CANAL mais utilizado para abrir ocorrencias\n",
    "df.groupby(\"ORIGEM_CHAMADO_DESCRICAO\").size().idxmax()"
   ]
  },
  {
   "cell_type": "code",
   "execution_count": 12,
   "metadata": {},
   "outputs": [
    {
     "data": {
      "text/plain": [
       "100471"
      ]
     },
     "execution_count": 12,
     "metadata": {},
     "output_type": "execute_result"
    }
   ],
   "source": [
    "#Numero de ocorrencias abertas por esse canal\n",
    "df.groupby(\"ORIGEM_CHAMADO_DESCRICAO\").size().max()"
   ]
  },
  {
   "cell_type": "code",
   "execution_count": 13,
   "metadata": {},
   "outputs": [
    {
     "data": {
      "text/plain": [
       "'CENTRAL DE FLAGRANTES'"
      ]
     },
     "execution_count": 13,
     "metadata": {},
     "output_type": "execute_result"
    }
   ],
   "source": [
    "#CANAL menos utilizado para abrir ocorrencias\n",
    "df.groupby(\"ORIGEM_CHAMADO_DESCRICAO\").size().idxmin()"
   ]
  },
  {
   "cell_type": "code",
   "execution_count": 14,
   "metadata": {},
   "outputs": [
    {
     "data": {
      "text/plain": [
       "2"
      ]
     },
     "execution_count": 14,
     "metadata": {},
     "output_type": "execute_result"
    }
   ],
   "source": [
    "#Numero de ocorrencias atendidades por esse canal\n",
    "df.groupby(\"ORIGEM_CHAMADO_DESCRICAO\").size().min()"
   ]
  },
  {
   "cell_type": "code",
   "execution_count": 15,
   "metadata": {},
   "outputs": [
    {
     "data": {
      "text/plain": [
       "<matplotlib.axes._subplots.AxesSubplot at 0x7f764eb7dcf8>"
      ]
     },
     "execution_count": 15,
     "metadata": {},
     "output_type": "execute_result"
    },
    {
     "data": {
      "image/png": "[encoded data removed]",
      "text/plain": [
       "<Figure size 432x288 with 1 Axes>"
      ]
     },
     "metadata": {
      "needs_background": "light"
     },
     "output_type": "display_data"
    }
   ],
   "source": [
    "df_canal = df.groupby(\"ORIGEM_CHAMADO_DESCRICAO\").size().reset_index(name='OCORRENCIAS')\n",
    "df_canal = df_canal.sort_values('OCORRENCIAS')\n",
    "df_canal = df_canal[df_canal['OCORRENCIAS'] > 1000]\n",
    "df_canal.plot.barh(x='ORIGEM_CHAMADO_DESCRICAO', y='OCORRENCIAS')"
   ]
  },
  {
   "cell_type": "markdown",
   "metadata": {},
   "source": [
    "Olhando o grafico conseguimos perceber os meios mais utilizados para abrir ocorrencias"
   ]
  },
  {
   "cell_type": "markdown",
   "metadata": {},
   "source": [
    "Comecando a analise com os bairros e podemos ver os bairros em que mais se abrem ocorrencias"
   ]
  },
  {
   "cell_type": "code",
   "execution_count": 16,
   "metadata": {},
   "outputs": [
    {
     "data": {
      "text/plain": [
       "'centro'"
      ]
     },
     "execution_count": 16,
     "metadata": {},
     "output_type": "execute_result"
    }
   ],
   "source": [
    "#Bairro com MAIOR numero de ocorrencias abertas\n",
    "df.groupby(\"ATENDIMENTO_BAIRRO_NOME\").size().idxmax()"
   ]
  },
  {
   "cell_type": "code",
   "execution_count": 17,
   "metadata": {},
   "outputs": [
    {
     "data": {
      "text/plain": [
       "40910"
      ]
     },
     "execution_count": 17,
     "metadata": {},
     "output_type": "execute_result"
    }
   ],
   "source": [
    "#Numero de ocorrencias abertas neste bairro\n",
    "df.groupby(\"ATENDIMENTO_BAIRRO_NOME\").size().max()"
   ]
  },
  {
   "cell_type": "code",
   "execution_count": 18,
   "metadata": {},
   "outputs": [
    {
     "data": {
      "text/plain": [
       "'campo de são benedito'"
      ]
     },
     "execution_count": 18,
     "metadata": {},
     "output_type": "execute_result"
    }
   ],
   "source": [
    "#Bairro com MENOR numero de ocorrencias abertas\n",
    "df.groupby(\"ATENDIMENTO_BAIRRO_NOME\").size().idxmin()"
   ]
  },
  {
   "cell_type": "code",
   "execution_count": 19,
   "metadata": {},
   "outputs": [
    {
     "data": {
      "text/plain": [
       "1"
      ]
     },
     "execution_count": 19,
     "metadata": {},
     "output_type": "execute_result"
    }
   ],
   "source": [
    "#Numero de ocorrencias abertas neste bairro\n",
    "df.groupby(\"ATENDIMENTO_BAIRRO_NOME\").size().min()"
   ]
  },
  {
   "cell_type": "code",
   "execution_count": 20,
   "metadata": {},
   "outputs": [
    {
     "data": {
      "text/plain": [
       "<matplotlib.axes._subplots.AxesSubplot at 0x7f764e396208>"
      ]
     },
     "execution_count": 20,
     "metadata": {},
     "output_type": "execute_result"
    },
    {
     "data": {
      "image/png": "[encoded data removed]",
      "text/plain": [
       "<Figure size 432x288 with 1 Axes>"
      ]
     },
     "metadata": {
      "needs_background": "light"
     },
     "output_type": "display_data"
    }
   ],
   "source": [
    "df_bairro_g = df.groupby(\"ATENDIMENTO_BAIRRO_NOME\").size().reset_index(name='OCORRENCIAS')\n",
    "df_bairro_g = df_bairro_g.sort_values('OCORRENCIAS')\n",
    "df_bairro_g = df_bairro_g[df_bairro_g['OCORRENCIAS'] > 2800]\n",
    "df_bairro_g.plot.barh(x='ATENDIMENTO_BAIRRO_NOME', y='OCORRENCIAS')"
   ]
  },
  {
   "cell_type": "markdown",
   "metadata": {},
   "source": [
    "Comecando a analise com da natureza das ocorrencias"
   ]
  },
  {
   "cell_type": "code",
   "execution_count": 21,
   "metadata": {},
   "outputs": [
    {
     "data": {
      "text/plain": [
       "'apoio'"
      ]
     },
     "execution_count": 21,
     "metadata": {},
     "output_type": "execute_result"
    }
   ],
   "source": [
    "#Natureza com mais ocorrencias abertas\n",
    "df.groupby(\"NATUREZA1_DESCRICAO\").size().idxmax()"
   ]
  },
  {
   "cell_type": "code",
   "execution_count": 22,
   "metadata": {},
   "outputs": [
    {
     "data": {
      "text/plain": [
       "38436"
      ]
     },
     "execution_count": 22,
     "metadata": {},
     "output_type": "execute_result"
    }
   ],
   "source": [
    "#Numero de maximo de ocorrencias \n",
    "df.groupby(\"NATUREZA1_DESCRICAO\").size().max()"
   ]
  },
  {
   "cell_type": "code",
   "execution_count": 23,
   "metadata": {},
   "outputs": [
    {
     "data": {
      "text/plain": [
       "'corrupção ativa'"
      ]
     },
     "execution_count": 23,
     "metadata": {},
     "output_type": "execute_result"
    }
   ],
   "source": [
    "#Natureza com menos ocorrencias abertas\n",
    "df.groupby(\"NATUREZA1_DESCRICAO\").size().idxmin()"
   ]
  },
  {
   "cell_type": "code",
   "execution_count": 24,
   "metadata": {},
   "outputs": [
    {
     "data": {
      "text/plain": [
       "1"
      ]
     },
     "execution_count": 24,
     "metadata": {},
     "output_type": "execute_result"
    }
   ],
   "source": [
    "#Numero de maximo de ocorrencias \n",
    "df.groupby(\"NATUREZA1_DESCRICAO\").size().min()"
   ]
  },
  {
   "cell_type": "code",
   "execution_count": 25,
   "metadata": {},
   "outputs": [
    {
     "data": {
      "text/plain": [
       "<matplotlib.axes._subplots.AxesSubplot at 0x7f764e2c07b8>"
      ]
     },
     "execution_count": 25,
     "metadata": {},
     "output_type": "execute_result"
    },
    {
     "data": {
      "image/png": "[encoded data removed]",
      "text/plain": [
       "<Figure size 432x288 with 1 Axes>"
      ]
     },
     "metadata": {
      "needs_background": "light"
     },
     "output_type": "display_data"
    }
   ],
   "source": [
    "df_bairro_n = df.groupby(\"NATUREZA1_DESCRICAO\").size().reset_index(name='OCORRENCIAS')\n",
    "df_bairro_n = df_bairro_n.sort_values('OCORRENCIAS')\n",
    "df_bairro_n = df_bairro_n[df_bairro_n['OCORRENCIAS'] > 2200]\n",
    "df_bairro_n.plot.barh(x='NATUREZA1_DESCRICAO', y='OCORRENCIAS')"
   ]
  },
  {
   "cell_type": "markdown",
   "metadata": {},
   "source": [
    "Agora agrupamos a natureza descricao com a subcategoria, ja que segundo o dicionario de dados a subcategoria e uma descricao a mais para a natureza"
   ]
  },
  {
   "cell_type": "code",
   "execution_count": 26,
   "metadata": {},
   "outputs": [
    {
     "data": {
      "text/html": [
       "<div>\n",
       "<style scoped>\n",
       "    .dataframe tbody tr th:only-of-type {\n",
       "        vertical-align: middle;\n",
       "    }\n",
       "\n",
       "    .dataframe tbody tr th {\n",
       "        vertical-align: top;\n",
       "    }\n",
       "\n",
       "    .dataframe thead th {\n",
       "        text-align: right;\n",
       "    }\n",
       "</style>\n",
       "<table border=\"1\" class=\"dataframe\">\n",
       "  <thead>\n",
       "    <tr style=\"text-align: right;\">\n",
       "      <th></th>\n",
       "      <th>NATUREZA1_DESCRICAO</th>\n",
       "      <th>SUBCATEGORIA1_DESCRICAO</th>\n",
       "      <th>OCORRENCIAS</th>\n",
       "    </tr>\n",
       "  </thead>\n",
       "  <tbody>\n",
       "    <tr>\n",
       "      <td>101</td>\n",
       "      <td>dano</td>\n",
       "      <td>desordem</td>\n",
       "      <td>6099</td>\n",
       "    </tr>\n",
       "    <tr>\n",
       "      <td>25</td>\n",
       "      <td>ameaça</td>\n",
       "      <td>não informado</td>\n",
       "      <td>6544</td>\n",
       "    </tr>\n",
       "    <tr>\n",
       "      <td>243</td>\n",
       "      <td>roubo</td>\n",
       "      <td>transporte coletivo</td>\n",
       "      <td>7466</td>\n",
       "    </tr>\n",
       "    <tr>\n",
       "      <td>30</td>\n",
       "      <td>animais</td>\n",
       "      <td>cão solto em via pública</td>\n",
       "      <td>8776</td>\n",
       "    </tr>\n",
       "    <tr>\n",
       "      <td>106</td>\n",
       "      <td>dano</td>\n",
       "      <td>vandalismo</td>\n",
       "      <td>8806</td>\n",
       "    </tr>\n",
       "    <tr>\n",
       "      <td>104</td>\n",
       "      <td>dano</td>\n",
       "      <td>pichação</td>\n",
       "      <td>9101</td>\n",
       "    </tr>\n",
       "    <tr>\n",
       "      <td>19</td>\n",
       "      <td>alarmes</td>\n",
       "      <td>disparo de alarme</td>\n",
       "      <td>9161</td>\n",
       "    </tr>\n",
       "    <tr>\n",
       "      <td>75</td>\n",
       "      <td>atitude suspeita</td>\n",
       "      <td>não informado</td>\n",
       "      <td>9425</td>\n",
       "    </tr>\n",
       "    <tr>\n",
       "      <td>39</td>\n",
       "      <td>apoio</td>\n",
       "      <td>apoio ao cidadão - socorro</td>\n",
       "      <td>10570</td>\n",
       "    </tr>\n",
       "    <tr>\n",
       "      <td>254</td>\n",
       "      <td>substância ilícita</td>\n",
       "      <td>uso de substância ilícita</td>\n",
       "      <td>11427</td>\n",
       "    </tr>\n",
       "    <tr>\n",
       "      <td>3</td>\n",
       "      <td>abordagem</td>\n",
       "      <td>não informado</td>\n",
       "      <td>16816</td>\n",
       "    </tr>\n",
       "    <tr>\n",
       "      <td>195</td>\n",
       "      <td>perturbação do sossego</td>\n",
       "      <td>não informado</td>\n",
       "      <td>18891</td>\n",
       "    </tr>\n",
       "  </tbody>\n",
       "</table>\n",
       "</div>"
      ],
      "text/plain": [
       "        NATUREZA1_DESCRICAO     SUBCATEGORIA1_DESCRICAO  OCORRENCIAS\n",
       "101                    dano                    desordem         6099\n",
       "25                   ameaça               não informado         6544\n",
       "243                   roubo         transporte coletivo         7466\n",
       "30                  animais    cão solto em via pública         8776\n",
       "106                    dano                  vandalismo         8806\n",
       "104                    dano                    pichação         9101\n",
       "19                  alarmes           disparo de alarme         9161\n",
       "75         atitude suspeita               não informado         9425\n",
       "39                    apoio  apoio ao cidadão - socorro        10570\n",
       "254      substância ilícita   uso de substância ilícita        11427\n",
       "3                 abordagem               não informado        16816\n",
       "195  perturbação do sossego               não informado        18891"
      ]
     },
     "execution_count": 26,
     "metadata": {},
     "output_type": "execute_result"
    }
   ],
   "source": [
    "df_nat_sub_g = df.groupby(['NATUREZA1_DESCRICAO','SUBCATEGORIA1_DESCRICAO']).size().reset_index(name='OCORRENCIAS')\n",
    "df_nat_sub_g = df_nat_sub_g.sort_values('OCORRENCIAS')\n",
    "df_nat_sub_g = df_nat_sub_g[df_nat_sub_g['OCORRENCIAS'] > 6000]\n",
    "df_nat_sub_g"
   ]
  },
  {
   "cell_type": "markdown",
   "metadata": {},
   "source": [
    "Geramos um grafico para comparar as 3 variaveis"
   ]
  },
  {
   "cell_type": "code",
   "execution_count": 27,
   "metadata": {},
   "outputs": [
    {
     "data": {
      "text/plain": [
       "<matplotlib.axes._subplots.AxesSubplot at 0x7f764e1b9cc0>"
      ]
     },
     "execution_count": 27,
     "metadata": {},
     "output_type": "execute_result"
    },
    {
     "data": {
      "image/png": "[encoded data removed]",
      "text/plain": [
       "<Figure size 432x288 with 1 Axes>"
      ]
     },
     "metadata": {
      "needs_background": "light"
     },
     "output_type": "display_data"
    }
   ],
   "source": [
    "from pandas.plotting import parallel_coordinates\n",
    "\n",
    "ax = parallel_coordinates(df_nat_sub_g[['NATUREZA1_DESCRICAO','SUBCATEGORIA1_DESCRICAO','OCORRENCIAS']],'OCORRENCIAS', colormap='winter')\n",
    "ax"
   ]
  },
  {
   "cell_type": "code",
   "execution_count": null,
   "metadata": {},
   "outputs": [],
   "source": []
  }
 ],
 "metadata": {
  "kernelspec": {
   "display_name": "Python 3",
   "language": "python",
   "name": "python3"
  },
  "language_info": {
   "codemirror_mode": {
    "name": "ipython",
    "version": 3
   },
   "file_extension": ".py",
   "mimetype": "text/x-python",
   "name": "python",
   "nbconvert_exporter": "python",
   "pygments_lexer": "ipython3",
   "version": "3.6.7"
  }
 },
 "nbformat": 4,
 "nbformat_minor": 2
}
